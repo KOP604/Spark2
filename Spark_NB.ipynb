{
 "cells": [
  {
   "cell_type": "markdown",
   "metadata": {
    "colab_type": "text",
    "id": "N0YuDUeiub2f"
   },
   "source": [
    "### Spark on Google Colab"
   ]
  },
  {
   "cell_type": "code",
   "execution_count": 0,
   "metadata": {
    "colab": {
     "base_uri": "https://localhost:8080/",
     "height": 52
    },
    "colab_type": "code",
    "id": "f6pOXxzAnRC-",
    "outputId": "bc7f6ea4-e6f9-4a48-b7e8-730a356e4b8c"
   },
   "outputs": [
    {
     "name": "stdout",
     "output_type": "stream",
     "text": [
      "Oscars.csv   spark-2.3.4-bin-hadoop2.7\t    spark-warehouse\n",
      "sample_data  spark-2.3.4-bin-hadoop2.7.tgz\n"
     ]
    }
   ],
   "source": [
    "!ls\n"
   ]
  },
  {
   "cell_type": "code",
   "execution_count": 0,
   "metadata": {
    "colab": {},
    "colab_type": "code",
    "collapsed": true,
    "id": "3f45Vn9g3BnM"
   },
   "outputs": [],
   "source": [
    "#Install JAVA, SPARK, HADOOP\n",
    "!apt-get install openjdk-8-jdk-headless -qq > /dev/null\n",
    "!wget -q http://www-eu.apache.org/dist/spark/spark-2.3.4/spark-2.3.4-bin-hadoop2.7.tgz\n",
    "!tar xf spark-2.3.4-bin-hadoop2.7.tgz\n",
    "!pip install -q findspark"
   ]
  },
  {
   "cell_type": "code",
   "execution_count": 0,
   "metadata": {
    "colab": {},
    "colab_type": "code",
    "collapsed": true,
    "id": "JJEUdAJZ7TWe"
   },
   "outputs": [],
   "source": [
    "#establish Spark session\n",
    "import os\n",
    "os.environ[\"JAVA_HOME\"] = \"/usr/lib/jvm/java-8-openjdk-amd64\"\n",
    "os.environ[\"SPARK_HOME\"] = \"/content/spark-2.3.4-bin-hadoop2.7\"\n",
    "\n",
    "import findspark\n",
    "findspark.init(\"spark-2.3.4-bin-hadoop2.7\")\n",
    "\n",
    "from pyspark.sql import SparkSession\n",
    "spark = SparkSession.builder.master(\"local[*]\").getOrCreate()"
   ]
  },
  {
   "cell_type": "code",
   "execution_count": 0,
   "metadata": {
    "colab": {},
    "colab_type": "code",
    "collapsed": true,
    "id": "5VKAjfNK4QhG"
   },
   "outputs": [],
   "source": [
    "# import Python modules\n",
    "import pandas as pd\n",
    "import numpy as np\n",
    "import datetime as dt"
   ]
  },
  {
   "cell_type": "code",
   "execution_count": 0,
   "metadata": {
    "colab": {
     "base_uri": "https://localhost:8080/",
     "height": 113,
     "resources": {
      "http://localhost:8080/nbextensions/google.colab/files.js": {
       "data": "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",
       "headers": [
        [
         "content-type",
         "application/javascript"
        ]
       ],
       "ok": true,
       "status": 200,
       "status_text": ""
      }
     }
    },
    "colab_type": "code",
    "id": "0zYe4HqNvhmd",
    "outputId": "74ccd2da-ad02-462f-dd3c-edb45b3e37e4"
   },
   "outputs": [
    {
     "data": {
      "text/html": [
       "\n",
       "     <input type=\"file\" id=\"files-77e83c58-b1ca-407a-a056-4620041d7646\" name=\"files[]\" multiple disabled />\n",
       "     <output id=\"result-77e83c58-b1ca-407a-a056-4620041d7646\">\n",
       "      Upload widget is only available when the cell has been executed in the\n",
       "      current browser session. Please rerun this cell to enable.\n",
       "      </output>\n",
       "      <script src=\"/nbextensions/google.colab/files.js\"></script> "
      ],
      "text/plain": [
       "<IPython.core.display.HTML object>"
      ]
     },
     "metadata": {
      "tags": []
     },
     "output_type": "display_data"
    },
    {
     "name": "stdout",
     "output_type": "stream",
     "text": [
      "Saving Oscars.csv to Oscars.csv\n"
     ]
    },
    {
     "data": {
      "text/plain": [
       "{'Oscars.csv': b'_unit_id,_golden,_unit_state,_trusted_judgments,_last_judgment_at,birthplace,birthplace:confidence,date_of_birth,date_of_birth:confidence,race_ethnicity,race_ethnicity:confidence,religion,religion:confidence,sexual_orientation,sexual_orientation:confidence,year_of_award,year_of_award:confidence,award,biourl,birthplace_gold,date_of_birth_gold,movie,person,race_ethnicity_gold,religion_gold,sexual_orientation_gold,year_of_award_gold\\r670454353,FALSE,finalized,3,2/10/15 3:45,\"Chisinau, Moldova\",1,30-Sep-1895,1,White,1,Na,1,Straight,1,1927,1,Best Director,http://www.nndb.com/people/320/000043191/,,,Two Arabian Knights,Lewis Milestone,,,,\\r670454354,FALSE,finalized,3,2/10/15 2:03,\"Glasgow, Scotland\",1,2-Feb-1886,1,White,1,Na,1,Straight,0.6842,1930,1,Best Director,http://www.nndb.com/people/626/000042500/,,,The Divine Lady,Frank Lloyd,,,,\\r670454355,FALSE,finalized,3,2/10/15 2:05,\"Chisinau, Moldova\",1,30-Sep-1895,1,White,1,Na,1,Straight,1,1931,0.6667,Best Director,http://www.nndb.com/people/320/000043191/,,,All Quiet on the Western Front,Lewis Milestone,,,,\\r670454356,FALSE,finalized,3,2/10/15 2:04,\"Chicago, Il\",1,23-Feb-1899,1,White,1,Na,1,Straight,1,1932,1,Best Director,http://www.nndb.com/people/544/000041421/,,,Skippy,Norman Taurog,,,,\\r670454357,FALSE,finalized,3,2/10/15 1:48,\"Salt Lake City, Ut\",1,23-Apr-1894,1,White,1,Roman Catholic,1,Straight,1,1933,1,Best Director,http://www.nndb.com/people/292/000044160/,,,Bad Girl,Frank Borzage,,,,\\r670454358,FALSE,finalized,3,2/10/15 3:50,\"Glasgow, Scotland\",1,2-Feb-1886,1,White,1,Na,1,Straight,1,1934,1,Best Director,http://www.nndb.com/people/626/000042500/,,,Cavalcade,Frank Lloyd,,,,\\r670454359,FALSE,finalized,3,2/10/15 2:07,\"Bisacquino, Sicily, Italy\",1,18-May-1897,1,White,1,Roman Catholic,1,Straight,1,1935,1,Best Director,http://www.nndb.com/people/459/000032363/,,,It Happened One Night,Frank Capra,,,,\\r670454360,FALSE,finalized,3,2/10/15 1:46,\"Cape Elizabeth, Me\",1,1-Feb-1894,1,White,1,Roman Catholic,1,Bisexual,1,1936,1,Best Director,http://www.nndb.com/people/458/000032362/,,,The Informer,John Ford,,,,\\r670454361,FALSE,finalized,3,2/10/15 1:47,\"Bisacquino, Sicily, Italy\",1,18-May-1897,1,White,1,Roman Catholic,1,Straight,1,1937,1,Best Director,http://www.nndb.com/people/459/000032363/,,,Mr. Deeds Goes to Town,Frank Capra,,,,\\r670454362,FALSE,finalized,3,2/10/15 2:05,\"Los Angeles, Ca\",1,3-Oct-1898,1,White,1,Na,1,Straight,1,1938,1,Best Director,http://www.nndb.com/people/380/000044248/,,,The Awful Truth,Leo McCarey,,,,\\r670454363,FALSE,finalized,3,2/10/15 2:04,\"Bisacquino, Sicily, Italy\",1,18-May-1897,1,White,1,Roman Catholic,1,Straight,1,1939,1,Best Director,http://www.nndb.com/people/459/000032363/,,,You Can\\'t Take It with You,Frank Capra,,,,\\r670454364,FALSE,finalized,3,2/10/15 2:10,\"Pasadena, Ca\",1,23-Feb-1883,1,White,1,Na,1,Straight,1,1940,1,Best Director,http://www.nndb.com/people/416/000041293/,,,Gone with the Wind,Victor Fleming,,,,\\r670454365,FALSE,finalized,3,2/10/15 2:12,\"Cape Elizabeth, Me\",1,1-Feb-1894,1,White,1,Roman Catholic,1,Bisexual,1,1941,1,Best Director,http://www.nndb.com/people/458/000032362/,,,The Grapes of Wrath,John Ford,,,,\\r670454366,FALSE,finalized,3,2/10/15 2:02,\"Cape Elizabeth, Me\",1,1-Feb-1894,1,White,1,Roman Catholic,1,Bisexual,1,1942,1,Best Director,http://www.nndb.com/people/458/000032362/,,,How Green Was My Valley,John Ford,,,,\\r670454367,FALSE,finalized,3,2/10/15 3:57,\"Mulhouse, Haut-Rhin, Alsace, France\",1,1-Jul-1902,1,White,1,Na,1,Straight,1,1943,1,Best Director,http://www.nndb.com/people/463/000032367/,,,Mrs. Miniver,William Wyler,,,,\\r670454368,FALSE,finalized,3,2/10/15 2:02,\"Budapest, Hungary\",1,24-Dec-1886,1,White,1,Na,1,Straight,1,1944,1,Best Director,http://www.nndb.com/people/676/000032580/,,,Casablanca,Michael Curtiz,,,,\\r670454369,FALSE,finalized,3,2/10/15 2:29,\"Los Angeles, Ca\",1,3-Oct-1898,1,White,1,Na,1,Straight,1,1945,1,Best Director,http://www.nndb.com/people/380/000044248/,,,Going My Way,Leo McCarey,,,,\\r670454370,FALSE,finalized,3,2/10/15 1:55,New York City,1,11-Oct-18,1,White,1,Jewish,1,Gay,1,1962,1,Best Director,http://www.nndb.com/people/281/000064089/,,,West Side Story,Jerome Robbins,,,,\\r670454371,FALSE,finalized,3,2/10/15 4:02,\"Sucha, Galicia, Austria\",0.6667,22-Jun-06,1,White,1,Jewish,1,Straight,1,1946,1,Best Director,http://www.nndb.com/people/982/000024910/,,,The Lost Weekend,Billy Wilder,,,,\\r670454372,FALSE,finalized,3,2/10/15 2:12,\"Mulhouse, Haut-Rhin, Alsace, France\",1,1-Jul-1902,1,White,1,Na,1,Straight,1,1947,1,Best Director,http://www.nndb.com/people/463/000032367/,,,The Best Years of Our Lives,William Wyler,,,,\\r670454373,FALSE,finalized,3,2/10/15 1:46,\"Istanbul, Turkey\",1,7-Sep-09,1,White,1,Na,1,Straight,1,1948,1,Best Director,http://www.nndb.com/people/537/000026459/,,,Gentleman\\'s Agreement,Elia Kazan,,,,\\r670454374,TRUE,golden,82,,\"Nevada, Mo\",1,5-Aug-06,1,White,1,Na,1,Straight,1,1949,1,Best Director,http://www.nndb.com/people/704/000024632/,,5-Aug-06,The Treasure of the Sierra Madre,John Huston,,,,\\r670454375,FALSE,finalized,3,2/10/15 3:50,\"Wilkes-Barre, Pa\",1,11-Feb-09,1,White,1,Jewish,1,Straight,1,1950,1,Best Director,http://www.nndb.com/people/723/000032627/,,,A Letter to Three Wives,Joseph L. Mankiewicz,,,,\\r670454376,FALSE,finalized,3,2/10/15 1:51,\"Wilkes-Barre, Pa\",1,11-Feb-09,1,White,1,Jewish,1,Straight,1,1951,1,Best Director,http://www.nndb.com/people/723/000032627/,,,All About Eve,Joseph L. Mankiewicz,,,,\\r670454377,FALSE,finalized,3,2/10/15 2:15,\"Oakland, Ca\",1,18-Dec-04,1,White,1,Na,1,Straight,1,1952,1,Best Director,http://www.nndb.com/people/382/000044250/,,,A Place in the Sun,George Stevens,,,,\\r670454378,FALSE,finalized,3,2/10/15 2:15,\"Cape Elizabeth, Me\",1,1-Feb-1894,1,White,1,Roman Catholic,1,Bisexual,1,1953,1,Best Director,http://www.nndb.com/people/458/000032362/,,,The Quiet Man,John Ford,,,,\\r670454379,FALSE,finalized,3,2/10/15 1:57,\"Vienna, Austria\",1,29-Apr-07,1,White,1,Jewish,1,Straight,1,1954,1,Best Director,http://www.nndb.com/people/538/000032442/,,,From Here to Eternity,Fred Zinnemann,,,,\\r670454380,FALSE,finalized,3,2/10/15 3:50,\"Istanbul, Turkey\",1,7-Sep-09,1,White,1,Na,1,Straight,1,1955,1,Best Director,http://www.nndb.com/people/537/000026459/,,,On the Waterfront,Elia Kazan,,,,\\r670454381,FALSE,finalized,3,2/10/15 3:53,\"Lawrence, Ks\",1,30-Jan-20,1,White,1,Presbyterian,1,Straight,1,1956,1,Best Director,http://www.nndb.com/people/384/000044252/,,,Marty,Delbert Mann,,,,\\r670454382,FALSE,finalized,3,2/10/15 3:50,\"Oakland, Ca\",1,18-Dec-04,1,White,1,Na,1,Straight,1,1957,1,Best Director,http://www.nndb.com/people/382/000044250/,,,Giant,George Stevens,,,,\\r670454383,FALSE,finalized,3,2/10/15 2:07,\"Croydon, Surrey, England\",0.6667,25-Mar-08,1,White,1,Na,1,Straight,0.6667,1958,1,Best Director,http://www.nndb.com/people/462/000032366/,,,The Bridge on the River Kwai,David Lean,,,,\\r670454384,FALSE,finalized,3,2/10/15 1:52,\"Chicago, Il\",1,28-Feb-1903,1,White,1,Na,1,Bisexual,1,1959,1,Best Director,http://www.nndb.com/people/825/000032729/,,,Gigi,Vincente Minnelli,,,,\\r670454385,FALSE,finalized,3,2/10/15 1:55,\"Mulhouse, Haut-Rhin, Alsace, France\",1,1-Jul-1902,1,White,1,Na,1,Straight,1,1960,1,Best Director,http://www.nndb.com/people/463/000032367/,,,Ben-Hur,William Wyler,,,,\\r670454386,TRUE,golden,87,,\"Sucha, Galicia, Austria\",1,22-Jun-06,1,White,1,Jewish,0.963,Straight,1,1961,1,Best Director,http://www.nndb.com/people/982/000024910/,\"Sucha, Galicia, Austria\",22-Jun-06,The Apartment,Billy Wilder,,Jewish,,1961\\r670454387,FALSE,finalized,3,2/10/15 1:55,\"Winchester, In\",1,10-Sep-14,1,White,1,Na,1,Straight,1,1961,0.6667,Best Director,http://www.nndb.com/people/460/000032364/,,,West Side Story,Robert Wise,,,,\\r670454388,FALSE,finalized,3,2/10/15 2:05,\"Croydon, Surrey, England\",1,25-Mar-08,1,White,1,Na,1,Straight,1,1963,1,Best Director,http://www.nndb.com/people/462/000032366/,,,Lawrence of Arabia,David Lean,,,,\\r670454389,FALSE,finalized,3,2/10/15 1:57,\"Shipley, Yorkshire, England\",1,5-Jun-28,1,White,1,Na,1,Bisexual,1,1964,1,Best Director,http://www.nndb.com/people/249/000043120/,,,Tom Jones,Tony Richardson,,,,\\r670454390,FALSE,finalized,3,2/10/15 1:52,New York City,1,7-Jul-1899,1,White,1,Na,0.6571,Gay,0.6571,1965,1,Best Director,http://www.nndb.com/people/373/000041250/,,,My Fair Lady,George Cukor,,,,\\r670454391,FALSE,finalized,3,2/10/15 1:51,\"Winchester, In\",1,10-Sep-14,1,White,1,Na,1,Straight,1,1966,1,Best Director,http://www.nndb.com/people/460/000032364/,,,The Sound of Music,Robert Wise,,,,\\r670454392,FALSE,finalized,3,2/10/15 2:06,\"Vienna, Austria\",1,29-Apr-07,1,White,1,Jewish,1,Straight,1,1967,1,Best Director,http://www.nndb.com/people/538/000032442/,,,A Man for All Seasons,Fred Zinnemann,,,,\\r670454393,FALSE,finalized,3,2/10/15 2:13,\"Berlin, Germany\",1,6-Nov-31,1,White,1,Jewish,1,Straight,1,1968,1,Best Director,http://www.nndb.com/people/455/000023386/,,,The Graduate,Mike Nichols,,,,\\r670454394,FALSE,finalized,3,2/10/15 3:56,\"St. Louis Park, Mn\",1,29-Nov-54,1,White,1,Jewish,1,Straight,1,2008,1,Best Director,http://www.nndb.com/people/399/000025324/,,,No Country for Old Men,Joel Coen,,,,\\r670454395,FALSE,finalized,3,2/10/15 2:29,\"London, England\",1,30-Dec-06,1,White,1,Na,1,Straight,1,1969,1,Best Director,http://www.nndb.com/people/290/000064098/,,,Oliver!,Carol Reed,,,,\\r670454396,FALSE,finalized,3,2/10/15 2:01,\"London, England\",1,16-Feb-26,1,White,1,Na,1,Gay,1,1969,1,Best Director,http://www.nndb.com/people/771/000032675/,,,Midnight Cowboy,John Schlesinger,,,,\\r670454397,FALSE,finalized,3,2/10/15 3:56,\"Tokyo, Japan\",1,30-May-20,1,White,1,Na,1,Straight,1,1970,1,Best Director,http://www.nndb.com/people/509/000032413/,,,Patton,Franklin J. Schaffner,,,,\\r670454398,FALSE,finalized,3,2/10/15 2:11,\"Chicago, Il\",1,29-Aug-35,1,White,1,Jewish,1,Straight,1,1972,1,Best Director,http://www.nndb.com/people/112/000024040/,,,The French Connection,William Friedkin,,,,\\r670454399,FALSE,finalized,3,2/10/15 1:51,\"Chicago, Il\",1,23-Jun-27,1,White,1,Na,1,Straight,1,1973,1,Best Director,http://www.nndb.com/people/159/000032063/,,,Cabaret,Bob Fosse,,,,\\r670454400,FALSE,finalized,3,2/10/15 2:05,\"Minneapolis, Mn\",1,20-Dec-21,1,White,1,Na,1,Straight,1,1973,1,Best Director,http://www.nndb.com/people/783/000032687/,,,The Sting,George Roy Hill,,,,\\r670454401,FALSE,finalized,3,2/10/15 2:15,\"Detroit, Mi\",1,7-Apr-39,1,White,1,Na,1,Straight,1,1975,1,Best Director,http://www.nndb.com/people/866/000022800/,,,The Godfather Part II,Francis Ford Coppola,,,,\\r670454402,FALSE,finalized,3,2/10/15 1:59,\"C\\xcc\\xc1slav, Czechoslovakia\",1,18-Feb-32,1,White,1,Na,1,Straight,1,1976,1,Best Director,http://www.nndb.com/people/622/000023553/,,,One Flew over the Cuckoo\\'s Nest,Milos Forman,,,,\\r670454403,FALSE,finalized,3,2/10/15 2:06,\"Oak Park, Il\",1,21-Dec-35,1,White,1,Na,1,Straight,1,1976,0.6667,Best Director,http://www.nndb.com/people/679/000032583/,,,Rocky,John G. Avildsen,,,,\\r670454404,FALSE,finalized,3,2/10/15 2:14,\"Brooklyn, Ny\",1,1-Dec-35,1,White,1,Jewish,1,Straight,1,1978,1,Best Director,http://www.nndb.com/people/501/000022435/,,,Annie Hall,Woody Allen,,,,\\r670454405,TRUE,golden,75,,New York City,1,3-Feb-39,0.9597,White,1,Na,1,Straight,1,1979,0.7227,Best Director,http://www.nndb.com/people/810/000043681/,New York City,,The Deer Hunter,Michael Cimino,,,,\\r670454406,FALSE,finalized,3,2/10/15 4:02,\"Waxahachie, Tx\",1,29-Sep-32,1,White,1,Na,1,Straight,1,1980,1,Best Director,http://www.nndb.com/people/267/000064075/,,,Kramer vs. Kramer,Robert Benton,,,,\\r670454407,FALSE,finalized,3,2/10/15 4:07,\"Santa Monica, Ca\",1,18-Aug-1936 [1],0.6562,White,1,Na,1,Straight,1,1980,1,Best Director,http://www.nndb.com/people/795/000022729/,,,Ordinary People,Robert Redford,,,,\\r670454408,FALSE,finalized,3,2/10/15 1:43,\"Richmond, Va\",1,30-Mar-37,1,White,1,Baptist,1,Straight,1,1981,1,Best Director,http://www.nndb.com/people/719/000022653/,,,Reds,Warren Beatty,,,,\\r670454409,FALSE,finalized,3,2/10/15 2:00,\"Cambridge, England\",1,29-Aug-23,1,White,1,Na,1,Straight,1,1982,1,Best Director,http://www.nndb.com/people/750/000023681/,,,Gandhi,Richard Attenborough,,,,\\r670454410,FALSE,finalized,3,2/10/15 2:12,\"North Bergen, Nj\",1,9-May-40,1,White,1,Na,1,Straight,1,1983,0.6667,Best Director,http://www.nndb.com/people/209/000024137/,,,Terms of Endearment,James L. Brooks,,,,\\r670454411,FALSE,finalized,3,2/10/15 2:12,\"C\\xcc\\xc1slav, Czechoslovakia\",1,18-Feb-32,1,White,1,Na,1,Straight,1,1985,1,Best Director,http://www.nndb.com/people/622/000023553/,,,Amadeus,Milos Forman,,,,\\r670454412,FALSE,finalized,3,2/10/15 1:52,\"Lafayette, In\",1,1-Jul-34,1,White,1,Jewish,1,Straight,1,1986,1,Best Director,http://www.nndb.com/people/772/000023703/,,,Out of Africa,Sydney Pollack,,,,\\r670454413,FALSE,finalized,3,2/10/15 2:18,New York City,1,15-Sep-46,1,White,1,Atheist,1,Straight,1,1990,0.3333,Best Director,http://www.nndb.com/people/545/000022479/,,,Platoon,Oliver Stone,,,,\\r670454414,FALSE,finalized,3,2/10/15 2:05,\"Parma, Emilia-Romagna, Italy\",1,16-Mar-41,1,White,1,Na,1,Straight,1,1988,1,Best Director,http://www.nndb.com/people/268/000024196/,,,The Last Emperor,Bernardo Bertolucci,,,,\\r670454415,FALSE,finalized,3,2/10/15 1:51,\"Baltimore, Md\",1,6-Apr-42,1,White,1,Jewish,0.6667,Straight,1,1989,1,Best Director,http://www.nndb.com/people/748/000023679/,,,Rain Man,Barry Levinson,,,,\\r670454416,FALSE,finalized,3,2/10/15 2:07,New York City,1,15-Sep-46,1,White,1,Atheist,1,Straight,1,1990,1,Best Director,http://www.nndb.com/people/545/000022479/,,,Born on the Fourth of July,Oliver Stone,,,,\\r670454417,FALSE,finalized,3,2/10/15 1:55,\"Lynwood, Ca\",1,18-Jan-55,1,White,1,Baptist,1,Straight,1,1991,1,Best Director,http://www.nndb.com/people/758/000022692/,,,Dances with Wolves,Kevin Costner,,,,\\r670454418,FALSE,finalized,3,2/10/15 2:11,\"Baldwin, Ny\",1,22-Feb-44,1,White,1,Na,1,Straight,1,1992,1,Best Director,http://www.nndb.com/people/578/000024506/,,,The Silence of the Lambs,Jonathan Demme,,,,\\r670454419,FALSE,finalized,3,2/10/15 1:55,\"San Francisco, Ca\",1,31-May-30,1,White,1,Na,1,Straight,1,1993,1,Best Director,http://www.nndb.com/people/849/000022783/,,,Unforgiven,Clint Eastwood,,,,\\r670454420,FALSE,finalized,3,2/10/15 3:48,\"Cincinnati, Oh\",1,18-Dec-46,1,White,1,Jewish,1,Straight,1,1994,1,Best Director,http://www.nndb.com/people/734/000022668/,,,Schindler\\'s List,Steven Spielberg,,,,\\r670454421,FALSE,finalized,3,2/10/15 2:14,\"Chicago, Il\",1,14-May-52,1,White,1,Roman Catholic,1,Straight,1,1995,0.6923,Best Director,http://www.nndb.com/people/224/000025149/,,,Forrest Gump,Robert Zemeckis,,,,\\r670454422,FALSE,finalized,3,2/10/15 2:11,\"Peekskill, Ny\",1,3-Jan-56,1,White,1,Roman Catholic,1,Straight,1,1996,1,Best Director,http://www.nndb.com/people/583/000022517/,,,Braveheart,Mel Gibson,,,,\\r670454423,FALSE,finalized,3,2/10/15 2:19,\"Ryde, Isle of Wight, England\",1,6-Jan-54,1,White,1,Na,1,Straight,1,1997,1,Best Director,http://www.nndb.com/people/513/000032417/,,,The English Patient,Anthony Minghella,,,,\\r670454424,FALSE,finalized,3,2/10/15 1:53,\"Kapuskasing, Ontario, Canada\",1,16-Aug-54,1,White,1,Atheist,0.6667,Straight,1,1998,1,Best Director,http://www.nndb.com/people/385/000025310/,,,Titanic,James Cameron,,,,\\r670454425,FALSE,finalized,3,2/10/15 3:55,\"Cincinnati, Oh\",1,18-Dec-46,1,White,1,Jewish,1,Straight,1,1999,1,Best Director,http://www.nndb.com/people/734/000022668/,,,Saving Private Ryan,Steven Spielberg,,,,\\r670454426,FALSE,finalized,3,2/10/15 3:45,\"Reading, Berkshire, England\",1,1-Aug-65,1,White,1,Na,1,Straight,1,2000,1,Best Director,http://www.nndb.com/people/059/000025981/,,,American Beauty,Sam Mendes,,,,\\r670454427,FALSE,finalized,3,2/10/15 2:00,\"Atlanta, Ga\",1,14-Jan-63,1,White,1,Atheist,1,Straight,1,2001,1,Best Director,http://www.nndb.com/people/907/000025832/,,,Traffic,Steven Soderbergh,,,,\\r670454428,FALSE,finalized,3,2/10/15 3:51,\"Duncan, Ok\",1,1-Mar-54,1,White,1,Na,1,Straight,1,2002,1,Best Director,http://www.nndb.com/people/365/000025290/,,,A Beautiful Mind,Ron Howard,,,,\\r670454429,FALSE,finalized,3,2/10/15 2:04,\"Paris, France\",1,18-Aug-33,1,White,1,See Note,0.3333,Straight,1,2003,1,Best Director,http://www.nndb.com/people/541/000023472/,,,The Pianist,Roman Polanski,,,,\\r670454430,FALSE,finalized,3,2/10/15 2:09,\"Wellington, New Zealand\",1,31-Oct-61,1,White,1,Na,1,Straight,1,2004,1,Best Director,http://www.nndb.com/people/848/000025773/,,,The Lord of the Rings: Return of the King,Peter Jackson,,,,\\r670454431,FALSE,finalized,3,2/10/15 2:00,\"San Francisco, Ca\",1,31-May-30,1,White,1,Na,1,Straight,1,2005,1,Best Director,http://www.nndb.com/people/849/000022783/,,,Million Dollar Baby,Clint Eastwood,,,,\\r670454432,FALSE,finalized,3,2/10/15 2:09,\"Pingtung, Taiwan\",1,23-Oct-54,1,Asian,1,Na,1,Straight,1,2006,1,Best Director,http://www.nndb.com/people/394/000025319/,,,Brokeback Mountain,Ang Lee,,,,\\r670454433,FALSE,finalized,3,2/10/15 1:43,\"Flushing, Ny\",1,17-Nov-42,1,White,1,Roman Catholic,1,Straight,1,2007,1,Best Director,http://www.nndb.com/people/678/000022612/,,,The Departed,Martin Scorsese,,,,\\r670454434,FALSE,finalized,3,2/10/15 2:05,\"St. Louis Park, Mn\",1,21-Sep-57,1,White,1,Jewish,1,Straight,1,2008,1,Best Director,http://www.nndb.com/people/400/000025325/,,,No Country for Old Men,Ethan Coen,,,,\\r670454435,TRUE,golden,81,,\"Manchester, England\",1,20-Oct-56,1,White,1,Roman Catholic,0.9624,Straight,1,2009,0.9643,Best Director,http://www.nndb.com/people/887/000044755/,,,Slumdog Millionaire,Danny Boyle,,Roman Catholic,,\\r670454436,FALSE,finalized,3,2/10/15 1:46,\"San Carlos, Ca\",1,27-Nov-51,1,White,1,Na,1,Straight,1,2009,1,Best Director,http://www.nndb.com/people/837/000079600/,,,The Hurt Locker,Kathryn Bigelow,,,,\\r670454437,FALSE,finalized,3,2/10/15 1:56,\"London, England\",1,1972,1,White,1,Na,1,Na,1,2011,1,Best Director,http://www.nndb.com/people/093/000268286/,,,The King\\'s Speech,Tom Hooper,,,,\\r670454438,FALSE,finalized,3,2/10/15 3:57,\"Paris, France\",1,29-Mar-67,1,White,1,Jewish,1,Straight,1,2012,1,Best Director,http://www.nndb.com/people/302/000281456/,,,The Artist,Michel Hazanavicius,,,,\\r670454439,FALSE,finalized,3,2/10/15 2:04,\"Pingtung, Taiwan\",1,23-Oct-54,1,Asian,1,Na,1,Straight,1,2013,1,Best Director,http://www.nndb.com/people/394/000025319/,,,Life of Pi,Ang Lee,,,,\\r670454440,FALSE,finalized,3,2/10/15 2:04,\"Rorschach, Switzerland\",1,23-Jul-1884,1,White,1,Na,1,Bisexual,1,1929,1,Best Actor,http://www.nndb.com/people/738/000063549/,,,The Last Command,Emil Jannings,,,,\\r670454441,FALSE,finalized,3,2/10/15 1:58,\"Columbus, Oh\",1,29-Mar-1889,1,White,1,Na,1,Straight,1,1930,1,Best Actor,http://www.nndb.com/people/739/000063550/,,,In Old Arizona,Warner Baxter,,,,\\r670454442,FALSE,finalized,3,2/10/15 2:41,\"London, England\",1,10-Apr-1868,1,White,1,Na,0.6897,Straight,1,1930,1,Best Actor,http://www.nndb.com/people/740/000063551/,,,Desraeli,George Arliss,,,,\\r670454443,FALSE,finalized,3,2/10/15 2:04,\"Philadelphia, Pa\",1,28-Apr-1878,1,White,1,Roman Catholic,1,Straight,1,1931,1,Best Actor,http://www.nndb.com/people/741/000043612/,,,A Free Soul,Lionel Barrymore,,,,\\r670454444,FALSE,finalized,3,2/10/15 1:59,\"Kansas City, Mo\",1,1-Apr-1885,1,White,1,Na,1,Straight,1,1932,1,Best Actor,http://www.nndb.com/people/976/000043847/,,,The Champ,Wallace Beery,,,,\\r670454445,FALSE,finalized,3,2/10/15 2:19,\"Victoria Hotel, Scarborough, Yorkshire, England\",1,1-Jul-1899,1,White,1,Roman Catholic,1,Gay,1,1934,1,Best Actor,http://www.nndb.com/people/884/000042758/,,,The Private Life of Henry VIII,Charles Laughton,,,,\\r670454446,FALSE,finalized,3,2/10/15 2:08,\"Cadiz, Oh\",1,1-Feb-1901,1,White,1,Na,1,Straight,1,1935,1,Best Actor,http://www.nndb.com/people/156/000027075/,,,It Happened One Night,Clark Gable,,,,\\r670454447,FALSE,finalized,3,2/10/15 2:05,\"Tunbridge Wells, Kent, England\",1,11-Dec-1883,1,White,1,Anglican/episcopalian,1,Straight,1,1936,1,Best Actor,http://www.nndb.com/people/452/000047311/,,,The Informer,Victor McLaglen,,,,\\r670454448,FALSE,finalized,3,2/10/15 2:06,\"Lviv, Ukraine\",1,22-Sep-1895,1,White,1,Jewish,1,Straight,1,1937,1,Best Actor,http://www.nndb.com/people/741/000063552/,,,The Story of Louis Pasteur,Paul Muni,,,,\\r670454449,FALSE,finalized,3,2/10/15 4:07,\"Milwaukee, Wi\",1,5-Apr-1900,1,White,1,Roman Catholic,1,Straight,1,1938,1,Best Actor,http://www.nndb.com/people/979/000024907/,,,Captains Courageous,Spencer Tracy,,,,\\r670454450,FALSE,finalized,3,2/10/15 2:06,\"Milwaukee, Wi\",1,5-Apr-1900,1,White,1,Roman Catholic,1,Straight,1,1939,1,Best Actor,http://www.nndb.com/people/979/000024907/,,,Boys Town,Spencer Tracy,,,,\\r670454451,FALSE,finalized,3,2/10/15 2:00,\"Withington, Manchester, England\",1,18-Mar-05,1,White,1,Na,1,Straight,1,1940,1,Best Actor,http://www.nndb.com/people/742/000063553/,,,Goodbye Mr. Chips,Robert Donat,,,,\\r670454452,FALSE,finalized,3,2/10/15 2:12,\"Indiana, Pa\",1,20-May-08,1,White,1,Presbyterian,1,Straight,1,1941,1,Best Actor,http://www.nndb.com/people/659/000026581/,,,The Philadelphia Story,Jimmy Stewart,,,,\\r670454453,FALSE,finalized,3,2/10/15 3:48,\"Helena, Mt\",1,7-May-1901,1,White,1,Roman Catholic,1,Straight,1,1942,1,Best Actor,http://www.nndb.com/people/740/000031647/,,,Sergeant York,Gary Cooper,,,,\\r670454454,FALSE,finalized,3,2/10/15 1:51,\"Manhattan, Ny\",1,17-Jul-1899,1,White,1,Roman Catholic,1,Straight,1,1943,1,Best Actor,http://www.nndb.com/people/798/000024726/,,,Yankee Doodle Dandy,James Cagney,,,,\\r670454455,FALSE,finalized,3,2/10/15 2:05,\"Budapest, Hungary\",1,26-May-1887,1,White,1,Na,1,Straight,1,1944,1,Best Actor,http://www.nndb.com/people/713/000042587/,,,Watch on the Rhine,Paul Lukas,,,,\\r670454456,FALSE,finalized,3,2/10/15 2:03,\"Tacoma, Wa\",1,3-May-1903,1,White,1,Roman Catholic,0.6667,Straight,1,1945,1,Best Actor,http://www.nndb.com/people/651/000026573/,,,Going My Way,Bing Crosby,,,,\\r670454457,FALSE,finalized,3,2/10/15 2:41,\"Neath, Wales\",1,3-Jan-07,1,White,1,Na,0.6897,Straight,1,1946,0.6897,Best Actor,http://www.nndb.com/people/814/000042688/,,,The Lost Weekend,Ray Milland,,,,\\r670454458,FALSE,finalized,3,2/10/15 1:59,\"Racine, Wi\",1,31-Aug-1897,1,White,1,Na,1,Straight,1,1947,1,Best Actor,http://www.nndb.com/people/255/000043126/,,,The Best Years of Our Lives,Fredric March,,,,\\r670454459,FALSE,finalized,3,2/10/15 2:02,\"Richmond, Surrey, England\",1,9-Feb-1891,1,White,1,Na,1,Straight,1,1948,1,Best Actor,http://www.nndb.com/people/619/000042493/,,,A Double Life,Ronald Colman,,,,\\r670454460,FALSE,finalized,3,2/10/15 2:03,\"Dorking, Surrey, England\",1,22-May-07,1,White,1,Na,1,Bisexual,1,1949,1,Best Actor,http://www.nndb.com/people/607/000022541/,,,Hamlet,Laurence Olivier,,,,\\r670454461,FALSE,finalized,3,2/10/15 4:06,\"Philadelphia, Pa\",1,9-Dec-11,1,White,1,Na,1,Straight,1,1950,1,Best Actor,http://www.nndb.com/people/744/000063555/,,,All The King\\'s Men,Broderick Crawford,,,,\\r670454462,FALSE,finalized,3,2/10/15 1:53,\"Santurce, Puerto Rico\",1,8-Jan-09,1,Hispanic,1,Na,1,Straight,1,1951,1,Best Actor,http://www.nndb.com/people/311/000026233/,,,Cyrano de Bergerac,Jose Ferrer,,,,\\r670454463,FALSE,finalized,3,2/10/15 2:05,New York City,1,25-Dec-1899,1,White,1,Na,1,Straight,1,1952,1,Best Actor,http://www.nndb.com/people/837/000024765/,,,The Africa Queen,Humphrey Bogart,,,,\\r670454464,TRUE,golden,95,,\"Helena, Mt\",1,7-May-1901,1,White,1,Roman Catholic,1,Straight,1,1953,0.9642,Best Actor,http://www.nndb.com/people/740/000031647/,,,High Noon,Gary Cooper,,,,1953\\r670454465,FALSE,finalized,3,2/10/15 1:46,\"O\\'fallon, Il\",1,17-Apr-18,1,White,1,Na,1,Straight,1,1954,1,Best Actor,http://www.nndb.com/people/210/000022144/,,,Stalag 17,William Holden,,,,\\r670454466,FALSE,finalized,3,2/10/15 1:53,\"Omaha, Ne\",1,3-Apr-24,1,White,1,Deist,1,Bisexual,1,1955,1,Best Actor,http://www.nndb.com/people/721/000022655/,,,On the Waterfront,Marlon Brando,,,,\\r670454467,FALSE,finalized,3,2/10/15 2:02,\"Hamden, Ct\",1,24-Jan-17,1,White,1,Na,1,Straight,1,1956,1,Best Actor,http://www.nndb.com/people/730/000022664/,,,Marty,Ernest Borgnine,,,,\\r670454468,FALSE,finalized,3,2/10/15 2:02,\"Vladivostok, Russia\",1,11-Jul-20,1,White,1,Na,1,Straight,1,1957,1,Best Actor,http://www.nndb.com/people/459/000026381/,,,The King and I,Yul Brynner,,,,\\r670454469,FALSE,finalized,3,2/10/15 2:03,\"London, England\",1,2-Apr-14,1,White,1,Roman Catholic,1,Bisexual,1,1958,1,Best Actor,http://www.nndb.com/people/751/000023682/,,,The Bridge on the River Kwai,Alec Guinness,,,,\\r670454470,FALSE,finalized,3,2/10/15 2:03,\"London, England\",1,1-Mar-09,1,White,1,Na,1,Straight,1,1959,1,Best Actor,http://www.nndb.com/people/690/000031597/,,,Separate Tables,David Niven,,,,\\r670454471,FALSE,finalized,3,2/10/15 3:50,\"Evanston, Il\",1,4-Oct-23,1,White,1,Protestant,1,Straight,1,1960,1,Best Actor,http://www.nndb.com/people/961/000022895/,,,Ben-hur,Charlton Heston,,,,\\r670454472,FALSE,finalized,3,2/10/15 2:01,New York City,1,2-Nov-13,1,White,1,Protestant,1,Straight,1,1961,1,Best Actor,http://www.nndb.com/people/938/000031845/,,,Elmer Gantry,Burt Lancaster,,,,\\r670454473,FALSE,finalized,3,2/10/15 2:11,\"Vienna, Austria\",1,8-Dec-30,1,White,1,Na,1,Straight,1,1962,1,Best Actor,http://www.nndb.com/people/351/000023282/,,,Judgement at Nuremberg,Maximilian Schell,,,,\\r670454474,FALSE,finalized,3,2/10/15 2:18,\"La Jolla, Ca\",1,5-Apr-16,1,White,1,Roman Catholic,1,Straight,1,1963,1,Best Actor,http://www.nndb.com/people/774/000023705/,,,To Kill a Mockingbird,Gregory Peck,,,,\\r670454475,FALSE,finalized,3,2/10/15 2:03,\"Miami, Fl\",1,20-Feb-27,1,Black,1,Deist,1,Straight,1,1964,1,Best Actor,http://www.nndb.com/people/200/000023131/,,,Lilies of the Field,Sidney Poitier,,,,\\r670454476,FALSE,finalized,3,2/10/15 1:55,\"Huyton, Lancashire, England\",1,5-Mar-08,1,White,1,Na,1,Straight,1,1965,1,Best Actor,http://www.nndb.com/people/132/000043003/,,,My Fair Lady,Rex Harrison,,,,\\r670454477,FALSE,finalized,3,2/10/15 3:48,New York City,1,19-Feb-24,1,White,1,Na,1,Straight,1,1966,1,Best Actor,http://www.nndb.com/people/314/000026236/,,,Cat Ballou,Lee Marvin,,,,\\r670454478,FALSE,finalized,3,2/10/15 1:53,\"Hurstpierpoint, West Sussex, England\",1,21-Jan-22,1,White,1,Na,1,Straight,1,1967,1,Best Actor,http://www.nndb.com/people/950/000033851/,,,A Man For All Seasons,Paul Scofield,,,,\\r670454479,FALSE,finalized,3,2/10/15 1:51,\"Westhampton, Ny\",1,14-Apr-25,1,White,1,Lutheran,1,Straight,1,1968,1,Best Actor,http://www.nndb.com/people/762/000026684/,,,In the Heat of the Night,Rod Steiger,,,,\\r670454480,FALSE,finalized,3,2/10/15 2:14,\"La Jolla, Ca\",1,9-Sep-23,1,White,1,Na,1,Straight,1,1969,1,Best Actor,http://www.nndb.com/people/134/000023065/,,,Charly,Cliff Robertson,,,,\\r670454481,FALSE,finalized,3,2/10/15 1:55,\"Winterset, Ia\",1,26-May-07,1,White,1,Roman Catholic,1,Straight,1,1970,1,Best Actor,http://www.nndb.com/people/605/000023536/,,,True Grit,John Wayne,,,,\\r670454482,FALSE,finalized,3,2/10/15 1:57,\"Wise, Va\",1,18-Oct-27,1,White,1,Na,1,Straight,1,1971,1,Best Actor,http://www.nndb.com/people/025/000022956/,,,Patton,George C. Scott,,,,\\r670454483,FALSE,finalized,3,2/10/15 2:01,\"San Bernardino, Ca\",1,30-Jan-30,1,White,1,Na,1,Straight,1,1972,1,Best Actor,http://www.nndb.com/people/878/000022812/,,,The French Connection,Gene Hackman,,,,\\r670454484,FALSE,finalized,3,2/10/15 2:18,\"Omaha, Ne\",1,3-Apr-24,1,White,1,Deist,1,Bisexual,0.6667,1973,1,Best Actor,http://www.nndb.com/people/721/000022655/,,,The Godfather,Marlon Brando,,,,\\r670454485,FALSE,finalized,3,2/10/15 2:05,\"Newton, Ma\",1,8-Feb-25,1,White,1,Roman Catholic,1,Straight,1,1974,1,Best Actor,http://www.nndb.com/people/714/000026636/,,,Save the Tiger,Jack Lemmon,,,,\\r670454486,FALSE,finalized,3,2/10/15 3:48,\"Mount Vernon, Ny\",1,4-Nov-18,1,White,1,Na,1,Straight,1,1975,1,Best Actor,http://www.nndb.com/people/182/000025107/,,,Harry and Tonto,Art Carney,,,,\\r670454487,FALSE,finalized,3,2/10/15 1:51,New York City,1,22-Apr-37,1,White,1,Atheist,1,Straight,1,1976,1,Best Actor,http://www.nndb.com/people/722/000022656/,,,One Flew Over the Cuckoo\\'s Nest,Jack Nicholson,,,,\\r670454488,FALSE,finalized,3,2/10/15 3:45,\"South Kensington, London, England\",1,28-Sep-16,1,White,1,Na,1,Straight,1,1977,1,Best Actor,http://www.nndb.com/people/745/000063556/,,,Network,Peter Finch,,,,\\r670454489,FALSE,finalized,3,2/10/15 1:56,\"Brooklyn, Ny\",1,29-Oct-47,1,White,1,Jewish,1,Straight,1,1978,1,Best Actor,http://www.nndb.com/people/814/000022748/,,,The Goodbye Girl,Richard Dreyfuss,,,,\\r670454490,FALSE,finalized,3,2/10/15 1:51,\"Yonkers, Ny\",1,29-Dec-38,1,White,1,Roman Catholic,1,Straight,1,1979,1,Best Actor,http://www.nndb.com/people/060/000023988/,,,Coming Home,Jon Voight,,,,\\r670454491,FALSE,finalized,3,2/10/15 4:14,\"Los Angeles, Ca\",1,8-Aug-37,1,White,1,Jewish,1,Straight,1,1980,1,Best Actor,http://www.nndb.com/people/882/000022816/,,,Kramer vs. Kramer,Dustin Hoffman,,,,\\r670454492,FALSE,finalized,3,2/10/15 2:29,New York City,1,17-Aug-43,1,White,1,Roman Catholic,1,Straight,1,1981,1,Best Actor,http://www.nndb.com/people/765/000023696/,,,Raging Bull,Robert De Niro,,,,\\r670454493,FALSE,finalized,3,2/10/15 4:02,\"Grand Island, Ne\",1,16-May-05,1,White,1,Na,1,Straight,1,1982,1,Best Actor,http://www.nndb.com/people/496/000026418/,,,On Golden Pond,Henry Fonda,,,,\\r670454494,FALSE,finalized,3,2/10/15 2:01,\"Scarborough, Yorkshire, England\",1,31-Dec-43,1,Multiracial,1,Quaker,1,Straight,1,1983,1,Best Actor,http://www.nndb.com/people/519/000024447/,,,Gandhi,Ben Kingsley,,,,\\r670454495,FALSE,finalized,3,2/10/15 1:52,\"San Diego, Ca\",1,5-Jan-31,1,White,1,Na,1,Straight,1,1984,1,Best Actor,http://www.nndb.com/people/008/000022939/,,,Tender Mercies,Robert Duvall,,,,\\r670454496,FALSE,finalized,3,2/10/15 2:03,\"Pittsburgh, Pa\",1,24-Oct-39,1,Middle Eastern,1,Na,1,Straight,1,1985,1,Best Actor,http://www.nndb.com/people/123/000024051/,,,Amadeus,F. Murray Abraham,,,,\\r670454497,FALSE,finalized,3,2/10/15 2:00,\"Washington, Dc\",1,20-Mar-50,1,White,1,Lutheran,1,Straight,1,1986,1,Best Actor,http://www.nndb.com/people/683/000023614/,,,Kiss of the Spider Woman,William Hurt,,,,\\r670454498,FALSE,finalized,3,2/10/15 2:10,\"Shaker Heights, Oh\",1,26-Jan-25,1,White,1,Jewish,1,Straight,1,1987,1,Best Actor,http://www.nndb.com/people/804/000022738/,,,The Color of Money,Paul Newman,,,,\\r670454499,FALSE,finalized,3,2/10/15 1:51,\"New Brunswick, Nj\",1,25-Sep-44,1,White,1,Jewish,1,Straight,1,1988,1,Best Actor,http://www.nndb.com/people/614/000024542/,,,Wall Street,Michael Douglas,,,,\\r670454500,FALSE,finalized,3,2/10/15 1:58,\"Los Angeles, Ca\",1,8-Aug-37,1,White,1,Jewish,1,Straight,1,1989,1,Best Actor,http://www.nndb.com/people/882/000022816/,,,Rainman,Dustin Hoffman,,,,\\r670454501,FALSE,finalized,3,2/10/15 4:06,\"London, England\",1,29-Apr-57,1,White,1,Na,1,Straight,1,1990,1,Best Actor,http://www.nndb.com/people/788/000022722/,,,My Left Foot,Daniel Day-Lewis,,,,\\r670454502,FALSE,finalized,3,2/10/15 1:59,\"Cowes, Isle of Wight, England\",1,19-Sep-48,1,White,1,Na,1,Straight,1,1991,1,Best Actor,http://www.nndb.com/people/594/000023525/,,,Reversal of Fortune,Jeremy Irons,,,,\\r670454503,FALSE,finalized,3,2/10/15 3:51,\"Port Talbot, Wales\",1,31-Dec-37,1,White,1,Na,1,Straight,1,1992,1,Best Actor,http://www.nndb.com/people/005/000023933/,,,Silence of the Lambs,Anthony Hopkins,,,,\\r670454504,FALSE,finalized,3,2/10/15 3:56,\"East Harlem, New York City\",1,25-Apr-40,1,White,1,Roman Catholic,1,Straight,1,1993,1,Best Actor,http://www.nndb.com/people/880/000022814/,,,Scent of a Woman,Al Pacino,,,,\\r670454505,TRUE,golden,84,,\"Concord, Ca\",1,9-Jul-56,0.9648,White,1,Born-Again Christian,1,Straight,1,1994,1,Best Actor,http://www.nndb.com/people/687/000022621/,,9-Jul-56,Philadelphia,Tom Hanks,,Born-Again Christian,,1994\\r670454506,FALSE,finalized,3,2/10/15 1:56,\"Concord, Ca\",1,9-Jul-56,1,White,1,Born-Again Christian,1,Straight,1,1995,1,Best Actor,http://www.nndb.com/people/687/000022621/,,,Forrest Gump,Tom Hanks,,,,\\r670454507,FALSE,finalized,3,2/10/15 2:10,\"Long Beach, Ca\",1,7-Jan-64,1,White,1,Roman Catholic,1,Straight,1,1996,1,Best Actor,http://www.nndb.com/people/751/000022685/,,,Leaving Las Vegas,Nicolas Cage,,,,\\r670454508,FALSE,finalized,3,2/10/15 2:08,\"Toowoomba, Queensland, Australia\",1,6-Jul-51,1,White,1,Na,1,Straight,1,1997,1,Best Actor,http://www.nndb.com/people/126/000025051/,,,Shine,Geoffrey Rush,,,,\\r670454509,FALSE,finalized,3,2/10/15 1:49,New York City,1,22-Apr-37,1,White,1,Atheist,1,Straight,1,1997,1,Best Actor,http://www.nndb.com/people/722/000022656/,,,As Good as It Gets,Jack Nicholson,,,,\\r670454510,FALSE,finalized,3,2/10/15 1:59,\"Misericordia, Arezzo, Tuscany, Italy\",1,27-Oct-52,1,White,1,Na,1,Straight,1,1999,1,Best Actor,http://www.nndb.com/people/259/000025184/,,,Life is Beautiful,Roberto Benigni,,,,\\r670454511,FALSE,finalized,3,2/10/15 4:08,\"South Orange, Nj\",1,26-Jul-59,1,White,1,Na,1,Matter of Dispute,0.6667,2000,1,Best Actor,http://www.nndb.com/people/591/000023522/,,,American Beauty,Kevin Spacey,,,,\\r670454512,FALSE,finalized,3,2/10/15 4:07,\"Wellington, New Zealand\",1,7-Apr-64,1,White,1,Na,0.6562,Straight,1,2001,1,Best Actor,http://www.nndb.com/people/782/000022716/,,,Gladiator,Russell Crowe,,,,\\r670454513,FALSE,finalized,3,2/10/15 1:49,\"Mount Vernon, Ny\",1,28-Dec-54,1,Black,1,Protestant,1,Straight,1,2002,1,Best Actor,http://www.nndb.com/people/665/000023596/,,,Training Day,Denzel Washington,,,,\\r670454514,FALSE,finalized,3,2/10/15 2:05,New York City,1,14-Apr-73,1,White,1,Jewish,1,Straight,1,2003,1,Best Actor,http://www.nndb.com/people/112/000026034/,,,The Pianist,Adrien Brody,,,,\\r670454515,FALSE,finalized,3,2/10/15 2:04,\"Burbank, Ca\",1,17-Aug-60,1,White,1,Roman Catholic,1,Straight,1,2003,1,Best Actor,http://www.nndb.com/people/331/000025256/,,,Mystic River,Sean Penn,,,,\\r670454516,FALSE,finalized,3,2/10/15 2:02,\"Terrell, Tx\",1,13-Dec-67,1,Black,1,Baptist,1,Straight,1,2005,1,Best Actor,http://www.nndb.com/people/113/000026035/,,,Ray,Jamie Foxx,,,,\\r670454517,FALSE,finalized,3,2/10/15 1:59,\"Fairport, Ny\",1,23-Jul-67,1,White,1,Na,1,Straight,1,2006,1,Best Actor,http://www.nndb.com/people/409/000027328/,,,Capote,Philip Seymour Hoffman,,,,\\r670454518,FALSE,finalized,3,2/10/15 2:07,\"Longview, Tx\",1,15-Jul-61,1,Black,1,Na,1,Straight,1,2007,1,Best Actor,http://www.nndb.com/people/833/000025758/,,,The Last King of Scotland,Forest Whitaker,,,,\\r670454519,FALSE,finalized,3,2/10/15 2:07,\"London, England\",1,29-Apr-57,1,White,1,Na,1,Straight,1,2008,1,Best Actor,http://www.nndb.com/people/788/000022722/,,,There Will Be Blood,Daniel Day-Lewis,,,,\\r670454520,FALSE,finalized,3,2/10/15 2:04,\"Burbank, Ca\",1,17-Aug-60,1,White,1,Roman Catholic,1,Straight,1,2009,1,Best Actor,http://www.nndb.com/people/331/000025256/,,,Milk,Sean Penn,,,,\\r670454521,FALSE,finalized,3,2/10/15 2:05,\"Los Angeles, Ca\",1,4-Dec-49,1,White,1,Lutheran,1,Straight,1,2010,1,Best Actor,http://www.nndb.com/people/779/000022713/,,,Crazy Heart,Jeff Bridges,,,,\\r670454522,FALSE,finalized,3,2/10/15 2:19,\"Grayshott, Hampshire, England\",1,10-Sep-60,1,White,1,Na,1,Straight,1,2011,1,Best Actor,http://www.nndb.com/people/813/000043684/,,,The King\\'s Speech,Colin Firth,,,,\\r670454523,FALSE,finalized,3,2/10/15 3:53,\"Rueil-Malmaison, Hauts-De-Seine, France\",1,19-Jun-72,1,White,1,Na,1,Straight,1,2012,1,Best Actor,http://www.nndb.com/people/303/000281457/,,,The Artist,Jean Dujardin,,,,\\r670454524,FALSE,finalized,3,2/10/15 2:00,\"London, England\",1,29-Apr-57,1,White,1,Na,1,Straight,1,2013,1,Best Actor,http://www.nndb.com/people/788/000022722/,,,Lincoln,Daniel Day-Lewis,,,,\\r670454525,FALSE,finalized,3,2/10/15 2:18,\"Uvalde, Tx\",1,4-Nov-69,1,White,1,Na,1,Straight,1,2014,1,Best Actor,http://www.nndb.com/people/583/000023514/,,,Dallas Buyers Club,Matthew McConaughey,,,,\\r670454526,FALSE,finalized,3,2/10/15 1:51,\"Swampscott, Ma\",1,25-Jul-1894,1,White,1,Na,1,Straight,1,1938,1,Best Supporting Actor,http://www.nndb.com/people/347/000032251/,,,Come and Get It,Walter Brennan,,,,\\r670454527,FALSE,finalized,3,2/10/15 1:48,\"Vienna, Austria\",1,22-Mar-1896,1,White,1,Na,1,Straight,1,1938,1,Best Supporting Actor,http://www.nndb.com/people/115/000063923/,,,The Life of Emile Zola,Joseph Schildkraut,,,,\\r670454528,FALSE,finalized,3,2/10/15 1:59,\"Swampscott, Ma\",1,25-Jul-1894,1,White,1,Na,1,Straight,1,1939,1,Best Supporting Actor,http://www.nndb.com/people/347/000032251/,,,Kentucky,Walter Brennan,,,,\\r670454529,FALSE,finalized,3,2/10/15 3:58,\"Elizabeth, Nj\",1,11-Jul-1892,1,White,1,Na,1,Straight,1,1940,1,Best Supporting Actor,http://www.nndb.com/people/116/000063924/,,,Stagecoach,Thomas Mitchell,,,,\\r670454530,FALSE,finalized,3,2/10/15 3:50,\"Swampscott, Ma\",1,25-Jul-1894,1,White,1,Na,1,Straight,1,1941,1,Best Supporting Actor,http://www.nndb.com/people/347/000032251/,,,The Westerner,Walter Brennan,,,,\\r670454531,FALSE,finalized,3,2/10/15 4:07,\"London, England\",1,27-Jul-1880,1,White,1,Na,1,Straight,1,1942,1,Best Supporting Actor,http://www.nndb.com/people/689/000031596/,,,How Green Was My Valley,Donald Crisp,,,,\\r670454532,TRUE,golden,90,,\"Walters, Ok\",1,13-Dec-10,1,White,1,Na,1,Straight,1,1943,1,Best Supporting Actor,http://www.nndb.com/people/680/000042554/,,,Johnny Eager,Van Heflin,,Na,,\\r670454533,FALSE,finalized,3,2/10/15 1:56,\"Savannah, Ga\",1,17-Jun-1877,1,White,1,Na,1,Straight,1,1944,1,Best Supporting Actor,http://www.nndb.com/people/127/000063935/,,,The More the Merrier,Charles Coburn,,,,\\r670454534,FALSE,finalized,3,2/10/15 2:16,\"Dublin, Ireland\",1,10-Mar-1888,1,White,1,Protestant,1,Na,1,1945,1,Best Supporting Actor,http://www.nndb.com/people/126/000063934/,,,Going My Way,Barry Fitzgerald,,,,\\r670454535,FALSE,finalized,3,2/10/15 3:51,New York City,1,2-Nov-1901,1,White,1,Na,1,Straight,1,1946,1,Best Supporting Actor,http://www.nndb.com/people/125/000063933/,,,A Tree Grows in Brooklyn,James Dunn,,,,\\r670454536,FALSE,finalized,3,2/10/15 2:04,\"North Sydney, Nova Scotia, Canada\",1,14-Jan-14,1,White,1,Na,1,Straight,1,1947,1,Best Supporting Actor,http://www.nndb.com/people/124/000063932/,,,The Best Years of Our Lives,Harold Russell,,,,\\r670454537,FALSE,finalized,3,2/10/15 2:07,\"Vale of Glamorgan, Wales\",1,26-Sep-1875,0.6667,White,1,Na,1,Na,1,1948,1,Best Supporting Actor,http://www.nndb.com/people/123/000063931/,,,Miracle on 34th Street,Edmund Gwenn,,,,\\r670454538,FALSE,finalized,3,2/10/15 2:05,\"Toronto, Ontario, Canada\",1,6-Apr-1884,1,White,1,Na,1,Straight,1,1949,1,Best Supporting Actor,http://www.nndb.com/people/122/000063930/,,,The Treasure of the Sierra Madre,Walter Huston,,,,\\r670454539,FALSE,finalized,3,2/10/15 2:18,\"Lima, Oh\",1,7-Nov-1903,1,White,1,Na,1,Straight,1,1950,1,Best Supporting Actor,http://www.nndb.com/people/121/000063929/,,,Twelve O\\'Clock High,Dean Jagger,,,,\\r670454540,FALSE,finalized,3,2/10/15 2:08,\"St. Petersburg, Russia\",1,3-Jul-06,1,White,1,Na,1,Straight,1,1951,1,Best Supporting Actor,http://www.nndb.com/people/728/000043599/,,,All About Eve,George Sanders,,,,\\r670454541,FALSE,finalized,3,2/10/15 1:52,\"Chicago, Il\",1,22-Mar-12,1,White,1,Na,1,Straight,1,1952,1,Best Supporting Actor,http://www.nndb.com/people/553/000022487/,,,A Streetcar Named Desire,Karl Malden,,,,\\r670454542,FALSE,finalized,3,2/10/15 1:51,\"Chihuahua, Mexico\",1,21-Apr-15,1,Hispanic,1,Na,1,Straight,1,1953,1,Best Supporting Actor,http://www.nndb.com/people/228/000032132/,,,Viva Zapata!,Anthony Quinn,,,,\\r670454543,FALSE,finalized,3,2/10/15 2:06,\"Hoboken, Nj\",1,12-Dec-15,1,White,1,Na,1,Straight,1,1954,1,Best Supporting Actor,http://www.nndb.com/people/300/000026222/,,,From Here to Eternity,Frank Sinatra,,,,\\r670454544,FALSE,finalized,3,2/10/15 3:51,New York City,1,10-Sep-15,1,White,1,Roman Catholic,1,Straight,1,1955,1,Best Supporting Actor,http://www.nndb.com/people/620/000042494/,,,The Barefoot Contessa,Edmond O\\'Brien,,,,\\r670454545,FALSE,finalized,3,2/10/15 2:04,\"Newton, Ma\",1,8-Feb-25,1,White,1,Roman Catholic,1,Straight,1,1956,1,Best Supporting Actor,http://www.nndb.com/people/714/000026636/,,,Mister Roberts,Jack Lemmon,,,,\\r670454546,FALSE,finalized,3,2/10/15 3:58,\"Chihuahua, Mexico\",1,21-Apr-15,1,Hispanic,1,Na,1,Straight,1,1957,1,Best Supporting Actor,http://www.nndb.com/people/228/000032132/,,,Lust for Life,Anthony Quinn,,,,\\r670454547,FALSE,finalized,3,2/10/15 4:06,New York City,1,5-Feb-19,1,White,1,Jewish,1,Straight,1,1958,1,Best Supporting Actor,http://www.nndb.com/people/820/000022754/,,,Sayonara,Red Buttons,,,,\\r670454548,FALSE,finalized,3,2/10/15 1:51,\"Hunt City, Il\",1,14-Jun-09,1,White,1,Na,1,Straight,1,1959,1,Best Supporting Actor,http://www.nndb.com/people/679/000042553/,,,The Big Country,Burl Ives,,,,\\r670454549,FALSE,finalized,3,2/10/15 2:03,\"Marian Glas, Anglesey, Wales\",1,30-May-12,1,White,1,Na,1,Na,1,1960,1,Best Supporting Actor,http://www.nndb.com/people/120/000063928/,,,Ben-Hur,Hugh Griffith,,,,\\r670454550,FALSE,finalized,3,2/10/15 2:15,\"London, England\",1,16-Apr-21,1,White,1,Na,1,Straight,1,1961,1,Best Supporting Actor,http://www.nndb.com/people/810/000022744/,,,Spartacus,Peter Ustinov,,,,\\r670454551,FALSE,finalized,3,2/10/15 2:04,\"Norwood, Oh\",1,16-Sep-34,1,White,1,Na,1,Gay,1,1962,1,Best Supporting Actor,http://www.nndb.com/people/119/000063927/,,,West Side Story,George Chakiris,,,,\\r670454552,FALSE,finalized,3,2/10/15 2:03,\"Hartford, Ct\",1,25-Mar-1901,1,White,1,Na,1,Straight,1,1963,1,Best Supporting Actor,http://www.nndb.com/people/915/000043786/,,,Sweet Bird of Youth,\"Ed Begley, Sr.\",,,,\\r670454553,FALSE,finalized,3,2/10/15 2:16,\"Macon, Ga\",1,5-Apr-1901,1,White,1,Jewish,1,Straight,1,1964,1,Best Supporting Actor,http://www.nndb.com/people/100/000063908/,,,Hud,Melvyn Douglas,,,,\\r670454554,FALSE,finalized,3,2/10/15 1:51,\"London, England\",1,16-Apr-21,1,White,1,Na,1,Straight,1,1965,1,Best Supporting Actor,http://www.nndb.com/people/810/000022744/,,,Topkapi,Peter Ustinov,,,,\\r670454555,FALSE,finalized,3,2/10/15 2:03,\"Bronx, Ny\",1,4-Nov-19,1,White,1,Na,1,Straight,1,1966,1,Best Supporting Actor,http://www.nndb.com/people/111/000063919/,,,A Thousand Clowns,Martin Balsam,,,,\\r670454556,FALSE,finalized,3,2/10/15 1:59,New York City,1,1-Oct-20,1,White,1,Jewish,1,Straight,1,1967,1,Best Supporting Actor,http://www.nndb.com/people/768/000023699/,,,The Fortune Cookie,Walter Matthau,,,,\\r670454557,FALSE,finalized,3,2/10/15 2:04,New York City,1,18-Feb-25,1,White,1,Na,1,Straight,1,1968,1,Best Supporting Actor,http://www.nndb.com/people/001/000022932/,,,Cool Hand Luke,George Kennedy,,,,\\r670454558,TRUE,golden,84,,\"Malden, Ma\",0.9595,16-Jun-07,1,White,1,Na,1,Na,1,1969,0.9646,Best Supporting Actor,http://www.nndb.com/people/559/000049412/,,16-Jun-07,The Subject Was Roses,Jack Albertson,,,,1969\\r670454559,FALSE,finalized,3,2/10/15 2:14,\"St. Cloud, Mn\",1,4-Nov-13,1,White,1,Na,1,Straight,1,1970,1,Best Supporting Actor,http://www.nndb.com/people/110/000063918/,,,\"They Shoot Horses, Don\\'t They?\",Gig Young,,,,\\r670454560,FALSE,finalized,3,2/10/15 1:48,\"Felixstowe, Suffolk, England\",1,22-Feb-08,1,White,1,Na,1,Straight,1,1971,1,Best Supporting Actor,http://www.nndb.com/people/701/000030611/,,,Ryan\\'s Daughter,John Mills,,,,\\r670454561,FALSE,finalized,3,2/10/15 1:56,\"Shidler, Ok\",1,13-Jun-18,1,White,1,Na,1,Straight,1,1972,1,Best Supporting Actor,http://www.nndb.com/people/425/000064233/,,,The Last Picture Show,Ben Johnson,,,,\\r670454562,FALSE,finalized,3,2/10/15 1:52,\"Cleveland, Oh\",1,11-Apr-32,1,White,1,Jewish,1,Gay,1,1973,1,Best Supporting Actor,http://www.nndb.com/people/853/000048709/,,,Cabaret,Joel Grey,,,,\\r670454563,FALSE,finalized,3,2/10/15 2:07,\"Bucharest, Romania\",1,22-Sep-1902,1,White,1,Na,1,Straight,0.6667,1974,1,Best Supporting Actor,http://www.nndb.com/people/686/000042560/,,,The Paper Chase,John Houseman,,,,\\r670454564,FALSE,finalized,3,2/10/15 1:53,New York City,1,17-Aug-43,1,White,1,Roman Catholic,1,Straight,1,1975,1,Best Supporting Actor,http://www.nndb.com/people/765/000023696/,,,The Godfather Part II,Robert De Niro,,,,\\r670454565,FALSE,finalized,3,2/10/15 1:48,New York City,1,20-Jan-1896,1,White,1,Jewish,1,Straight,1,1976,1,Best Supporting Actor,http://www.nndb.com/people/895/000022829/,,,The Sunshine Boys,George Burns,,,,\\r670454566,TRUE,golden,91,,\"Chicago, Il\",1,26-Jul-22,0.9596,White,1,Na,1,Straight,1,1977,1,Best Supporting Actor,http://www.nndb.com/people/224/000032128/,,,All the President\\'s Men,Jason Robards,,,,1977\\r670454567,FALSE,finalized,3,2/10/15 1:53,\"Chicago, Il\",1,26-Jul-22,1,White,1,Na,1,Straight,1,1978,1,Best Supporting Actor,http://www.nndb.com/people/224/000032128/,,,Julia,Jason Robards,,,,\\r670454568,FALSE,finalized,3,2/10/15 1:46,\"Astoria, Ny\",1,31-Mar-43,1,White,1,Na,1,Straight,1,1979,1,Best Supporting Actor,http://www.nndb.com/people/618/000022552/,,,The Deer Hunter,Christopher Walken,,,,\\r670454569,FALSE,finalized,3,2/10/15 2:09,\"Macon, Ga\",1,5-Apr-1901,1,White,1,Jewish,1,Straight,1,1980,1,Best Supporting Actor,http://www.nndb.com/people/100/000063908/,,,Being There,Melvyn Douglas,,,,\\r670454570,FALSE,finalized,3,2/10/15 2:18,\"Malibu, Ca\",1,16-Aug-60,1,White,1,Na,1,Straight,1,1981,1,Best Supporting Actor,http://www.nndb.com/people/378/000024306/,,,Oridnary People,Timothy Hutton,,,,\\r670454571,FALSE,finalized,3,2/10/15 2:07,\"London, England\",0.6667,14-Apr-04,1,White,1,Na,1,Gay,1,1982,1,Best Supporting Actor,http://www.nndb.com/people/589/000033490/,,,Arthur,John Gielgud,,,,\\r670454572,FALSE,finalized,3,2/10/15 3:50,\"Brooklyn, Ny\",1,27-May-36,1,Black,1,Na,1,Straight,1,1983,1,Best Supporting Actor,http://www.nndb.com/people/906/000023837/,,,An Officer and a Gentleman,\"Lou Gossett, Jr.\",,,,\\r670454573,FALSE,finalized,3,2/10/15 2:03,New York City,1,22-Apr-37,1,White,1,Atheist,1,Straight,1,1984,1,Best Supporting Actor,http://www.nndb.com/people/722/000022656/,,,Terms of Endearment,Jack Nicholson,,,,\\r670454574,FALSE,finalized,3,2/10/15 1:51,\"Samrong Young, Cambodia\",1,22-Mar-40,1,Asian,1,Buddhist,1,Straight,1,1985,1,Best Supporting Actor,http://www.nndb.com/people/093/000063901/,,,The Killing Fields,Haing S. Ngor,,,,\\r670454575,FALSE,finalized,3,2/10/15 2:04,\"Kenosha, Wi\",1,31-May-04,1,White,1,Roman Catholic,1,Straight,1,1986,1,Best Supporting Actor,http://www.nndb.com/people/736/000024664/,,,Cocoon,Don Ameche,,,,\\r670454576,FALSE,finalized,3,2/10/15 1:55,\"Bermondsey, England\",1,14-Mar-33,1,White,1,Na,1,Straight,1,1987,1,Best Supporting Actor,http://www.nndb.com/people/754/000022688/,,,Hannah and Her Sisters,Michael Caine,,,,\\r670454577,FALSE,finalized,3,2/10/15 3:50,\"Edinburgh, Scotland\",1,25-Aug-30,1,White,1,Roman Catholic,1,Straight,1,1988,1,Best Supporting Actor,http://www.nndb.com/people/881/000022815/,,,The Untouchables,Sean Connery,,,,\\r670454578,FALSE,finalized,3,2/10/15 2:18,\"St. Louis, Mo\",1,24-Oct-47,1,White,1,Roman Catholic,1,Straight,1,1989,1,Best Supporting Actor,http://www.nndb.com/people/819/000024747/,,,A Fish Called Wanda,Kevin Kline,,,,\\r670454579,FALSE,finalized,3,2/10/15 2:04,\"Mount Vernon, Ny\",1,28-Dec-54,1,Black,1,Protestant,1,Straight,1,1990,1,Best Supporting Actor,http://www.nndb.com/people/665/000023596/,,,Glory,Denzel Washington,,,,\\r670454580,FALSE,finalized,3,2/10/15 2:09,\"Newark, Nj\",1,9-Feb-43,1,White,1,Na,1,Straight,1,1991,1,Best Supporting Actor,http://www.nndb.com/people/582/000022516/,,,Good Fellas,Joe Pesci,,,,\\r670454581,FALSE,finalized,3,2/10/15 1:57,\"Lattimer Mines, Pa\",1,18-Feb-19,1,White,1,Na,1,Straight,1,1992,1,Best Supporting Actor,http://www.nndb.com/people/579/000022513/,,,City Slickers,Jack Palance,,,,\\r670454582,FALSE,finalized,3,2/10/15 1:47,\"San Bernardino, Ca\",1,30-Jan-30,1,White,1,Na,1,Straight,1,1993,1,Best Supporting Actor,http://www.nndb.com/people/878/000022812/,,,Unforgiven,Gene Hackman,,,,\\r670454583,FALSE,finalized,3,2/10/15 2:04,\"San Saba, Tx\",1,15-Sep-46,1,White,1,Na,1,Straight,1,1994,1,Best Supporting Actor,http://www.nndb.com/people/530/000022464/,,,The Fugitive,Tommy Lee Jones,,,,\\r670454584,FALSE,finalized,3,2/10/15 2:11,\"Brooklyn, Ny\",1,20-Jun-31,1,White,1,Jewish,1,Straight,1,1995,1,Best Supporting Actor,http://www.nndb.com/people/431/000023362/,,,Ed Wood,Martin Landau,,,,\\r670454585,FALSE,finalized,3,2/10/15 2:11,\"South Orange, Nj\",1,26-Jul-59,1,White,1,Na,1,Matter of Dispute,1,1996,1,Best Supporting Actor,http://www.nndb.com/people/591/000023522/,,,The Usual Suspects,Kevin Spacey,,,,\\r670454586,FALSE,finalized,3,2/10/15 4:21,\"Bronx, Ny\",1,2-Jan-68,1,Black,1,Na,1,Straight,1,1997,1,Best Supporting Actor,http://www.nndb.com/people/587/000023518/,,,Jerry Maguire,\"Cuba Gooding, Jr.\",,,,\\r670454587,FALSE,finalized,3,2/10/15 4:08,\"Chicago, Il\",1,21-Jul-51,1,White,1,Anglican/episcopalian,1,Straight,1,1998,1,Best Supporting Actor,http://www.nndb.com/people/606/000022540/,,,Good Will Hunting,Robin Williams,,,,\\r670454588,TRUE,golden,62,,\"Laurel, Ne\",1,31-Aug-28,1,White,1,Na,1,Straight,1,1999,1,Best Supporting Actor,http://www.nndb.com/people/764/000022698/,,,Affliction,James Coburn,,Na,,\\r670454589,FALSE,finalized,3,2/10/15 2:12,\"Bermondsey, England\",1,14-Mar-33,1,White,1,Na,1,Straight,1,2000,1,Best Supporting Actor,http://www.nndb.com/people/754/000022688/,,,The Cider House Rules,Michael Caine,,,,\\r670454590,FALSE,finalized,3,2/10/15 2:04,\"Santurce, Puerto Rico\",1,19-Feb-67,1,Hispanic,1,Na,1,Straight,1,2001,1,Best Supporting Actor,http://www.nndb.com/people/087/000026009/,,,Traffic,Benicio Del Toro,,,,\\r670454591,FALSE,finalized,3,2/10/15 2:05,\"Lincoln, Lincolnshire, England\",1,24-May-49,1,White,1,Na,1,Straight,1,2002,1,Best Supporting Actor,http://www.nndb.com/people/092/000063900/,,,Iris,Jim Broadbent,,,,\\r670454592,FALSE,finalized,3,2/10/15 2:15,\"Kansas City, Mo\",1,9-Jul-51,1,White,1,Na,1,Straight,1,2003,1,Best Supporting Actor,http://www.nndb.com/people/130/000025055/,,,Adaptation,Chris Cooper,,,,\\r670454593,FALSE,finalized,3,2/10/15 2:14,\"West Covina, Ca\",1,16-Oct-58,1,White,1,Roman Catholic,1,Straight,1,2004,1,Best Supporting Actor,http://www.nndb.com/people/614/000025539/,,,Mystic River,Tim Robbins,,,,\\r670454594,FALSE,finalized,3,2/10/15 3:55,\"Memphis, Tn\",1,1-Jun-37,1,Black,1,Na,1,Straight,1,2005,1,Best Supporting Actor,http://www.nndb.com/people/982/000023913/,,,Million Dollar Baby,Morgan Freeman,,,,\\r670454595,FALSE,finalized,3,2/10/15 4:02,\"Lexington, Ky\",1,6-May-61,1,White,1,Na,1,Straight,1,2006,1,Best Supporting Actor,http://www.nndb.com/people/763/000022697/,,,Syriana,George Clooney,,,,\\r670454596,FALSE,finalized,3,2/10/15 2:15,\"Brooklyn, Ny\",1,26-Mar-34,1,White,1,Jewish,1,Straight,1,2007,1,Best Supporting Actor,http://www.nndb.com/people/777/000022711/,,,Little Miss Sunshine,Alan Arkin,,,,\\r670454597,FALSE,finalized,3,2/10/15 3:50,\"Las Palmas De Gran Canaria, Canary Islands\",1,1-Mar-69,1,Hispanic,1,Na,1,Straight,1,2008,1,Best Supporting Actor,http://www.nndb.com/people/733/000109406/,,,No Country for Old Men,Javier Bardem,,,,\\r670454598,FALSE,finalized,3,2/10/15 1:59,\"Perth, Australia\",1,4-Apr-79,1,White,1,Na,1,Straight,1,2009,1,Best Supporting Actor,http://www.nndb.com/people/204/000029117/,,,The Dark Knight,Heath Ledger,,,,\\r670454599,FALSE,finalized,3,2/10/15 2:05,Na,1,4-Oct-56,1,White,1,Na,1,Straight,1,2010,1,Best Supporting Actor,http://www.nndb.com/people/455/000213813/,,,Inglourious Basterds,Christoph Waltz,,,,\\r670454600,FALSE,finalized,3,2/10/15 1:59,\"Haverfordwest, Pembrokeshire, Wales\",1,30-Jan-74,1,White,1,Na,1,Straight,1,2011,1,Best Supporting Actor,http://www.nndb.com/people/877/000031784/,,,The Fighter,Christian Bale,,,,\\r670454601,FALSE,finalized,3,2/10/15 1:57,\"Toronto, Ontario, Canada\",1,13-Dec-29,1,White,1,Na,1,Straight,1,2012,1,Best Supporting Actor,http://www.nndb.com/people/316/000023247/,,,Beginning,Christopher Plummer,,,,\\r670454602,FALSE,finalized,3,2/10/15 2:00,Na,0.6571,4-Oct-56,1,White,0.6571,Na,1,Straight,0.6571,2013,1,Best Supporting Actor,http://www.nndb.com/people/455/000213813/,,,Django Unchained,Christoph Waltz,,,,\\r670454603,FALSE,finalized,3,2/10/15 2:08,\"Bossier City, La\",1,26-Dec-71,1,White,1,Na,1,Straight,1,2014,1,Best Supporting Actor,http://www.nndb.com/people/438/000026360/,,,Dallas Buyers Club,Jared Leto,,,,\\r670454604,FALSE,finalized,3,2/10/15 1:57,\"Philadelphia, Pa\",1,6-Oct-06,1,White,1,Na,1,Straight,1,1929,1,Best Actress,http://www.nndb.com/people/129/000043000/,,,7th Heaven,Janet Gaynor,,,,\\r670454605,FALSE,finalized,3,2/10/15 1:51,\"Toronto, Ontario, Canada\",1,8-Apr-1892,1,White,1,Na,1,Straight,1,1930,1,Best Actress,http://www.nndb.com/people/683/000042557/,,,Coquette,Mary Pickford,,,,\\r670454606,FALSE,finalized,3,2/10/15 2:03,\"Montreal, Quebec, Canada\",1,10-Aug-1902,1,White,1,Na,1,Straight,1,1930,1,Best Actress,http://www.nndb.com/people/813/000063624/,,,The Divorcee,Norma Shearer,,,,\\r670454607,FALSE,finalized,3,2/10/15 2:05,\"Cobourg, Ontario, Canada\",1,2-Nov-1868,1,White,1,Na,1,Straight,1,1931,1,Best Actress,http://www.nndb.com/people/814/000063625/,,,Min and Bill,Marie Dressler,,,,\\r670454608,FALSE,finalized,3,2/10/15 1:49,\"Washington, Dc\",1,10-Oct-1900,1,White,1,Na,1,Straight,1,1932,1,Best Actress,http://www.nndb.com/people/908/000031815/,,,The Sin of Madelon Claudet,Helen Hayes,,,,\\r670454609,FALSE,finalized,3,2/10/15 4:06,\"Hartford, Ct\",1,12-May-07,1,White,1,Atheist,1,Bisexual,1,1934,1,Best Actress,http://www.nndb.com/people/775/000023706/,,,Morning Glory,Katharine Hepburn,,,,\\r670454610,FALSE,finalized,3,2/10/15 1:59,\"Paris, France\",1,13-Sep-1903,1,White,1,Na,1,Straight,1,1935,1,Best Actress,http://www.nndb.com/people/935/000043806/,,,It Happened One Night,Claudette Colbert,,,,\\r670454611,FALSE,finalized,3,2/10/15 2:03,\"Lowell, Ma\",1,5-Apr-08,1,White,1,Na,1,Straight,1,1936,1,Best Actress,http://www.nndb.com/people/457/000026379/,,,Dangerous,Bette Davis,,,,\\r670454612,FALSE,finalized,3,2/10/15 2:11,\"Dusseldorf, Germany\",1,12-Jan-10,1,White,1,Jewish,1,Straight,1,1937,1,Best Actress,http://www.nndb.com/people/796/000030706/,,,The Great Ziegfeld,Luise Rainer,,,,\\r670454613,FALSE,finalized,3,2/10/15 3:58,\"Dusseldorf, Germany\",1,12-Jan-10,1,White,1,Jewish,1,Straight,1,1938,1,Best Actress,http://www.nndb.com/people/796/000030706/,,,The Good Earth,Luise Rainer,,,,\\r670454614,FALSE,finalized,3,2/10/15 1:43,\"Lowell, Ma\",1,5-Apr-08,1,White,1,Na,1,Straight,1,1939,1,Best Actress,http://www.nndb.com/people/457/000026379/,,,Jezebel,Bette Davis,,,,\\r670454615,FALSE,finalized,3,2/10/15 2:29,\"Darjeeling, India\",1,5-Nov-13,1,White,1,Roman Catholic,1,Straight,1,1940,1,Best Actress,http://www.nndb.com/people/470/000022404/,,,Gone with the Wind,Vivien Leigh,,,,\\r670454616,TRUE,golden,76,,\"Independence, Mo\",1,16-Jul-11,1,White,1,Christian Science,0.9597,Straight,1,1941,1,Best Actress,http://www.nndb.com/people/635/000043506/,,16-Jul-11,Kitty Foyle,Ginger Rogers,White,,,\\r670454617,FALSE,finalized,3,2/10/15 4:07,\"Tokyo, Japan\",1,22-Oct-17,1,White,1,Na,1,Straight,1,1940,1,Best Actress,http://www.nndb.com/people/487/000026409/,,,Suspicion,Joan Fontaine,,,,\\r670454618,FALSE,finalized,3,2/10/15 1:59,\"London, England\",1,29-Sep-04,1,White,1,Na,1,Straight,1,1942,1,Best Actress,http://www.nndb.com/people/293/000044161/,,,Mrs. Miniver,Greer Garson,,,,\\r670454619,FALSE,finalized,3,2/10/15 2:14,\"Tulsa, Ok\",1,2-Mar-19,1,White,1,Roman Catholic,1,Straight,1,1944,1,Best Actress,http://www.nndb.com/people/809/000063620/,,,The Song of Bernadette,Jennifer Jones,,,,\\r670454620,FALSE,finalized,3,2/10/15 2:04,\"Stockholm, Sweden\",1,29-Aug-15,1,White,1,Na,1,Straight,1,1945,1,Best Actress,http://www.nndb.com/people/836/000024764/,,,Gaslight,Ingrid Bergman,,,,\\r670454621,FALSE,finalized,3,2/10/15 4:08,\"San Antonio, Tx\",1,23-Mar-05,1,White,1,Christian Science,1,Bisexual,1,1946,1,Best Actress,http://www.nndb.com/people/837/000031744/,,,Mildred Pierce,Joan Crawford,,,,\\r670454622,FALSE,finalized,3,2/10/15 1:47,\"Tokyo, Japan\",1,1-Jul-16,1,White,1,Na,1,Straight,1,1947,1,Best Actress,http://www.nndb.com/people/741/000022675/,,,To Each His Own,Olivia de Havilland,,,,\\r670454623,FALSE,finalized,3,2/10/15 2:00,\"Salt Lake City, Ut\",1,6-Jan-13,1,White,1,Roman Catholic,1,Straight,1,1948,1,Best Actress,http://www.nndb.com/people/089/000031993/,,,The Farmer\\'s Daughter,Loretta Young,,,,\\r670454624,FALSE,finalized,3,2/10/15 2:18,\"St. Joseph, Mo\",1,5-Jan-17,1,White,1,Roman Catholic,1,Straight,1,1949,1,Best Actress,http://www.nndb.com/people/656/000022590/,,,Johnny Belinda,Jane Wyman,,,,\\r670454625,FALSE,finalized,3,2/10/15 2:10,\"Tokyo, Japan\",1,1-Jul-16,1,White,1,Na,1,Straight,1,1950,1,Best Actress,http://www.nndb.com/people/741/000022675/,,,The Heiress,Olivia de Havilland,,,,\\r670454626,FALSE,finalized,3,2/10/15 2:01,New York City,1,21-Jun-21,1,White,1,Na,1,Straight,1,1951,1,Best Actress,http://www.nndb.com/people/808/000063619/,,,Born Yesterday,Judy Holliday,,,,\\r670454627,FALSE,finalized,3,2/10/15 1:51,\"Darjeeling, India\",1,5-Nov-13,1,White,1,Roman Catholic,1,Straight,1,1952,1,Best Actress,http://www.nndb.com/people/470/000022404/,,,A Streetcar Named Desire,Vivien Leigh,,,,\\r670454628,FALSE,finalized,3,2/10/15 2:00,New York City,1,30-Aug-1898,1,White,1,Na,1,Straight,1,1953,1,Best Actress,http://www.nndb.com/people/807/000063618/,,,\"Come Back, Little Sheba\",Shirley Booth,,,,\\r670454629,FALSE,finalized,3,2/10/15 2:00,\"Brussels, Belgium\",1,4-May-29,1,White,1,Christian Science,1,Straight,1,1954,1,Best Actress,http://www.nndb.com/people/933/000026855/,,,Roman Holiday,Audrey Hepburn,,,,\\r670454630,FALSE,finalized,3,2/10/15 1:52,\"Philadelphia, Pa\",1,12-Nov-29,1,White,1,Roman Catholic,1,Straight,1,1955,1,Best Actress,http://www.nndb.com/people/770/000025695/,,,The Country Girl,Grace Kelly,,,,\\r670454631,FALSE,finalized,3,2/10/15 4:07,\"Rome, Italy\",1,7-Mar-08,1,White,1,Na,1,Straight,1,1956,1,Best Actress,http://www.nndb.com/people/806/000063617/,,,The Rose Tattoo,Anna Magnani,,,,\\r670454632,FALSE,finalized,3,2/10/15 4:07,\"Stockholm, Sweden\",1,29-Aug-15,1,White,1,Na,1,Straight,1,1957,1,Best Actress,http://www.nndb.com/people/836/000024764/,,,Anastasia,Ingrid Bergman,,,,\\r670454633,TRUE,golden,75,,\"Thomasville, Ga\",1,27-Feb-30,1,White,1,Na,1,Straight,1,1958,1,Best Actress,http://www.nndb.com/people/747/000043618/,,27-Feb-30,The Three Faces of Eve,Joanne Woodward,,,Straight,\\r670454634,FALSE,finalized,3,2/10/15 1:59,\"Brooklyn, Ny\",1,30-Jun-18,1,White,1,Roman Catholic,1,Straight,1,1959,1,Best Actress,http://www.nndb.com/people/805/000063616/,,,I Want To Live!,Susan Hayward,,,,\\r670454635,FALSE,finalized,3,2/10/15 2:00,\"Wiesbaden, Germany\",1,25-Mar-21,1,White,1,Na,1,Straight,1,1960,1,Best Actress,http://www.nndb.com/people/804/000063615/,,,Room at the Top,Simone Signoret,,,,\\r670454636,FALSE,finalized,3,2/10/15 2:04,\"London, England\",1,27-Feb-32,1,White,1,Jewish,1,Straight,1,1961,1,Best Actress,http://www.nndb.com/people/624/000023555/,,,Butterfield 8,Elizabeth Taylor,,,,\\r670454637,FALSE,finalized,3,2/10/15 1:51,\"Pozzuoli, Italy\",1,20-Sep-34,1,White,1,Roman Catholic,1,Straight,1,1962,1,Best Actress,http://www.nndb.com/people/811/000023742/,,,Two Women,Sophia Loren,,,,\\r670454638,FALSE,finalized,3,2/10/15 3:50,\"Bronx, Ny\",1,17-Sep-31,1,White,1,Roman Catholic,1,Straight,1,1963,1,Best Actress,http://www.nndb.com/people/439/000023370/,,,The Miracle Worker,Anne Bancroft,,,,\\r670454639,FALSE,finalized,3,2/10/15 2:04,\"Packard, Ky\",1,20-Jan-26,1,White,1,Roman Catholic,1,Straight,1,1964,1,Best Actress,http://www.nndb.com/people/226/000042100/,,,Hud,Patricia Neal,,,,\\r670454640,FALSE,finalized,3,2/10/15 3:45,\"Walton-on-Thames, Surrey, England\",1,1-Oct-35,1,White,1,Na,1,Straight,1,1965,1,Best Actress,http://www.nndb.com/people/874/000023805/,,,Mary Poppins,Julie Andrews,,,,\\r670454641,FALSE,finalized,3,2/10/15 1:59,\"Chabua, Assam, India\",1,14-Apr-41,1,White,1,Na,1,Straight,1,1966,1,Best Actress,http://www.nndb.com/people/801/000063612/,,,Darling,Julie Christie,,,,\\r670454642,TRUE,golden,86,,\"London, England\",1,27-Feb-32,1,White,1,Jewish,1,Straight,1,1967,1,Best Actress,http://www.nndb.com/people/624/000023555/,\"London, England\",,Who\\'s Afraid of Virginia Woolf?,Elizabeth Taylor,,,,1967\\r670454643,FALSE,finalized,3,2/10/15 1:59,\"Hartford, Ct\",1,12-May-07,1,White,1,Atheist,1,Bisexual,1,1968,1,Best Actress,http://www.nndb.com/people/775/000023706/,,,Guess Who\\'s Coming to Dinner,Katharine Hepburn,,,,\\r670454644,FALSE,finalized,3,2/10/15 2:05,\"Brooklyn, Ny\",1,24-Apr-42,1,White,1,Jewish,1,Straight,1,1969,0.6897,Best Actress,http://www.nndb.com/people/526/000022460/,,,Funny Girl,Barbra Streisand,,,,\\r670454645,FALSE,finalized,3,2/10/15 2:03,\"Hartford, Ct\",1,12-May-07,1,White,1,Atheist,1,Bisexual,1,1969,1,Best Actress,http://www.nndb.com/people/775/000023706/,,,The Lion in Winter,Katharine Hepburn,,,,\\r670454646,TRUE,golden,89,,\"Ilford, Essex, England\",1,28-Dec-34,1,White,1,Na,1,Straight,1,1970,1,Best Actress,http://www.nndb.com/people/260/000030170/,\"Ilford, Essex, England\",,The Prime of Miss Jean Brodie,Maggie Smith,,,,\\r670454647,FALSE,finalized,3,2/10/15 2:06,\"Birkenhead, Cheshire, England\",1,9-May-36,1,White,1,Na,1,Straight,1,1971,1,Best Actress,http://www.nndb.com/people/799/000063610/,,,Women in Love,Glenda Jackson,,,,\\r670454648,FALSE,finalized,3,2/10/15 2:05,New York City,1,21-Dec-37,1,White,1,Born-Again Christian,1,Straight,1,1972,1,Best Actress,http://www.nndb.com/people/637/000022571/,,,Klute,Jane Fonda,,,,\\r670454649,FALSE,finalized,3,2/10/15 1:49,\"Los Angeles, Ca\",1,12-Mar-46,1,White,1,Na,1,Na,1,1973,1,Best Actress,http://www.nndb.com/people/724/000024652/,,,Cabaret,Liza Minnelli,,,,\\r670454650,FALSE,finalized,3,2/10/15 2:05,\"Birkenhead, Cheshire, England\",1,9-May-36,1,White,1,Na,1,Straight,1,1974,1,Best Actress,http://www.nndb.com/people/799/000063610/,,,A Touch of Class,Glenda Jackson,,,,\\r670454651,FALSE,finalized,3,2/10/15 2:04,\"Detroit, Mi\",1,7-Dec-32,1,White,1,Sufism,0.3333,Straight,1,1975,1,Best Actress,http://www.nndb.com/people/650/000023581/,,,Alice Doesn\\'t Live Here Anymore,Ellen Burstyn,,,,\\r670454652,FALSE,finalized,3,2/10/15 1:59,\"Birmingham, Al\",1,22-Jul-34,1,White,1,Na,1,Straight,1,1976,1,Best Actress,http://www.nndb.com/people/798/000063609/,,,One Flew Over the Cuckoo\\'s Nest,Louise Fletcher,,,,\\r670454653,TRUE,golden,91,,\"Bascom, Fl\",1,14-Jan-41,1,White,1,Roman Catholic,1,Straight,0.9599,1977,1,Best Actress,http://www.nndb.com/people/884/000022818/,\"Bascom, Fl\",,Network,Faye Dunaway,,,,1977\\r670454654,FALSE,finalized,3,2/10/15 3:50,\"Los Angeles, Ca\",1,5-Jan-46,1,White,1,Atheist,1,Straight,1,1978,1,Best Actress,http://www.nndb.com/people/879/000022813/,,,Annie Hall,Diane Keaton,,,,\\r670454655,FALSE,finalized,3,2/10/15 2:05,New York City,1,21-Dec-37,1,White,1,Born-Again Christian,1,Straight,1,1979,1,Best Actress,http://www.nndb.com/people/637/000022571/,,,Coming Home,Jane Fonda,,,,\\r670454656,FALSE,finalized,3,2/10/15 1:55,\"Pasadena, Ca\",1,6-Nov-46,1,White,1,Na,1,Straight,1,1980,1,Best Actress,http://www.nndb.com/people/897/000022831/,,,Norma Rae,Sally Field,,,,\\r670454657,FALSE,finalized,3,2/10/15 2:41,\"Quitman, Tx\",1,25-Dec-49,1,White,1,Na,0.6897,Straight,1,1981,1,Best Actress,http://www.nndb.com/people/758/000023689/,,,Coal Miner\\'s Daughter,Sissy Spacek,,,,\\r670454658,FALSE,finalized,3,2/10/15 2:04,\"Hartford, Ct\",1,12-May-07,1,White,1,Atheist,1,Bisexual,1,1982,1,Best Actress,http://www.nndb.com/people/775/000023706/,,,On Golden Pond,Katharine Hepburn,,,,\\r670454659,FALSE,finalized,3,2/10/15 1:59,\"Summit, Nj\",1,22-Jun-49,1,White,1,Na,1,Straight,1,1983,1,Best Actress,http://www.nndb.com/people/001/000024926/,,,Sophie\\'s Choice,Meryl Streep,,,,\\r670454660,FALSE,finalized,3,2/10/15 1:56,\"Richmond, Va\",1,24-Apr-34,1,White,1,Baptist,1,Straight,1,1984,1,Best Actress,http://www.nndb.com/people/799/000023730/,,,Terms of Endearment,Shirley MacLaine,,,,\\r670454661,FALSE,finalized,3,2/10/15 2:04,\"Pasadena, Ca\",1,6-Nov-46,0.6667,White,1,Na,1,Straight,1,1985,1,Best Actress,http://www.nndb.com/people/897/000022831/,,,Places in the Heart,Sally Field,,,,\\r670454662,FALSE,finalized,3,2/10/15 2:02,\"Kirksville, Mo\",1,22-Nov-24,1,White,1,Na,1,Straight,1,1986,1,Best Actress,http://www.nndb.com/people/780/000043651/,,,The Trip to Bountiful,Geraldine Page,,,,\\r670454663,FALSE,finalized,3,2/10/15 2:05,\"Morton Grove, Il\",1,24-Aug-65,1,White,1,Jewish,1,Straight,1,1987,1,Best Actress,http://www.nndb.com/people/870/000023801/,,,Children of a Lesser God,Marlee Matlin,,,,\\r670454664,FALSE,finalized,3,2/10/15 2:18,\"El Centro, Ca\",1,20-May-46,1,White,1,Na,1,Bisexual,1,1988,1,Best Actress,http://www.nndb.com/people/688/000022622/,,,Moonstruck,Cher,,,,\\r670454665,FALSE,finalized,3,2/10/15 3:57,\"Los Angeles, Ca\",1,19-Nov-62,1,White,1,Atheist,1,Lesbian,1,1989,1,Best Actress,http://www.nndb.com/people/756/000023687/,,,The Accused,Jodie Foster,,,,\\r670454666,FALSE,finalized,3,2/10/15 1:59,\"London, England\",1,7-Jun-09,1,White,1,Na,1,Straight,1,1990,1,Best Actress,http://www.nndb.com/people/017/000023945/,,,Driving Miss Daisy,Jessica Tandy,,,,\\r670454667,FALSE,finalized,3,2/10/15 4:08,\"Memphis, Tn\",1,28-Jun-48,1,White,1,Na,1,Straight,1,1991,1,Best Actress,http://www.nndb.com/people/907/000024835/,,,Misery,Kathy Bates,,,,\\r670454668,FALSE,finalized,3,2/10/15 1:59,\"Los Angeles, Ca\",1,19-Nov-62,1,White,1,Atheist,1,Lesbian,1,1992,1,Best Actress,http://www.nndb.com/people/756/000023687/,,,The Silence of the Lambs,Jodie Foster,,,,\\r670454669,FALSE,finalized,3,2/10/15 1:51,\"London, England\",1,15-Apr-59,1,White,1,Na,1,Straight,1,1993,1,Best Actress,http://www.nndb.com/people/627/000025552/,,,Howards End,Emma Thompson,,,,\\r670454670,FALSE,finalized,3,2/10/15 2:03,\"Conyers, Ga\",1,20-Mar-58,1,White,1,Na,1,Straight,1,1994,1,Best Actress,http://www.nndb.com/people/566/000023497/,,,The Piano,Holly Hunter,,,,\\r670454671,FALSE,finalized,3,2/10/15 2:05,\"Cloquet, Mn\",1,20-Apr-49,1,White,1,Na,1,Straight,1,1995,1,Best Actress,http://www.nndb.com/people/004/000022935/,,,Blue Sky,Jessica Lange,,,,\\r670454672,FALSE,finalized,3,2/10/15 1:59,\"Queens, Ny\",1,4-Oct-46,1,White,1,Roman Catholic,1,Straight,1,1996,1,Best Actress,http://www.nndb.com/people/762/000024690/,,,Dead Man Walking,Susan Sarandon,,,,\\r670454673,FALSE,finalized,3,2/10/15 2:16,\"Chicago, Il\",1,23-Jun-57,1,White,1,Disciples of Christ,1,Straight,1,1997,1,Best Actress,http://www.nndb.com/people/517/000025442/,,,Fargo,Frances McDormand,,,,\\r670454674,FALSE,finalized,3,2/10/15 3:55,\"Culver City, Ca\",1,15-Jun-63,1,White,1,Na,1,Straight,1,1998,1,Best Actress,http://www.nndb.com/people/554/000023485/,,,As Good As It Gets,Helen Hunt,,,,\\r670454675,TRUE,golden,91,,\"Los Angeles, Ca\",1,27-Sep-72,1,White,1,Jewish,1,Straight,1,1999,1,Best Actress,http://www.nndb.com/people/592/000023523/,\"Los Angeles, Ca\",,Shakespeare in Love,Gwyneth Paltrow,,,,\\r670454676,FALSE,finalized,3,2/10/15 1:53,\"Lincoln, Ne\",1,30-Jul-74,1,White,1,Na,1,Straight,1,2000,1,Best Actress,http://www.nndb.com/people/333/000026255/,,,Boys Don\\'t Cry,Hilary Swank,,,,\\r670454677,FALSE,finalized,3,2/10/15 2:00,\"Smyrna, Ga\",1,28-Oct-67,1,White,1,Hindu,1,Straight,1,2001,1,Best Actress,http://www.nndb.com/people/592/000022526/,,,Erin Brockovich,Julia Roberts,,,,\\r670454678,FALSE,finalized,3,2/10/15 2:14,\"Cleveland, Oh\",1,14-Aug-66,1,Multiracial,1,Na,1,Straight,1,2002,1,Best Actress,http://www.nndb.com/people/487/000023418/,,,Monster\\'s Ball,Halle Berry,,,,\\r670454679,FALSE,finalized,3,2/10/15 1:55,\"Honolulu, Hi\",1,20-Jun-67,1,White,1,Roman Catholic,1,Straight,1,2003,1,Best Actress,http://www.nndb.com/people/917/000022851/,,,The Hours,Nicole Kidman,,,,\\r670454680,FALSE,finalized,3,2/10/15 2:01,\"Benoni, South Africa\",1,7-Aug-75,1,White,1,Na,1,Straight,1,2004,1,Best Actress,http://www.nndb.com/people/146/000026068/,,,Monster,Charlize Theron,,,,\\r670454681,TRUE,golden,85,,\"Lincoln, Ne\",1,30-Jul-74,1,White,1,Na,1,Straight,1,2005,1,Best Actress,http://www.nndb.com/people/333/000026255/,,,Million Dollar Baby,Hilary Swank,,Na,,2005\\r670454682,FALSE,finalized,3,2/10/15 1:56,\"New Orleans, La\",1,22-Mar-76,1,White,1,Na,1,Straight,1,2006,1,Best Actress,http://www.nndb.com/people/813/000022747/,,,Walk the Line,Reese Witherspoon,,,,\\r670454683,FALSE,finalized,3,2/10/15 4:02,\"Chiswick, London, England\",1,26-Jul-45,1,White,1,Na,1,Straight,1,2007,1,Best Actress,http://www.nndb.com/people/907/000044775/,,,The Queen,Helen Mirren,,,,\\r670454684,FALSE,finalized,3,2/10/15 2:02,\"Paris, France\",1,30-Sep-75,1,White,1,Na,1,Straight,1,2008,1,Best Actress,http://www.nndb.com/people/723/000136315/,,,The Passionate Life of Edith Piaf,Marion Cotillard,,,,\\r670454685,FALSE,finalized,3,2/10/15 2:02,\"Reading, England\",1,5-Oct-75,1,White,1,Na,1,Straight,1,2009,1,Best Actress,http://www.nndb.com/people/582/000023513/,,,The Reader,Kate Winslet,,,,\\r670454686,FALSE,finalized,3,2/10/15 2:04,\"Arlington, Va\",1,26-Jul-64,1,White,1,Na,1,Straight,1,2010,1,Best Actress,http://www.nndb.com/people/601/000023532/,,,The Blind Side,Sandra Bullock,,,,\\r670454687,FALSE,finalized,3,2/10/15 2:03,\"Jerusalem, Israel\",1,9-Jun-81,1,White,1,Jewish,1,Straight,1,2011,1,Best Actress,http://www.nndb.com/people/040/000022971/,,,Black Swan,Natalie Portman,,,,\\r670454688,FALSE,finalized,3,2/10/15 1:58,\"Summit, Nj\",1,22-Jun-49,1,White,1,Na,1,Straight,1,2012,1,Best Actress,http://www.nndb.com/people/001/000024926/,,,The Iron Lady,Meryl Streep,,,,\\r670454689,FALSE,finalized,3,2/10/15 2:15,\"Louisville, Ky\",1,15-Aug-90,1,White,1,Na,1,Na,1,2013,0.6667,Best Actress,http://www.nndb.com/people/597/000272778/,,,Silver Linings Playbook,Jennifer Lawrence,,,,\\r670454690,FALSE,finalized,3,2/10/15 2:13,\"Melbourne, Victoria, Australia\",1,14-May-69,1,White,1,Na,1,Straight,1,2014,1,Best Actress,http://www.nndb.com/people/222/000026144/,,,Blue Jasmine,Cate Blanchett,,,,\\r670454691,FALSE,finalized,3,2/10/15 4:08,\"Litchfield, Mn\",1,15-Feb-1899,1,White,1,Na,1,Straight,1,1937,1,Best Supporting Actress,http://www.nndb.com/people/062/000063870/,,,Anthony Adverse,Gale Sondergaard,,,,\\r670454692,FALSE,finalized,3,2/10/15 1:57,New York City,1,2-Nov-1892,1,White,1,Na,1,Straight,1,1938,1,Best Supporting Actress,http://www.nndb.com/people/079/000063887/,,,In Old Chicago,Alice Brady,,,,\\r670454693,FALSE,finalized,3,2/10/15 2:03,\"Los Angeles, Ca\",1,7-Dec-1891,1,White,1,Na,1,Straight,1,1939,1,Best Supporting Actress,http://www.nndb.com/people/074/000063882/,,,Jezebel,Fay Bainter,,,,\\r670454694,FALSE,finalized,3,2/10/15 3:53,\"Wichita, Ks\",1,10-Jun-1893,1,Black,1,Christian,1,Matter of Dispute,1,1940,1,Best Supporting Actress,http://www.nndb.com/people/077/000063885/,,,Gone with the Wind,Hattie McDaniel,,,,\\r670454695,FALSE,finalized,3,2/10/15 1:59,\"Palmyra, Mo\",1,15-Oct-1879,1,White,1,Na,1,Straight,1,1941,1,Best Supporting Actress,http://www.nndb.com/people/078/000063886/,,,The Grapes of Wrath,Jane Darwell,,,,\\r670454696,TRUE,golden,91,,\"Quincy, Il\",1,3-May-06,1,White,1,Roman Catholic,1,Straight,1,1942,1,Best Supporting Actress,http://www.nndb.com/people/690/000042564/,\"Quincy, Il\",,The Great Lie,Mary Astor,,Roman Catholic,,1942\\r670454697,FALSE,finalized,3,2/10/15 2:16,New York City,1,27-Oct-18,1,White,1,Na,1,Straight,0.6667,1943,1,Best Supporting Actress,http://www.nndb.com/people/580/000045445/,,,Mrs. Miniver,Teresa Wright,,,,\\r670454698,FALSE,finalized,3,2/10/15 2:10,\"Athens, Greece\",1,17-Dec-1900,1,White,1,Na,1,Straight,1,1944,1,Best Supporting Actress,http://www.nndb.com/people/080/000063888/,,,For Whom the Bell Tolls,Katina Paxinou,,,,\\r670454699,FALSE,finalized,3,2/10/15 1:43,\"Philadelphia, Pa\",1,15-Aug-1879,1,White,1,Roman Catholic,1,Straight,1,1945,1,Best Supporting Actress,http://www.nndb.com/people/743/000043614/,,,None but the Lonely Heart,Ethel Barrymore,,,,\\r670454700,TRUE,golden,76,,New York City,1,25-Jun-1903,1,White,1,Na,1,Straight,1,1946,1,Best Supporting Actress,http://www.nndb.com/people/081/000063889/,New York City,,National Velvet,Anne Revere,,,Straight,\\r670454701,FALSE,finalized,3,2/10/15 4:21,\"Michigan City, In\",1,7-May-23,1,White,1,Na,1,Straight,1,1947,1,Best Supporting Actress,http://www.nndb.com/people/458/000026380/,,,The Razor\\'s Edge,Anne Baxter,,,,\\r670454702,FALSE,finalized,3,2/10/15 2:41,New York City,1,29-Apr-17,1,White,1,Na,0.6897,Straight,1,1948,1,Best Supporting Actress,http://www.nndb.com/people/084/000063892/,,,Gentleman\\'s Agreement,Celeste Holm,,,,\\r670454703,FALSE,finalized,3,2/10/15 4:02,New York City,1,8-Mar-10,1,White,1,Na,1,Straight,1,1949,1,Best Supporting Actress,http://www.nndb.com/people/085/000063893/,,,Key Largo,Claire Trevor,,,,\\r670454704,FALSE,finalized,3,2/10/15 4:08,\"Joliet, Il\",1,17-Mar-16,1,White,1,Roman Catholic,1,Straight,1,1950,1,Best Supporting Actress,http://www.nndb.com/people/086/000063894/,,,All the King\\'s Men,Mercedes McCambridge,,,,\\r670454705,FALSE,finalized,3,2/10/15 4:08,\"Newtonville, Ma\",1,3-Jan-1886,1,White,1,Na,1,Straight,1,1951,1,Best Supporting Actress,http://www.nndb.com/people/087/000063895/,,,Harvey,Josephine Hull,,,,\\r670454706,FALSE,finalized,3,2/10/15 2:05,\"Detroit, Mi\",1,12-Nov-22,1,White,1,Na,0.6897,Straight,1,1952,1,Best Supporting Actress,http://www.nndb.com/people/501/000051348/,,,A Streetcar Named Desire,Kim Hunter,,,,\\r670454707,FALSE,finalized,3,2/10/15 2:12,\"Los Angeles, Ca\",1,28-Nov-23,1,White,1,Na,1,Straight,1,1953,1,Best Supporting Actress,http://www.nndb.com/people/088/000063896/,,,The Bad and the Beautiful,Gloria Grahame,,,,\\r670454708,FALSE,finalized,3,2/10/15 2:10,\"Denison, Ia\",1,27-Jan-21,1,White,1,Na,1,Straight,1,1954,1,Best Supporting Actress,http://www.nndb.com/people/702/000031609/,,,From Here to Eternity,Donna Reed,,,,\\r670454709,FALSE,finalized,3,2/10/15 4:21,\"Newark, Nj\",1,4-Jul-24,1,White,1,Na,1,Straight,1,1955,1,Best Supporting Actress,http://www.nndb.com/people/980/000022914/,,,On the Waterfront,Eva Marie Saint,,,,\\r670454710,FALSE,finalized,3,2/10/15 4:02,\"Oakland, Ca\",1,30-Dec-14,1,White,1,Na,1,Straight,1,1956,1,Best Supporting Actress,http://www.nndb.com/people/089/000063897/,,,East of Eden,Jo Van Fleet,,,,\\r670454711,FALSE,finalized,3,2/10/15 1:55,\"Chicago, Il\",1,30-Jan-25,1,White,1,Na,1,Straight,1,1957,1,Best Supporting Actress,http://www.nndb.com/people/090/000063898/,,,Written on the Wind,Dorothy Malone,,,,\\r670454712,FALSE,finalized,3,2/10/15 1:52,\"Otaro, Hokkaido, Japan\",1,3-Apr-29,1,Asian,1,Na,1,Straight,1,1958,1,Best Supporting Actress,http://www.nndb.com/people/091/000063899/,,,Sayonara,Miyoshi Umeki,,,,\\r670454713,FALSE,finalized,3,2/10/15 3:56,\"Bramhall, Cheshire, England\",1,15-Aug-12,1,White,1,Na,1,Straight,1,1959,1,Best Supporting Actress,http://www.nndb.com/people/056/000063864/,,,Separate Tables,Wendy Hiller,,,,\\r670454714,FALSE,finalized,3,2/10/15 2:15,\"St. Louis, Mo\",1,18-Aug-20,1,White,1,Jewish,1,Straight,1,1960,1,Best Supporting Actress,http://www.nndb.com/people/859/000022793/,,,The Diary of Anne Frank,Shelley Winters,,,,\\r670454715,FALSE,finalized,3,2/10/15 3:57,\"Charleroi, Pa\",1,31-Mar-34,1,White,1,Methodist,1,Straight,1,1961,1,Best Supporting Actress,http://www.nndb.com/people/795/000023726/,,,Elmer Gantry,Shirley Jones,,,,\\r670454716,FALSE,finalized,3,2/10/15 1:59,\"Humacao, Puerto Rico\",1,11-Dec-31,1,Hispanic,1,Na,1,Straight,1,1962,1,Best Supporting Actress,http://www.nndb.com/people/463/000023394/,,,West Side Story,Rita Moreno,,,,\\r670454717,FALSE,finalized,3,2/10/15 2:02,\"Elmhurst, Ny\",1,14-Dec-46,1,White,1,Roman Catholic,1,Straight,1,1963,1,Best Supporting Actress,http://www.nndb.com/people/775/000022709/,,,The Miracle Worker,Patty Duke,,,,\\r670454718,FALSE,finalized,3,2/10/15 1:46,\"London, England\",1,11-May-1892,1,White,1,Na,1,Straight,1,1964,1,Best Supporting Actress,http://www.nndb.com/people/052/000063860/,,,the V.I.P.s,Margaret Rutherford,,,,\\r670454719,FALSE,finalized,3,2/10/15 1:59,\"St. Petersburg, Russia\",1,9-Oct-18,1,White,1,Na,1,Straight,1,1965,1,Best Supporting Actress,http://www.nndb.com/people/049/000063857/,,,Zorba the Greek,Lila Kedrova,,,,\\r670454720,FALSE,finalized,3,2/10/15 1:57,\"St. Louis, Mo\",1,18-Aug-20,1,White,1,Jewish,1,Straight,1,1966,1,Best Supporting Actress,http://www.nndb.com/people/859/000022793/,,,A Patch of Blue,Shelley Winters,,,,\\r670454721,FALSE,finalized,3,2/10/15 4:02,\"Hastings, Ne\",0.6667,27-Apr-37,1,White,1,Na,1,Bisexual,1,1967,1,Best Supporting Actress,http://www.nndb.com/people/961/000063772/,,,Who\\'s Afraid of Virginia Woolf?,Sandy Dennis,,,,\\r670454722,FALSE,finalized,3,2/10/15 3:53,\"Marblehead, Ma\",1,20-Nov-27,1,White,1,Na,1,Straight,1,1968,1,Best Supporting Actress,http://www.nndb.com/people/475/000032379/,,,Bonnie and Clyde,Estelle Parsons,,,,\\r670454723,FALSE,finalized,3,2/10/15 1:47,\"Quincy, Ma\",1,30-Oct-1896,1,White,1,Na,1,Straight,1,1969,1,Best Supporting Actress,http://www.nndb.com/people/818/000043689/,,,Rosemary\\'s Baby,Ruth Gordon,,,,\\r670454724,FALSE,finalized,3,2/10/15 2:13,\"Silver Spring, Md\",1,21-Nov-45,1,White,1,Buddhist,1,Straight,1,1970,1,Best Supporting Actress,http://www.nndb.com/people/996/000022930/,,,Cactus Flower,Goldie Hawn,,,,\\r670454725,FALSE,finalized,3,2/10/15 1:51,\"Washington, Dc\",1,10-Oct-1900,1,White,1,Na,1,Straight,1,1971,1,Best Supporting Actress,http://www.nndb.com/people/908/000031815/,,,Airport,Helen Hayes,,,,\\r670454726,FALSE,finalized,3,2/10/15 1:55,\"Des Moines, Ia\",0.6667,30-Apr-26,1,White,1,Na,1,Straight,1,1972,1,Best Supporting Actress,http://www.nndb.com/people/177/000023108/,,,The Last Picture Show,Cloris Leachman,,,,\\r670454727,FALSE,finalized,3,2/10/15 2:04,\"Columbus, Oh\",1,29-Mar-19,0.6667,White,1,Na,1,Straight,1,1973,1,Best Supporting Actress,http://www.nndb.com/people/828/000063639/,,,Butterflies Are Free,Eileen Heckart,,,,\\r670454728,FALSE,finalized,3,2/10/15 2:04,\"Los Angeles, Ca\",1,5-Nov-63,1,White,1,Na,1,Straight,1,1974,1,Best Supporting Actress,http://www.nndb.com/people/104/000024032/,,,Paper Moon,Tatum O\\'Neal,,,,\\r670454729,FALSE,finalized,3,2/10/15 2:02,\"Stockholm, Sweden\",1,29-Aug-15,1,White,1,Na,1,Straight,1,1975,1,Best Supporting Actress,http://www.nndb.com/people/836/000024764/,,,Murder on the Orient Express,Ingrid Bergman,,,,\\r670454730,TRUE,golden,87,,New York City,1,31-Oct-27,1,White,0.9594,Jewish,1,Straight,1,1976,1,Best Supporting Actress,http://www.nndb.com/people/409/000032313/,,31-Oct-27,Shampoo,Lee Grant,,Jewish,,\\r670454731,FALSE,finalized,3,2/10/15 2:14,\"Old Westbury, Ny\",1,2-Aug-14,1,White,1,Na,1,Straight,1,1977,1,Best Supporting Actress,http://www.nndb.com/people/817/000063628/,,,Network,Beatrice Straight,,,,\\r670454732,FALSE,finalized,3,2/10/15 2:06,\"London, England\",1,30-Jan-37,1,White,1,Na,1,Straight,1,1978,1,Best Supporting Actress,http://www.nndb.com/people/590/000023521/,,,Julia,Vanessa Redgrave,,,,\\r670454733,FALSE,finalized,3,2/10/15 1:46,\"Ilford, Essex, England\",1,28-Dec-34,1,White,1,Na,1,Straight,1,1979,1,Best Supporting Actress,http://www.nndb.com/people/260/000030170/,,,California Suite,Maggie Smith,,,,\\r670454734,FALSE,finalized,3,2/10/15 4:08,\"Summit, Nj\",1,22-Jun-49,1,White,1,Na,1,Straight,1,1980,1,Best Supporting Actress,http://www.nndb.com/people/001/000024926/,,,Kramer vs. Kramer,Meryl Streep,,,,\\r670454735,FALSE,finalized,3,2/10/15 4:14,\"Newport, Ar\",1,8-Feb-53,1,White,1,Na,1,Straight,1,1981,1,Best Supporting Actress,http://www.nndb.com/people/271/000025196/,,,Melvin and Howard,Mary Steenburgen,,,,\\r670454736,FALSE,finalized,3,2/10/15 2:19,\"Troy, Ny\",1,21-Jun-25,1,White,1,Roman Catholic,1,Straight,1,1982,1,Best Supporting Actress,http://www.nndb.com/people/376/000032280/,,,Reds,Maureen Stapleton,,,,\\r670454737,FALSE,finalized,3,2/10/15 2:07,\"Cloquet, Mn\",1,20-Apr-49,1,White,1,Na,1,Straight,1,1983,1,Best Supporting Actress,http://www.nndb.com/people/004/000022935/,,,Tootsie,Jessica Lange,,,,\\r670454738,FALSE,finalized,3,2/10/15 2:05,\"Morristown, Nj\",1,2-Apr-45,1,White,1,Na,1,Na,0.6857,1984,1,Best Supporting Actress,http://www.nndb.com/people/671/000024599/,,,The Year of Living Dangerously,Linda Hunt,,,,\\r670454739,FALSE,finalized,3,2/10/15 1:49,\"Croydon, Surrey, England\",1,22-Dec-07,1,White,1,Agnostic,1,Straight,1,1985,1,Best Supporting Actress,http://www.nndb.com/people/816/000063627/,,,A Passage to India,Peggy Ashcroft,,,,\\r670454740,FALSE,finalized,3,2/10/15 2:10,\"Santa Monica, Ca\",1,8-Jul-51,1,White,1,Na,1,Straight,1,1986,1,Best Supporting Actress,http://www.nndb.com/people/128/000025053/,,,Prizzi\\'s Honor,Anjelica Huston,,,,\\r670454741,FALSE,finalized,3,2/10/15 1:49,\"Kansas City, Mo\",1,28-Mar-48,1,White,1,Na,1,Straight,1,1987,1,Best Supporting Actress,http://www.nndb.com/people/894/000024822/,,,Hannah and Her Sisters,Dianne Wiest,,,,\\r670454742,FALSE,finalized,3,2/10/15 2:07,\"Lowell, Ma\",1,20-Jun-31,1,White,1,Na,1,Straight,1,1988,1,Best Supporting Actress,http://www.nndb.com/people/430/000023361/,,,Moonstruck,Olympia Dukakis,,,,\\r670454743,FALSE,finalized,3,2/10/15 3:50,\"Wareham, Ma\",1,21-Jan-56,1,White,1,Congregationalist,1,Straight,1,1989,1,Best Supporting Actress,http://www.nndb.com/people/883/000022817/,,,The Accidental Tourist,Geena Davis,,,,\\r670454744,FALSE,finalized,3,2/10/15 4:21,\"Dublin, Ireland\",1,17-Feb-45,1,White,1,Na,1,Straight,1,1990,1,Best Supporting Actress,http://www.nndb.com/people/815/000063626/,,,My Left Foot,Brenda Fricker,,,,\\r670454745,FALSE,finalized,3,2/10/15 2:05,New York City,1,13-Nov-55,1,Black,1,Atheist,1,Straight,1,1991,1,Best Supporting Actress,http://www.nndb.com/people/242/000025167/,,,Ghost,Whoopi Goldberg,,,,\\r670454746,FALSE,finalized,3,2/10/15 2:08,\"Queens, Ny\",1,28-Feb-48,1,Hispanic,1,Roman Catholic,1,Straight,1,1992,1,Best Supporting Actress,http://www.nndb.com/people/890/000024818/,,,The Fisher King,Mercedes Ruehl,,,,\\r670454747,FALSE,finalized,3,2/10/15 1:46,\"Brooklyn, Ny\",1,4-Dec-64,1,White,1,Na,1,Straight,1,1993,1,Best Supporting Actress,http://www.nndb.com/people/985/000025910/,,,My Cousin Vinny,Marisa Tomei,,,,\\r670454748,FALSE,finalized,3,2/10/15 2:03,\"Winnipeg, Manitoba, Canada\",1,24-Jul-82,1,White,1,Na,1,Bisexual,1,1994,1,Best Supporting Actress,http://www.nndb.com/people/763/000025688/,,,The Piano,Anna Paquin,,,,\\r670454749,FALSE,finalized,3,2/10/15 2:00,\"Kansas City, Mo\",1,28-Mar-48,1,White,1,Na,1,Straight,1,1995,1,Best Supporting Actress,http://www.nndb.com/people/894/000024822/,,,Bullets Over Broadway,Dianne Wiest,,,,\\r670454750,FALSE,finalized,3,2/10/15 2:04,\"Tenafly, Nj\",1,28-Sep-67,1,White,1,Atheist,1,Straight,1,1996,1,Best Supporting Actress,http://www.nndb.com/people/890/000025815/,,,Mighty Aphrodite,Mira Sorvino,,,,\\r670454751,FALSE,finalized,3,2/10/15 1:58,\"Paris, France\",1,9-Mar-64,1,White,1,Na,1,Straight,1,1997,1,Best Supporting Actress,http://www.nndb.com/people/970/000025895/,,,The English Patient,Juliette Binoche,,,,\\r670454752,FALSE,finalized,3,2/10/15 1:51,\"Athens, Ga\",1,8-Dec-53,1,White,1,Na,1,Straight,1,1998,1,Best Supporting Actress,http://www.nndb.com/people/310/000025235/,,,L.A. Confidential,Kim Basinger,,,,\\r670454753,FALSE,finalized,3,2/10/15 4:14,\"York, North Yorkshire, England\",1,9-Dec-34,1,White,1,Quaker,1,Straight,1,1999,1,Best Supporting Actress,http://www.nndb.com/people/824/000023755/,,,Shakespeare in Love,Judi Dench,,,,\\r670454754,TRUE,golden,87,,\"Los Angeles, Ca\",0.9593,4-Jun-75,1,White,1,Buddhist,1,Bisexual,1,2000,1,Best Supporting Actress,http://www.nndb.com/people/493/000023424/,,,\"Girl, Interrupted\",Angelina Jolie,,Buddhist,Bisexual,2000\\r670454755,TRUE,golden,91,,\"La Jolla, Ca\",1,14-Aug-59,1,White,1,Na,1,Straight,1,2001,0.9195,Best Supporting Actress,http://www.nndb.com/people/641/000025566/,\"La Jolla, Ca\",,Pollock,Marcia Gay Harden,,,,\\r670454756,FALSE,finalized,3,2/10/15 2:08,\"Catskill Mountains, Ny\",1,12-Dec-70,1,White,1,Jewish,1,Straight,1,2002,1,Best Supporting Actress,http://www.nndb.com/people/240/000026162/,,,A Beautiful Mind,Jennifer Connelly,,,,\\r670454757,FALSE,finalized,3,2/10/15 2:00,\"Mumbles, Wales\",1,25-Sep-69,1,White,1,Roman Catholic,1,Straight,1,2003,1,Best Supporting Actress,http://www.nndb.com/people/516/000023447/,,,Chicago,Catherine Zeta-Jones,,,,\\r670454758,FALSE,finalized,3,2/10/15 2:07,\"Katy, Tx\",1,25-Apr-69,1,White,1,Na,1,Straight,0.6667,2004,1,Best Supporting Actress,http://www.nndb.com/people/708/000024636/,,,Cold Mountain,Ren\\xcc\\xa9e Zellweger,,,,\\r670454759,FALSE,finalized,3,2/10/15 2:05,\"Melbourne, Victoria, Australia\",1,14-May-69,1,White,1,Na,1,Straight,1,2005,1,Best Supporting Actress,http://www.nndb.com/people/222/000026144/,,,The Aviator,Cate Blanchett,,,,\\r670454760,TRUE,golden,92,,\"London, England\",1,7-Mar-71,1,White,1,Jewish,1,Straight,1,2006,1,Best Supporting Actress,http://www.nndb.com/people/309/000032213/,,,The Constant Gardener,Rachel Weisz,,Jewish,,2006\\r670454761,FALSE,finalized,3,2/10/15 4:07,\"Chicago, Il\",1,12-Sep-81,1,Black,1,Baptist,1,Straight,1,2007,1,Best Supporting Actress,http://www.nndb.com/people/434/000129047/,,,Dreamgirls,Jennifer Hudson,,,,\\r670454762,FALSE,finalized,3,2/10/15 2:00,\"London, England\",1,5-Nov-60,1,White,1,Na,1,Straight,1,2007,1,Best Supporting Actress,http://www.nndb.com/people/178/000108851/,,,Michael Clayton,Tilda Swinton,,,,\\r670454763,FALSE,finalized,3,2/10/15 1:59,\"Madrid, Spain\",1,28-Apr-74,1,Hispanic,1,Buddhist,1,Straight,1,2009,1,Best Supporting Actress,http://www.nndb.com/people/748/000025673/,,,Vicky Cristina Barcelona,Penelope Cruz,,,,\\r670454764,TRUE,golden,86,,\"Woodlawn, Md\",1,11-Dec-67,0.9631,Black,1,Na,1,Straight,1,2010,1,Best Supporting Actress,http://www.nndb.com/people/836/000131443/,,11-Dec-67,Precious,Mo\\'Nique,Black,,,\\r670454765,FALSE,finalized,3,2/10/15 1:56,New York City,1,14-Sep-60,1,White,1,Na,1,Straight,1,2011,1,Best Supporting Actress,http://www.nndb.com/people/327/000042201/,,,The Fighter,Melissa Leo,,,,\\r670454766,FALSE,finalized,3,2/10/15 2:18,\"Montgomery, Al\",1,25-May-72,1,Black,1,Na,1,Na,1,2012,1,Best Supporting Actress,http://www.nndb.com/people/304/000281458/,,,The Help,Octavia Spencer,,,,\\r670454767,FALSE,finalized,3,2/10/15 2:18,\"Brooklyn, Ny\",1,12-Nov-82,1,White,1,Christian,1,Straight,1,2013,1,Best Supporting Actress,http://www.nndb.com/people/220/000032124/,,,Les Mis\\xcc\\xa9rables,Anne Hathaway,,,,\\r670454768,FALSE,finalized,3,2/10/15 2:10,\"Mexico City, Mexico\",1,1-Mar-83,1,Black,1,Na,1,Na,1,2014,1,Best Supporting Actress,http://www.nndb.com/people/570/000380427/,,,12 Years a Slave,Lupita Nyong\\'o,,,,\\r670927629,FALSE,finalized,3,2/10/15 2:02,\"Sucha, Galicia, Austria\",1,22-Jun-06,1,White,1,Jewish,1,Straight,1,1961,1,Best Director,http://www.nndb.com/people/982/000024910/,,,The Apartment,Billy Wilder,,,,\\r670939613,FALSE,finalized,3,2/10/15 1:53,\"Independence, Mo\",1,16-Jul-11,1,White,1,Christian Science,1,Straight,1,1941,1,Best Actress,http://www.nndb.com/people/635/000043506/,,,Kitty Foyle,Ginger Rogers,,,,\\r670944094,FALSE,finalized,3,2/10/15 2:18,\"Concord, Ca\",1,9-Jul-56,1,White,1,Born-Again Christian,1,Straight,1,1994,1,Best Actor,http://www.nndb.com/people/687/000022621/,,,Philadelphia,Tom Hanks,,,,\\r670944168,FALSE,finalized,3,2/10/15 3:55,New York City,1,3-Feb-39,1,White,1,Na,1,Straight,1,1979,0.6667,Best Director,http://www.nndb.com/people/810/000043681/,,,The Deer Hunter,Michael Cimino,,,,\\r670944316,FALSE,finalized,3,2/10/15 2:05,\"Quincy, Il\",1,3-May-06,1,White,1,Roman Catholic,1,Straight,1,1942,1,Best Supporting Actress,http://www.nndb.com/people/690/000042564/,,,The Great Lie,Mary Astor,,,,\\r670944478,FALSE,finalized,3,2/10/15 1:49,\"Los Angeles, Ca\",1,4-Jun-75,1,White,1,Buddhist,1,Bisexual,1,2000,1,Best Supporting Actress,http://www.nndb.com/people/493/000023424/,,,\"Girl, Interrupted\",Angelina Jolie,,,,\\r670944543,FALSE,finalized,3,2/10/15 2:12,New York City,1,31-Oct-27,1,White,1,Jewish,1,Straight,1,1976,1,Best Supporting Actress,http://www.nndb.com/people/409/000032313/,,,Shampoo,Lee Grant,,,,\\r670944623,FALSE,finalized,3,2/10/15 2:11,New York City,1,25-Jun-1903,1,White,1,Na,1,Straight,1,1946,1,Best Supporting Actress,http://www.nndb.com/people/081/000063889/,,,National Velvet,Anne Revere,,,,\\r670944674,FALSE,finalized,3,2/10/15 2:05,\"Bascom, Fl\",1,14-Jan-41,1,White,1,Roman Catholic,1,Straight,1,1977,1,Best Actress,http://www.nndb.com/people/884/000022818/,,,Network,Faye Dunaway,,,,\\r670944755,FALSE,finalized,3,2/10/15 2:04,\"Walters, Ok\",1,13-Dec-10,1,White,1,Na,1,Straight,1,1943,1,Best Supporting Actor,http://www.nndb.com/people/680/000042554/,,,Johnny Eager,Van Heflin,,,,\\r670944822,FALSE,finalized,3,2/10/15 4:14,\"Thomasville, Ga\",1,27-Feb-30,1,White,1,Na,1,Straight,1,1958,1,Best Actress,http://www.nndb.com/people/747/000043618/,,,The Three Faces of Eve,Joanne Woodward,,,,\\r670944835,FALSE,finalized,3,2/10/15 2:08,\"Helena, Mt\",1,7-May-1901,1,White,1,Roman Catholic,1,Straight,1,1953,1,Best Actor,http://www.nndb.com/people/740/000031647/,,,High Noon,Gary Cooper,,,,\\r670944920,FALSE,finalized,3,2/10/15 3:58,\"London, England\",1,27-Feb-32,1,White,1,Jewish,1,Straight,1,1967,1,Best Actress,http://www.nndb.com/people/624/000023555/,,,Who\\'s Afraid of Virginia Woolf?,Elizabeth Taylor,,,,\\r670944948,FALSE,finalized,3,2/10/15 2:06,\"Lincoln, Ne\",1,30-Jul-74,1,White,1,Na,1,Straight,1,2005,1,Best Actress,http://www.nndb.com/people/333/000026255/,,,Million Dollar Baby,Hilary Swank,,,,\\r670945043,TRUE,golden,86,,\"Lincoln, Ne\",1,30-Jul-74,1,White,1,Na,1,Straight,1,2005,1,Best Actress,http://www.nndb.com/people/333/000026255/,,,Million Dollar Baby,Hilary Swank,,,,\\r670945693,FALSE,finalized,3,2/10/15 1:49,\"Los Angeles, Ca\",1,27-Sep-72,1,White,1,Jewish,1,Straight,1,1999,1,Best Actress,http://www.nndb.com/people/592/000023523/,,,Shakespeare in Love,Gwyneth Paltrow,,,,\\r670945790,FALSE,finalized,3,2/10/15 2:08,\"Malden, Ma\",1,16-Jun-07,1,White,1,Na,1,Na,1,1969,1,Best Supporting Actor,http://www.nndb.com/people/559/000049412/,,,The Subject Was Roses,Jack Albertson,,,,\\r670945834,FALSE,finalized,3,2/10/15 2:07,\"Woodlawn, Md\",1,11-Dec-67,1,Black,1,Na,1,Straight,1,2010,1,Best Supporting Actress,http://www.nndb.com/people/836/000131443/,,,Precious,Mo\\'Nique,,,,\\r670945895,FALSE,finalized,3,2/10/15 2:13,\"La Jolla, Ca\",1,14-Aug-59,1,White,1,Na,1,Straight,1,2001,1,Best Supporting Actress,http://www.nndb.com/people/641/000025566/,,,Pollock,Marcia Gay Harden,,,,\\r670946199,FALSE,finalized,3,2/10/15 2:03,\"Ilford, Essex, England\",1,28-Dec-34,1,White,1,Na,1,Straight,1,1970,1,Best Actress,http://www.nndb.com/people/260/000030170/,,,The Prime of Miss Jean Brodie,Maggie Smith,,,,\\r670946276,FALSE,finalized,3,2/10/15 2:00,\"London, England\",1,7-Mar-71,1,White,1,Jewish,1,Straight,1,2006,0.6857,Best Supporting Actress,http://www.nndb.com/people/309/000032213/,,,The Constant Gardener,Rachel Weisz,,,,\\r670946299,FALSE,finalized,3,2/10/15 2:04,\"Manchester, England\",1,20-Oct-56,1,White,1,Roman Catholic,1,Straight,1,2009,1,Best Director,http://www.nndb.com/people/887/000044755/,,,Slumdog Millionaire,Danny Boyle,,,,\\r670964912,FALSE,finalized,3,2/10/15 2:03,\"Chicago, Il\",1,26-Jul-22,1,White,1,Na,1,Straight,1,1977,1,Best Supporting Actor,http://www.nndb.com/people/224/000032128/,,,All the President\\'s Men,Jason Robards,,,,\\r670964956,FALSE,finalized,3,2/10/15 2:01,\"Laurel, Ne\",1,31-Aug-28,1,White,1,Na,1,Straight,1,1999,1,Best Supporting Actor,http://www.nndb.com/people/764/000022698/,,,Affliction,James Coburn,,,,\\r670972898,FALSE,finalized,3,2/10/15 2:01,\"Nevada, Mo\",1,5-Aug-06,1,White,1,Na,1,Straight,1,1949,1,Best Director,http://www.nndb.com/people/704/000024632/,,,The Treasure of the Sierra Madre,John Huston,,,,'}"
      ]
     },
     "execution_count": 4,
     "metadata": {
      "tags": []
     },
     "output_type": "execute_result"
    }
   ],
   "source": [
    "# Upload data files from local or web\n",
    "from google.colab import files\n",
    "files.upload()"
   ]
  },
  {
   "cell_type": "code",
   "execution_count": 0,
   "metadata": {
    "colab": {
     "base_uri": "https://localhost:8080/",
     "height": 228
    },
    "colab_type": "code",
    "id": "EThzhpb1IGEg",
    "outputId": "a7657b3d-e8dd-41e3-e612-a167eae5eec6"
   },
   "outputs": [
    {
     "name": "stderr",
     "output_type": "stream",
     "text": [
      "spark-2.3.4-bin-hadoop2.7/python/pyspark/sql/session.py:340: UserWarning: inferring schema from dict is deprecated,please use pyspark.sql.Row instead\n",
      "  warnings.warn(\"inferring schema from dict is deprecated,\"\n"
     ]
    },
    {
     "name": "stdout",
     "output_type": "stream",
     "text": [
      "+-----+\n",
      "|hello|\n",
      "+-----+\n",
      "|world|\n",
      "|world|\n",
      "|world|\n",
      "+-----+\n",
      "only showing top 3 rows\n",
      "\n"
     ]
    }
   ],
   "source": [
    "df = spark.createDataFrame([{\"hello\": \"world\"} for x in range(10000)])\n",
    "df.show(3)"
   ]
  },
  {
   "cell_type": "code",
   "execution_count": 0,
   "metadata": {
    "colab": {
     "base_uri": "https://localhost:8080/",
     "height": 35
    },
    "colab_type": "code",
    "id": "7NVCVuGRIG1B",
    "outputId": "b9f52245-ca39-4320-cbcf-655be0e94413"
   },
   "outputs": [
    {
     "name": "stdout",
     "output_type": "stream",
     "text": [
      "<class 'pyspark.sql.dataframe.DataFrame'>\n"
     ]
    }
   ],
   "source": [
    "# Sample Data\n",
    "file_loc = './sample_data/california_housing_train.csv'\n",
    "df = spark.read.csv(file_loc, inferSchema=True, header=True)\n",
    "print(type(df))"
   ]
  },
  {
   "cell_type": "code",
   "execution_count": 0,
   "metadata": {
    "colab": {
     "base_uri": "https://localhost:8080/",
     "height": 208
    },
    "colab_type": "code",
    "id": "44iXhUcRImoK",
    "outputId": "72840882-6bb9-43db-a9ef-9561e75caf68"
   },
   "outputs": [
    {
     "name": "stdout",
     "output_type": "stream",
     "text": [
      "+---------+--------+------------------+-----------+--------------+----------+----------+-------------+------------------+\n",
      "|longitude|latitude|housing_median_age|total_rooms|total_bedrooms|population|households|median_income|median_house_value|\n",
      "+---------+--------+------------------+-----------+--------------+----------+----------+-------------+------------------+\n",
      "|  -114.31|   34.19|              15.0|     5612.0|        1283.0|    1015.0|     472.0|       1.4936|           66900.0|\n",
      "|  -114.47|    34.4|              19.0|     7650.0|        1901.0|    1129.0|     463.0|         1.82|           80100.0|\n",
      "|  -114.56|   33.69|              17.0|      720.0|         174.0|     333.0|     117.0|       1.6509|           85700.0|\n",
      "|  -114.57|   33.64|              14.0|     1501.0|         337.0|     515.0|     226.0|       3.1917|           73400.0|\n",
      "|  -114.57|   33.57|              20.0|     1454.0|         326.0|     624.0|     262.0|        1.925|           65500.0|\n",
      "+---------+--------+------------------+-----------+--------------+----------+----------+-------------+------------------+\n",
      "only showing top 5 rows\n",
      "\n"
     ]
    }
   ],
   "source": [
    "df.show(5)"
   ]
  },
  {
   "cell_type": "code",
   "execution_count": 0,
   "metadata": {
    "colab": {
     "base_uri": "https://localhost:8080/",
     "height": 55
    },
    "colab_type": "code",
    "id": "Fze2m3CNNWe5",
    "outputId": "142a7d91-e536-41da-f04e-74606e64badd"
   },
   "outputs": [
    {
     "data": {
      "text/plain": [
       "StructType(List(StructField(longitude,DoubleType,true),StructField(latitude,DoubleType,true),StructField(housing_median_age,DoubleType,true),StructField(total_rooms,DoubleType,true),StructField(total_bedrooms,DoubleType,true),StructField(population,DoubleType,true),StructField(households,DoubleType,true),StructField(median_income,DoubleType,true),StructField(median_house_value,DoubleType,true)))"
      ]
     },
     "execution_count": 48,
     "metadata": {
      "tags": []
     },
     "output_type": "execute_result"
    }
   ],
   "source": [
    "df.schema"
   ]
  },
  {
   "cell_type": "code",
   "execution_count": 0,
   "metadata": {
    "colab": {
     "base_uri": "https://localhost:8080/",
     "height": 173
    },
    "colab_type": "code",
    "id": "mgcPiby0QqRG",
    "outputId": "49688167-fab5-45ac-932a-a3bbfd731ced"
   },
   "outputs": [
    {
     "data": {
      "text/plain": [
       "[('longitude', 'double'),\n",
       " ('latitude', 'double'),\n",
       " ('housing_median_age', 'double'),\n",
       " ('total_rooms', 'double'),\n",
       " ('total_bedrooms', 'double'),\n",
       " ('population', 'double'),\n",
       " ('households', 'double'),\n",
       " ('median_income', 'double'),\n",
       " ('median_house_value', 'double')]"
      ]
     },
     "execution_count": 49,
     "metadata": {
      "tags": []
     },
     "output_type": "execute_result"
    }
   ],
   "source": [
    "df.dtypes"
   ]
  },
  {
   "cell_type": "code",
   "execution_count": 0,
   "metadata": {
    "colab": {
     "base_uri": "https://localhost:8080/",
     "height": 35
    },
    "colab_type": "code",
    "id": "OZy3DbL3Usto",
    "outputId": "36bc21c1-d74e-4273-cd62-b1274b920487"
   },
   "outputs": [
    {
     "data": {
      "text/plain": [
       "17000"
      ]
     },
     "execution_count": 51,
     "metadata": {
      "tags": []
     },
     "output_type": "execute_result"
    }
   ],
   "source": [
    "df.count()"
   ]
  },
  {
   "cell_type": "code",
   "execution_count": 0,
   "metadata": {
    "colab": {
     "base_uri": "https://localhost:8080/",
     "height": 295
    },
    "colab_type": "code",
    "id": "XBqs9v54UvHv",
    "outputId": "2666eef4-240f-4341-b613-ab9d105b64b2"
   },
   "outputs": [
    {
     "name": "stdout",
     "output_type": "stream",
     "text": [
      "+---------+----------+-------------+\n",
      "|longitude|households|median_income|\n",
      "+---------+----------+-------------+\n",
      "|  -114.31|     472.0|       1.4936|\n",
      "|  -114.47|     463.0|         1.82|\n",
      "|  -114.56|     117.0|       1.6509|\n",
      "|  -114.57|     226.0|       3.1917|\n",
      "|  -114.57|     262.0|        1.925|\n",
      "|  -114.58|     239.0|       3.3438|\n",
      "|  -114.58|     633.0|       2.6768|\n",
      "|  -114.59|     158.0|       1.7083|\n",
      "|  -114.59|    1056.0|       2.1782|\n",
      "|   -114.6|     271.0|       2.1908|\n",
      "+---------+----------+-------------+\n",
      "only showing top 10 rows\n",
      "\n"
     ]
    }
   ],
   "source": [
    "df.select(\"longitude\",\"households\",\"median_income\").show(10)"
   ]
  },
  {
   "cell_type": "code",
   "execution_count": 0,
   "metadata": {
    "colab": {
     "base_uri": "https://localhost:8080/",
     "height": 295
    },
    "colab_type": "code",
    "id": "8ypc2a6wVDG3",
    "outputId": "e9e67bb8-46ea-48d3-e298-97fa0395f2e1"
   },
   "outputs": [
    {
     "name": "stdout",
     "output_type": "stream",
     "text": [
      "+---------+--------+------------------+-----------+--------------+----------+----------+-------------+------------------+\n",
      "|longitude|latitude|housing_median_age|total_rooms|total_bedrooms|population|households|median_income|median_house_value|\n",
      "+---------+--------+------------------+-----------+--------------+----------+----------+-------------+------------------+\n",
      "|  -114.56|   33.69|              17.0|      720.0|         174.0|     333.0|     117.0|       1.6509|           85700.0|\n",
      "|  -114.59|   34.83|              41.0|      812.0|         168.0|     375.0|     158.0|       1.7083|           48500.0|\n",
      "|  -114.65|   32.79|              21.0|       44.0|          33.0|      64.0|      27.0|       0.8571|           25000.0|\n",
      "|  -114.67|   33.92|              17.0|       97.0|          24.0|      29.0|      15.0|       1.2656|           27500.0|\n",
      "|  -114.73|   33.43|              24.0|      796.0|         243.0|     227.0|     139.0|       0.8964|           59200.0|\n",
      "|  -114.94|   34.55|              20.0|      350.0|          95.0|     119.0|      58.0|        1.625|           50000.0|\n",
      "|  -114.98|   33.82|              15.0|      644.0|         129.0|     137.0|      52.0|       3.2097|           71300.0|\n",
      "|  -115.32|   32.82|              34.0|      591.0|         139.0|     327.0|      89.0|       3.6528|          100000.0|\n",
      "|  -115.37|   32.81|              32.0|      741.0|         191.0|     623.0|     169.0|       1.7604|           68600.0|\n",
      "|  -115.39|   32.76|              16.0|     1136.0|         196.0|     481.0|     185.0|       6.2558|          146300.0|\n",
      "+---------+--------+------------------+-----------+--------------+----------+----------+-------------+------------------+\n",
      "only showing top 10 rows\n",
      "\n"
     ]
    }
   ],
   "source": [
    "df.filter(df['households'] <200).show(10)"
   ]
  },
  {
   "cell_type": "code",
   "execution_count": 0,
   "metadata": {
    "colab": {
     "base_uri": "https://localhost:8080/",
     "height": 295
    },
    "colab_type": "code",
    "id": "AsdykM91VrCf",
    "outputId": "f23a1ef5-a7db-49a5-90b2-3253ce5a070b"
   },
   "outputs": [
    {
     "name": "stdout",
     "output_type": "stream",
     "text": [
      "+---------+-----+\n",
      "|longitude|count|\n",
      "+---------+-----+\n",
      "|  -119.04|   17|\n",
      "|  -121.27|   41|\n",
      "|  -122.61|   11|\n",
      "|  -116.06|    2|\n",
      "|  -117.55|   14|\n",
      "|  -119.07|    9|\n",
      "|   -120.3|    5|\n",
      "|  -120.88|    7|\n",
      "|  -121.22|   27|\n",
      "|  -122.02|   61|\n",
      "+---------+-----+\n",
      "only showing top 10 rows\n",
      "\n"
     ]
    }
   ],
   "source": [
    "df.groupby('longitude').count().show(10)"
   ]
  },
  {
   "cell_type": "code",
   "execution_count": 0,
   "metadata": {
    "colab": {
     "base_uri": "https://localhost:8080/",
     "height": 156
    },
    "colab_type": "code",
    "id": "QGkijlSZZ4EZ",
    "outputId": "fdde8f12-8013-49b2-e18e-396aba687fb1"
   },
   "outputs": [
    {
     "name": "stdout",
     "output_type": "stream",
     "text": [
      "+---------+--------+------------------+-----------+--------------+----------+----------+-------------+------------------+\n",
      "|longitude|latitude|housing_median_age|total_rooms|total_bedrooms|population|households|median_income|median_house_value|\n",
      "+---------+--------+------------------+-----------+--------------+----------+----------+-------------+------------------+\n",
      "|  -114.73|   33.43|              24.0|      796.0|         243.0|     227.0|     139.0|       0.8964|           59200.0|\n",
      "|  -118.14|   34.15|              52.0|      407.0|         160.0|     227.0|     148.0|       1.5156|          187500.0|\n",
      "|  -121.11|   37.43|              42.0|      412.0|          75.0|     227.0|      75.0|          2.5|           74200.0|\n",
      "+---------+--------+------------------+-----------+--------------+----------+----------+-------------+------------------+\n",
      "\n"
     ]
    }
   ],
   "source": [
    "df.filter(df[\"population\"].isin(227.0)).show(10)"
   ]
  },
  {
   "cell_type": "code",
   "execution_count": 0,
   "metadata": {
    "colab": {},
    "colab_type": "code",
    "collapsed": true,
    "id": "jlILyDEDadAz"
   },
   "outputs": [],
   "source": [
    "df2=df.filter(df[\"population\"].isin(227.0))"
   ]
  },
  {
   "cell_type": "code",
   "execution_count": 0,
   "metadata": {
    "colab": {
     "base_uri": "https://localhost:8080/",
     "height": 35
    },
    "colab_type": "code",
    "id": "VKk2lxy-Z2wZ",
    "outputId": "467882e2-3cdd-411e-df03-05ed3f821faf"
   },
   "outputs": [
    {
     "data": {
      "text/plain": [
       "3"
      ]
     },
     "execution_count": 14,
     "metadata": {
      "tags": []
     },
     "output_type": "execute_result"
    }
   ],
   "source": [
    "df2.count()"
   ]
  },
  {
   "cell_type": "code",
   "execution_count": 0,
   "metadata": {
    "colab": {
     "base_uri": "https://localhost:8080/",
     "height": 295
    },
    "colab_type": "code",
    "id": "W869_3ayYwRI",
    "outputId": "d9b63919-db16-4c7c-91d1-fb4f5ddc6b11"
   },
   "outputs": [
    {
     "name": "stdout",
     "output_type": "stream",
     "text": [
      "+---------+--------+------------------+-----------+--------------+----------+----------+-------------+------------------+\n",
      "|longitude|latitude|housing_median_age|total_rooms|total_bedrooms|population|households|median_income|median_house_value|\n",
      "+---------+--------+------------------+-----------+--------------+----------+----------+-------------+------------------+\n",
      "|  -114.57|   33.64|              14.0|     1501.0|         337.0|     515.0|     226.0|       3.1917|           73400.0|\n",
      "|  -114.58|   33.63|              29.0|     1387.0|         236.0|     671.0|     239.0|       3.3438|           74000.0|\n",
      "|  -114.58|   33.61|              25.0|     2907.0|         680.0|    1841.0|     633.0|       2.6768|           82400.0|\n",
      "|  -114.59|   33.61|              34.0|     4789.0|        1175.0|    3134.0|    1056.0|       2.1782|           58400.0|\n",
      "|   -114.6|   34.83|              46.0|     1497.0|         309.0|     787.0|     271.0|       2.1908|           48100.0|\n",
      "|   -114.6|   33.62|              16.0|     3741.0|         801.0|    2434.0|     824.0|       2.6797|           86500.0|\n",
      "|  -114.61|   34.84|              48.0|     1291.0|         248.0|     580.0|     211.0|       2.1571|           48600.0|\n",
      "|  -114.61|   34.83|              31.0|     2478.0|         464.0|    1346.0|     479.0|        3.212|           70400.0|\n",
      "|  -114.65|    33.6|              28.0|     1678.0|         322.0|     666.0|     256.0|       2.9653|           94900.0|\n",
      "|  -114.98|   33.82|              15.0|      644.0|         129.0|     137.0|      52.0|       3.2097|           71300.0|\n",
      "+---------+--------+------------------+-----------+--------------+----------+----------+-------------+------------------+\n",
      "only showing top 10 rows\n",
      "\n"
     ]
    }
   ],
   "source": [
    "df.filter(df[\"median_income\"].between(2, 24)).show(10)"
   ]
  },
  {
   "cell_type": "code",
   "execution_count": 0,
   "metadata": {
    "colab": {
     "base_uri": "https://localhost:8080/",
     "height": 295
    },
    "colab_type": "code",
    "id": "zlXvCCpxbDkX",
    "outputId": "d49964bd-e598-455f-d1aa-a6c0c685cb78"
   },
   "outputs": [
    {
     "name": "stdout",
     "output_type": "stream",
     "text": [
      "+---------+--------+-------------------+\n",
      "|longitude|latitude|(total_rooms + 100)|\n",
      "+---------+--------+-------------------+\n",
      "|  -114.31|   34.19|             5712.0|\n",
      "|  -114.47|    34.4|             7750.0|\n",
      "|  -114.56|   33.69|              820.0|\n",
      "|  -114.57|   33.64|             1601.0|\n",
      "|  -114.57|   33.57|             1554.0|\n",
      "|  -114.58|   33.63|             1487.0|\n",
      "|  -114.58|   33.61|             3007.0|\n",
      "|  -114.59|   34.83|              912.0|\n",
      "|  -114.59|   33.61|             4889.0|\n",
      "|   -114.6|   34.83|             1597.0|\n",
      "+---------+--------+-------------------+\n",
      "only showing top 10 rows\n",
      "\n"
     ]
    }
   ],
   "source": [
    "df.select(\"longitude\",\"latitude\",df[\"total_rooms\"]+100).show(10) # when applying transformation use df[\"col\"]"
   ]
  },
  {
   "cell_type": "code",
   "execution_count": 0,
   "metadata": {
    "colab": {
     "base_uri": "https://localhost:8080/",
     "height": 295
    },
    "colab_type": "code",
    "id": "tdjWz4MwdtME",
    "outputId": "b19fd0e3-6916-4b68-ed42-2ef9eb0055c6"
   },
   "outputs": [
    {
     "name": "stdout",
     "output_type": "stream",
     "text": [
      "+---------+--------+-----------+\n",
      "|longitude|latitude|total_rooms|\n",
      "+---------+--------+-----------+\n",
      "|  -114.31|   34.19|     5612.0|\n",
      "|  -114.47|    34.4|     7650.0|\n",
      "|  -114.56|   33.69|      720.0|\n",
      "|  -114.57|   33.64|     1501.0|\n",
      "|  -114.57|   33.57|     1454.0|\n",
      "|  -114.58|   33.63|     1387.0|\n",
      "|  -114.58|   33.61|     2907.0|\n",
      "|  -114.59|   34.83|      812.0|\n",
      "|  -114.59|   33.61|     4789.0|\n",
      "|   -114.6|   34.83|     1497.0|\n",
      "+---------+--------+-----------+\n",
      "only showing top 10 rows\n",
      "\n"
     ]
    }
   ],
   "source": [
    "df.select(\"longitude\",\"latitude\",\"total_rooms\").show(10)"
   ]
  },
  {
   "cell_type": "code",
   "execution_count": 0,
   "metadata": {
    "colab": {
     "base_uri": "https://localhost:8080/",
     "height": 295
    },
    "colab_type": "code",
    "id": "q7lC3dnCd3Ll",
    "outputId": "991a71bb-0a11-4ddb-e8ae-ff951bc8e21d"
   },
   "outputs": [
    {
     "name": "stdout",
     "output_type": "stream",
     "text": [
      "+---------+--------+------------------+-----------+--------------+----------+----------+-------------+------------------+-------+\n",
      "|longitude|latitude|housing_median_age|total_rooms|total_bedrooms|population|households|median_income|median_house_value|inc_cat|\n",
      "+---------+--------+------------------+-----------+--------------+----------+----------+-------------+------------------+-------+\n",
      "|  -114.31|   34.19|              15.0|     5612.0|        1283.0|    1015.0|     472.0|       1.4936|           66900.0|      0|\n",
      "|  -114.47|    34.4|              19.0|     7650.0|        1901.0|    1129.0|     463.0|         1.82|           80100.0|      0|\n",
      "|  -114.56|   33.69|              17.0|      720.0|         174.0|     333.0|     117.0|       1.6509|           85700.0|      0|\n",
      "|  -114.57|   33.64|              14.0|     1501.0|         337.0|     515.0|     226.0|       3.1917|           73400.0|      1|\n",
      "|  -114.57|   33.57|              20.0|     1454.0|         326.0|     624.0|     262.0|        1.925|           65500.0|      0|\n",
      "|  -114.58|   33.63|              29.0|     1387.0|         236.0|     671.0|     239.0|       3.3438|           74000.0|      1|\n",
      "|  -114.58|   33.61|              25.0|     2907.0|         680.0|    1841.0|     633.0|       2.6768|           82400.0|      1|\n",
      "|  -114.59|   34.83|              41.0|      812.0|         168.0|     375.0|     158.0|       1.7083|           48500.0|      0|\n",
      "|  -114.59|   33.61|              34.0|     4789.0|        1175.0|    3134.0|    1056.0|       2.1782|           58400.0|      1|\n",
      "|   -114.6|   34.83|              46.0|     1497.0|         309.0|     787.0|     271.0|       2.1908|           48100.0|      1|\n",
      "+---------+--------+------------------+-----------+--------------+----------+----------+-------------+------------------+-------+\n",
      "only showing top 10 rows\n",
      "\n"
     ]
    }
   ],
   "source": [
    "from pyspark.sql import functions as F\n",
    "df.select(\"*\",F.when(df[\"median_income\"] > 2, 1).otherwise(0).alias(\"inc_cat\")).show(10) \n",
    "\n"
   ]
  },
  {
   "cell_type": "code",
   "execution_count": 0,
   "metadata": {
    "colab": {
     "base_uri": "https://localhost:8080/",
     "height": 211
    },
    "colab_type": "code",
    "id": "BdFHL_rieqFr",
    "outputId": "58cd37f0-5924-4bce-c5a2-7e1795fae515"
   },
   "outputs": [
    {
     "name": "stdout",
     "output_type": "stream",
     "text": [
      "+-------+-------------------+------------------+------------------+-----------------+-----------------+------------------+-----------------+------------------+------------------+\n",
      "|summary|          longitude|          latitude|housing_median_age|      total_rooms|   total_bedrooms|        population|       households|     median_income|median_house_value|\n",
      "+-------+-------------------+------------------+------------------+-----------------+-----------------+------------------+-----------------+------------------+------------------+\n",
      "|  count|              17000|             17000|             17000|            17000|            17000|             17000|            17000|             17000|             17000|\n",
      "|   mean|-119.56210823529375|  35.6252247058827| 28.58935294117647|2643.664411764706|539.4108235294118|1429.5739411764705|501.2219411764706| 3.883578100000021|207300.91235294117|\n",
      "| stddev| 2.0051664084260357|2.1373397946570867|12.586936981660406|2179.947071452777|421.4994515798648| 1147.852959159527|384.5208408559016|1.9081565183791036|115983.76438720895|\n",
      "|    min|            -124.35|             32.54|               1.0|              2.0|              1.0|               3.0|              1.0|            0.4999|           14999.0|\n",
      "|    max|            -114.31|             41.95|              52.0|          37937.0|           6445.0|           35682.0|           6082.0|           15.0001|          500001.0|\n",
      "+-------+-------------------+------------------+------------------+-----------------+-----------------+------------------+-----------------+------------------+------------------+\n",
      "\n"
     ]
    }
   ],
   "source": [
    "df.describe().show()"
   ]
  },
  {
   "cell_type": "code",
   "execution_count": 0,
   "metadata": {
    "colab": {
     "base_uri": "https://localhost:8080/",
     "height": 55
    },
    "colab_type": "code",
    "id": "_AqwpAGWfkid",
    "outputId": "4caeb173-da34-4899-ce97-d6a5f9cff995"
   },
   "outputs": [
    {
     "data": {
      "text/plain": [
       "DataFrame[summary: string, longitude: string, latitude: string, housing_median_age: string, total_rooms: string, total_bedrooms: string, population: string, households: string, median_income: string, median_house_value: string]"
      ]
     },
     "execution_count": 82,
     "metadata": {
      "tags": []
     },
     "output_type": "execute_result"
    }
   ],
   "source": [
    "stat=df.describe()\n",
    "stat\n"
   ]
  },
  {
   "cell_type": "code",
   "execution_count": 0,
   "metadata": {
    "colab": {
     "base_uri": "https://localhost:8080/",
     "height": 191
    },
    "colab_type": "code",
    "id": "jLFxv5eOnLFM",
    "outputId": "9c18ca15-7e08-4ef5-9825-abcb7901513d"
   },
   "outputs": [
    {
     "data": {
      "text/plain": [
       "['summary',\n",
       " 'longitude',\n",
       " 'latitude',\n",
       " 'housing_median_age',\n",
       " 'total_rooms',\n",
       " 'total_bedrooms',\n",
       " 'population',\n",
       " 'households',\n",
       " 'median_income',\n",
       " 'median_house_value']"
      ]
     },
     "execution_count": 84,
     "metadata": {
      "tags": []
     },
     "output_type": "execute_result"
    }
   ],
   "source": [
    "stat.columns"
   ]
  },
  {
   "cell_type": "code",
   "execution_count": 0,
   "metadata": {
    "colab": {
     "base_uri": "https://localhost:8080/",
     "height": 89
    },
    "colab_type": "code",
    "id": "2rsbB73InN2s",
    "outputId": "4f289055-3368-4ea5-919d-5bb1443cde22"
   },
   "outputs": [
    {
     "data": {
      "text/plain": [
       "[Row(summary='count', longitude='17000', latitude='17000', housing_median_age='17000', total_rooms='17000', total_bedrooms='17000', population='17000', households='17000', median_income='17000', median_house_value='17000'),\n",
       " Row(summary='mean', longitude='-119.56210823529375', latitude='35.6252247058827', housing_median_age='28.58935294117647', total_rooms='2643.664411764706', total_bedrooms='539.4108235294118', population='1429.5739411764705', households='501.2219411764706', median_income='3.883578100000021', median_house_value='207300.91235294117'),\n",
       " Row(summary='stddev', longitude='2.0051664084260357', latitude='2.1373397946570867', housing_median_age='12.586936981660406', total_rooms='2179.947071452777', total_bedrooms='421.4994515798648', population='1147.852959159527', households='384.5208408559016', median_income='1.9081565183791036', median_house_value='115983.76438720895')]"
      ]
     },
     "execution_count": 85,
     "metadata": {
      "tags": []
     },
     "output_type": "execute_result"
    }
   ],
   "source": [
    "stat.head(3)"
   ]
  },
  {
   "cell_type": "code",
   "execution_count": 0,
   "metadata": {
    "colab": {
     "base_uri": "https://localhost:8080/",
     "height": 35
    },
    "colab_type": "code",
    "id": "_qM1Udfbnd7V",
    "outputId": "9c7b616c-0214-4cb5-a14f-e5f9a8f67c4d"
   },
   "outputs": [
    {
     "data": {
      "text/plain": [
       "Column<b'latitude'>"
      ]
     },
     "execution_count": 86,
     "metadata": {
      "tags": []
     },
     "output_type": "execute_result"
    }
   ],
   "source": [
    "stat[2]"
   ]
  },
  {
   "cell_type": "code",
   "execution_count": 0,
   "metadata": {
    "colab": {},
    "colab_type": "code",
    "collapsed": true,
    "id": "Uku4g1mwnkjD"
   },
   "outputs": [],
   "source": [
    "#add new column\n",
    "df = df.withColumn(\"New\",df[\"median_income\"]/df[\"median_house_value\"])"
   ]
  },
  {
   "cell_type": "code",
   "execution_count": 0,
   "metadata": {
    "colab": {
     "base_uri": "https://localhost:8080/",
     "height": 191
    },
    "colab_type": "code",
    "id": "O4hU2r2woDlb",
    "outputId": "aabbe777-f1aa-49ef-b5a1-384619bbd3c0"
   },
   "outputs": [
    {
     "data": {
      "text/plain": [
       "['longitude',\n",
       " 'latitude',\n",
       " 'housing_median_age',\n",
       " 'total_rooms',\n",
       " 'total_bedrooms',\n",
       " 'population',\n",
       " 'households',\n",
       " 'median_income',\n",
       " 'median_house_value',\n",
       " 'New']"
      ]
     },
     "execution_count": 89,
     "metadata": {
      "tags": []
     },
     "output_type": "execute_result"
    }
   ],
   "source": [
    "df.columns"
   ]
  },
  {
   "cell_type": "code",
   "execution_count": 0,
   "metadata": {
    "colab": {},
    "colab_type": "code",
    "collapsed": true,
    "id": "ycLGqeWXoheF"
   },
   "outputs": [],
   "source": [
    "df=df.drop(\"New\")"
   ]
  },
  {
   "cell_type": "code",
   "execution_count": 0,
   "metadata": {
    "colab": {
     "base_uri": "https://localhost:8080/",
     "height": 173
    },
    "colab_type": "code",
    "id": "4Sh3TM2XonO8",
    "outputId": "ecdbb1ff-2a6c-4b56-82d6-06ba430bfd9d"
   },
   "outputs": [
    {
     "data": {
      "text/plain": [
       "['longitude',\n",
       " 'latitude',\n",
       " 'housing_median_age',\n",
       " 'total_rooms',\n",
       " 'total_bedrooms',\n",
       " 'population',\n",
       " 'households',\n",
       " 'median_income',\n",
       " 'median_house_value']"
      ]
     },
     "execution_count": 93,
     "metadata": {
      "tags": []
     },
     "output_type": "execute_result"
    }
   ],
   "source": [
    "df.columns"
   ]
  },
  {
   "cell_type": "code",
   "execution_count": 0,
   "metadata": {
    "colab": {
     "base_uri": "https://localhost:8080/",
     "height": 295
    },
    "colab_type": "code",
    "id": "74pPuEF5o8h2",
    "outputId": "c3a1e506-e560-497a-9eeb-a5c7aeec5f55"
   },
   "outputs": [
    {
     "name": "stdout",
     "output_type": "stream",
     "text": [
      "+---------+------------------+\n",
      "|longitude|avg(median_income)|\n",
      "+---------+------------------+\n",
      "|  -119.04| 2.992947058823529|\n",
      "|  -121.27| 2.976824390243902|\n",
      "|  -122.61|4.4254727272727274|\n",
      "|  -116.06|           1.79185|\n",
      "|  -117.55|            4.3996|\n",
      "|  -119.07| 3.374211111111111|\n",
      "|   -120.3|2.7403799999999996|\n",
      "|  -120.88| 3.538828571428571|\n",
      "|  -121.22|3.3738740740740734|\n",
      "|  -122.02| 5.192816393442622|\n",
      "+---------+------------------+\n",
      "only showing top 10 rows\n",
      "\n"
     ]
    }
   ],
   "source": [
    "df.groupby('longitude').mean(\"median_income\").show(10)"
   ]
  },
  {
   "cell_type": "code",
   "execution_count": 0,
   "metadata": {
    "colab": {},
    "colab_type": "code",
    "collapsed": true,
    "id": "GByyJkdho9T9"
   },
   "outputs": [],
   "source": [
    "df_sorted=df.sort(\"total_rooms\", ascending=False) "
   ]
  },
  {
   "cell_type": "code",
   "execution_count": 0,
   "metadata": {
    "colab": {
     "base_uri": "https://localhost:8080/",
     "height": 295
    },
    "colab_type": "code",
    "id": "T5OJYTtsop_C",
    "outputId": "442050e0-a03a-405a-aa03-de04b855f61d"
   },
   "outputs": [
    {
     "name": "stdout",
     "output_type": "stream",
     "text": [
      "+---------+--------+------------------+-----------+--------------+----------+----------+-------------+------------------+\n",
      "|longitude|latitude|housing_median_age|total_rooms|total_bedrooms|population|households|median_income|median_house_value|\n",
      "+---------+--------+------------------+-----------+--------------+----------+----------+-------------+------------------+\n",
      "|  -117.74|   33.89|               4.0|    37937.0|        5471.0|   16122.0|    5189.0|       7.4947|          366300.0|\n",
      "|  -121.79|   36.64|              11.0|    32627.0|        6445.0|   28566.0|    6082.0|       2.3087|          118800.0|\n",
      "|  -117.78|   34.03|               8.0|    32054.0|        5290.0|   15507.0|    5050.0|       6.0191|          253900.0|\n",
      "|  -118.78|   34.16|               9.0|    30405.0|        4093.0|   12873.0|    3931.0|       8.0137|          399200.0|\n",
      "|  -117.12|   33.52|               4.0|    30401.0|        4957.0|   13251.0|    4339.0|       4.5841|          212300.0|\n",
      "|  -121.92|   37.53|               7.0|    28258.0|        3864.0|   12203.0|    3701.0|       8.4045|          451100.0|\n",
      "|  -117.87|   34.04|               7.0|    27700.0|        4179.0|   15037.0|    4072.0|       6.6288|          339700.0|\n",
      "|  -117.27|   33.68|               8.0|    26322.0|        4072.0|    9360.0|    3361.0|       5.3238|          228900.0|\n",
      "|  -118.46|    34.4|              12.0|    25957.0|        4798.0|   10475.0|    4490.0|        4.542|          195300.0|\n",
      "|   -118.9|   34.26|               5.0|    25187.0|        3521.0|   11956.0|    3478.0|       6.9712|          321300.0|\n",
      "+---------+--------+------------------+-----------+--------------+----------+----------+-------------+------------------+\n",
      "only showing top 10 rows\n",
      "\n"
     ]
    }
   ],
   "source": [
    "df_sorted.show(10)"
   ]
  },
  {
   "cell_type": "code",
   "execution_count": 0,
   "metadata": {
    "colab": {},
    "colab_type": "code",
    "collapsed": true,
    "id": "2OeyBydTU-iO"
   },
   "outputs": [],
   "source": [
    "df_ordered=df.orderBy(\"total_rooms\",ascending=False)"
   ]
  },
  {
   "cell_type": "code",
   "execution_count": 0,
   "metadata": {
    "colab": {
     "base_uri": "https://localhost:8080/",
     "height": 295
    },
    "colab_type": "code",
    "id": "Bzyzq_o5XQkK",
    "outputId": "65f95560-16c7-4fbe-b2a3-8a0d5d612b82"
   },
   "outputs": [
    {
     "name": "stdout",
     "output_type": "stream",
     "text": [
      "+---------+--------+------------------+-----------+--------------+----------+----------+-------------+------------------+\n",
      "|longitude|latitude|housing_median_age|total_rooms|total_bedrooms|population|households|median_income|median_house_value|\n",
      "+---------+--------+------------------+-----------+--------------+----------+----------+-------------+------------------+\n",
      "|  -117.74|   33.89|               4.0|    37937.0|        5471.0|   16122.0|    5189.0|       7.4947|          366300.0|\n",
      "|  -121.79|   36.64|              11.0|    32627.0|        6445.0|   28566.0|    6082.0|       2.3087|          118800.0|\n",
      "|  -117.78|   34.03|               8.0|    32054.0|        5290.0|   15507.0|    5050.0|       6.0191|          253900.0|\n",
      "|  -118.78|   34.16|               9.0|    30405.0|        4093.0|   12873.0|    3931.0|       8.0137|          399200.0|\n",
      "|  -117.12|   33.52|               4.0|    30401.0|        4957.0|   13251.0|    4339.0|       4.5841|          212300.0|\n",
      "|  -121.92|   37.53|               7.0|    28258.0|        3864.0|   12203.0|    3701.0|       8.4045|          451100.0|\n",
      "|  -117.87|   34.04|               7.0|    27700.0|        4179.0|   15037.0|    4072.0|       6.6288|          339700.0|\n",
      "|  -117.27|   33.68|               8.0|    26322.0|        4072.0|    9360.0|    3361.0|       5.3238|          228900.0|\n",
      "|  -118.46|    34.4|              12.0|    25957.0|        4798.0|   10475.0|    4490.0|        4.542|          195300.0|\n",
      "|   -118.9|   34.26|               5.0|    25187.0|        3521.0|   11956.0|    3478.0|       6.9712|          321300.0|\n",
      "+---------+--------+------------------+-----------+--------------+----------+----------+-------------+------------------+\n",
      "only showing top 10 rows\n",
      "\n"
     ]
    }
   ],
   "source": [
    "df_ordered.show(10)"
   ]
  },
  {
   "cell_type": "code",
   "execution_count": 0,
   "metadata": {
    "colab": {
     "base_uri": "https://localhost:8080/",
     "height": 295
    },
    "colab_type": "code",
    "id": "ZdiZNqCvU_IG",
    "outputId": "54345e26-1f59-412a-8240-6ace4ef346ef"
   },
   "outputs": [
    {
     "name": "stdout",
     "output_type": "stream",
     "text": [
      "+---------+--------+------------------+-----------+--------------+----------+----------+-------------+------------------+--------+\n",
      "|longitude|latitude|housing_median_age|total_rooms|total_bedrooms|population|households|median_income|median_house_value|Room_cat|\n",
      "+---------+--------+------------------+-----------+--------------+----------+----------+-------------+------------------+--------+\n",
      "|  -114.31|   34.19|              15.0|     5612.0|        1283.0|    1015.0|     472.0|       1.4936|           66900.0|       1|\n",
      "|  -114.47|    34.4|              19.0|     7650.0|        1901.0|    1129.0|     463.0|         1.82|           80100.0|       1|\n",
      "|  -114.56|   33.69|              17.0|      720.0|         174.0|     333.0|     117.0|       1.6509|           85700.0|       1|\n",
      "|  -114.57|   33.64|              14.0|     1501.0|         337.0|     515.0|     226.0|       3.1917|           73400.0|       1|\n",
      "|  -114.57|   33.57|              20.0|     1454.0|         326.0|     624.0|     262.0|        1.925|           65500.0|       1|\n",
      "|  -114.58|   33.63|              29.0|     1387.0|         236.0|     671.0|     239.0|       3.3438|           74000.0|       1|\n",
      "|  -114.58|   33.61|              25.0|     2907.0|         680.0|    1841.0|     633.0|       2.6768|           82400.0|       1|\n",
      "|  -114.59|   34.83|              41.0|      812.0|         168.0|     375.0|     158.0|       1.7083|           48500.0|       1|\n",
      "|  -114.59|   33.61|              34.0|     4789.0|        1175.0|    3134.0|    1056.0|       2.1782|           58400.0|       1|\n",
      "|   -114.6|   34.83|              46.0|     1497.0|         309.0|     787.0|     271.0|       2.1908|           48100.0|       1|\n",
      "+---------+--------+------------------+-----------+--------------+----------+----------+-------------+------------------+--------+\n",
      "only showing top 10 rows\n",
      "\n"
     ]
    }
   ],
   "source": [
    "#from pyspark.sql import functions as F\n",
    "#df.withColumn('Room_cat', F.when(df[\"median_income\"] > 1, 1).when(df[\"median_income\"]>5,2).otherwise(0)).show(10)\n",
    "#OR\n",
    "df.select(\"*\", F.when(df[\"median_income\"] > 1, 1).when(df[\"median_income\"]>5,2).otherwise(0).alias(\"Room_cat\")).show(10)"
   ]
  },
  {
   "cell_type": "code",
   "execution_count": 0,
   "metadata": {
    "colab": {
     "base_uri": "https://localhost:8080/",
     "height": 156
    },
    "colab_type": "code",
    "id": "0I5ExVc6U_ai",
    "outputId": "d4815a87-8551-4a4c-f5d9-d2e75c6346e0"
   },
   "outputs": [
    {
     "name": "stdout",
     "output_type": "stream",
     "text": [
      "+--------+-----+\n",
      "|Room_cat|count|\n",
      "+--------+-----+\n",
      "|       1| 6077|\n",
      "|       2| 7171|\n",
      "|       3| 3752|\n",
      "+--------+-----+\n",
      "\n"
     ]
    }
   ],
   "source": [
    "df=df.withColumn('Room_cat', F.when(df[\"median_income\"] > 5, 3).when(df[\"median_income\"]>3,2).otherwise(1))\n",
    "df.groupby(\"Room_cat\").count().orderBy(\"Room_cat\").show()"
   ]
  },
  {
   "cell_type": "code",
   "execution_count": 0,
   "metadata": {
    "colab": {},
    "colab_type": "code",
    "collapsed": true,
    "id": "8pOWJ35yU_9v"
   },
   "outputs": [],
   "source": [
    "#output\n",
    "df.select(\"*\").write.save(\"CA_Housing.json\",format=\"json\")"
   ]
  },
  {
   "cell_type": "markdown",
   "metadata": {
    "colab_type": "text",
    "id": "KH2WN4b9iQ-l"
   },
   "source": [
    "### Movies data\n"
   ]
  },
  {
   "cell_type": "code",
   "execution_count": 0,
   "metadata": {
    "colab": {},
    "colab_type": "code",
    "collapsed": true,
    "id": "SP3POmYqsZ9j"
   },
   "outputs": [],
   "source": [
    "movies = spark.read.csv('./Oscars.csv', inferSchema=True, header=True)\n"
   ]
  },
  {
   "cell_type": "code",
   "execution_count": 0,
   "metadata": {
    "colab": {
     "base_uri": "https://localhost:8080/",
     "height": 139
    },
    "colab_type": "code",
    "id": "uLkr6hbOtvTS",
    "outputId": "5ac819a9-2414-4228-d36c-5c72cc9d91b8"
   },
   "outputs": [
    {
     "name": "stdout",
     "output_type": "stream",
     "text": [
      "+-----------+----+\n",
      "|_unit_state|FREQ|\n",
      "+-----------+----+\n",
      "|     golden|  25|\n",
      "|  finalized| 416|\n",
      "+-----------+----+\n",
      "\n"
     ]
    }
   ],
   "source": [
    "movies.createOrReplaceTempView(\"oscar2\")\n",
    "spark.sql(\"SELECT distinct _unit_state, count(*) as FREQ FROM oscar2 WHERE year_of_award>1900 GROUP BY _unit_state\").show(10)"
   ]
  },
  {
   "cell_type": "code",
   "execution_count": 0,
   "metadata": {
    "colab": {},
    "colab_type": "code",
    "collapsed": true,
    "id": "TDu2Rn-kO0Es"
   },
   "outputs": [],
   "source": [
    "df2=spark.sql(\"SELECT * FROM oscar2 WHERE year_of_award>1900\")\n",
    "#spark.sql(\"CREATE TABLE df2 AS SELECT * FROM oscar2 WHERE year_of_award>1900\")"
   ]
  },
  {
   "cell_type": "code",
   "execution_count": 0,
   "metadata": {
    "colab": {},
    "colab_type": "code",
    "collapsed": true,
    "id": "cPnGmApt7gnX"
   },
   "outputs": [],
   "source": [
    "#df2.createOrReplaceTempView(\"df2v\") #you have to build view for each dataframe to use spark SQL\n",
    "spark.sql(\"SELECT * FROM df2 WHERE year_of_award>1903\").show(10)\n"
   ]
  },
  {
   "cell_type": "code",
   "execution_count": 0,
   "metadata": {
    "colab": {
     "base_uri": "https://localhost:8080/",
     "height": 35
    },
    "colab_type": "code",
    "id": "EuAG0m2U7yWu",
    "outputId": "f97e52b0-f6ac-418a-e926-0b4154af9836"
   },
   "outputs": [
    {
     "name": "stdout",
     "output_type": "stream",
     "text": [
      "part-00000-58ab17ad-5634-4d90-b4ba-be3a2ebf06c0-c000.csv  _SUCCESS\n"
     ]
    }
   ],
   "source": [
    "#save to CSV\n",
    "movies.write.csv(\"movies_new.csv\")\n",
    "!ls movies_new.csv"
   ]
  },
  {
   "cell_type": "code",
   "execution_count": 0,
   "metadata": {
    "colab": {
     "base_uri": "https://localhost:8080/",
     "height": 35
    },
    "colab_type": "code",
    "id": "BR6jx-h1NLI3",
    "outputId": "134b5e82-6032-444e-e6f5-ea74a5d41c66"
   },
   "outputs": [
    {
     "data": {
      "text/plain": [
       "'date_of_birth'"
      ]
     },
     "execution_count": 31,
     "metadata": {
      "tags": []
     },
     "output_type": "execute_result"
    }
   ],
   "source": [
    "vlist=movies.columns\n",
    "vlist[7]"
   ]
  },
  {
   "cell_type": "code",
   "execution_count": 0,
   "metadata": {
    "colab": {},
    "colab_type": "code",
    "collapsed": true,
    "id": "1cxDHOeoK3d8"
   },
   "outputs": [],
   "source": [
    "#from pyspark.sql.types import DateType\n",
    "#movies = movies.withColumn(\"BDT\", movies[vlist[7]].cast(DateType()))"
   ]
  },
  {
   "cell_type": "code",
   "execution_count": 0,
   "metadata": {
    "colab": {},
    "colab_type": "code",
    "collapsed": true,
    "id": "98kN77Z4O2im"
   },
   "outputs": [],
   "source": [
    "from pyspark.sql import functions as F\n",
    "movies=movies.select(\"*\",F.to_date(\"date_of_birth\", \"dd-MMM-yyyy\").alias(\"BDT\"))\n",
    "#alternaive not tested\n",
    "#from pyspark.sql.functions import expr\n",
    "#df.withColumn(\"test3\",expr(\"to_date(value, format)\")).show()"
   ]
  },
  {
   "cell_type": "code",
   "execution_count": 0,
   "metadata": {
    "colab": {
     "base_uri": "https://localhost:8080/",
     "height": 295
    },
    "colab_type": "code",
    "id": "D513v_16kCsX",
    "outputId": "3aeb0df7-a3a6-4181-c5b7-c8e803f73e2d"
   },
   "outputs": [
    {
     "name": "stdout",
     "output_type": "stream",
     "text": [
      "+-------------+----------+\n",
      "|date_of_birth|       BDT|\n",
      "+-------------+----------+\n",
      "|  30-Sep-1895|1895-09-30|\n",
      "|   2-Feb-1886|1886-02-02|\n",
      "|  30-Sep-1895|1895-09-30|\n",
      "|  23-Feb-1899|1899-02-23|\n",
      "|  23-Apr-1894|1894-04-23|\n",
      "|   2-Feb-1886|1886-02-02|\n",
      "|  18-May-1897|1897-05-18|\n",
      "|   1-Feb-1894|1894-02-01|\n",
      "|  18-May-1897|1897-05-18|\n",
      "|   3-Oct-1898|1898-10-03|\n",
      "+-------------+----------+\n",
      "only showing top 10 rows\n",
      "\n"
     ]
    }
   ],
   "source": [
    "spark.sql(\"SELECT date_of_birth, to_date(date_of_birth, 'dd-MMM-yyyy') as BDT FROM oscar2\").show(10)"
   ]
  },
  {
   "cell_type": "code",
   "execution_count": 0,
   "metadata": {
    "colab": {
     "base_uri": "https://localhost:8080/",
     "height": 121
    },
    "colab_type": "code",
    "id": "orLMobsZbKA3",
    "outputId": "6b2172ac-a81e-4261-eb4a-f7016cac780b"
   },
   "outputs": [
    {
     "name": "stdout",
     "output_type": "stream",
     "text": [
      "+-----+-----+\n",
      "|min_y|max_y|\n",
      "+-----+-----+\n",
      "|    4| 1936|\n",
      "+-----+-----+\n",
      "\n"
     ]
    }
   ],
   "source": [
    "spark.sql(\"SELECT min(year(to_date(date_of_birth, 'd-MMM-yyyy'))) as min_y, \\\n",
    "           max(year(to_date(date_of_birth, 'd-MMM-yyyy'))) as max_y FROM oscar2\").show()          "
   ]
  },
  {
   "cell_type": "code",
   "execution_count": 0,
   "metadata": {
    "colab": {
     "base_uri": "https://localhost:8080/",
     "height": 295
    },
    "colab_type": "code",
    "id": "oHWzcZgGbMLZ",
    "outputId": "85a18c21-de77-4761-878b-ebf8805adaa0"
   },
   "outputs": [
    {
     "name": "stdout",
     "output_type": "stream",
     "text": [
      "+-------------+\n",
      "|date_of_birth|\n",
      "+-------------+\n",
      "|    11-Oct-18|\n",
      "|    22-Jun-06|\n",
      "|     7-Sep-09|\n",
      "|     5-Aug-06|\n",
      "|    11-Feb-09|\n",
      "|    11-Feb-09|\n",
      "|    18-Dec-04|\n",
      "|    29-Apr-07|\n",
      "|     7-Sep-09|\n",
      "|    30-Jan-20|\n",
      "+-------------+\n",
      "only showing top 10 rows\n",
      "\n"
     ]
    }
   ],
   "source": [
    "spark.sql(\"SELECT date_of_birth \\\n",
    "           FROM oscar2 WHERE year(to_date(date_of_birth, 'dd-MMM-yyyy'))<=99\").show(10)          "
   ]
  },
  {
   "cell_type": "code",
   "execution_count": 0,
   "metadata": {
    "colab": {
     "base_uri": "https://localhost:8080/",
     "height": 121
    },
    "colab_type": "code",
    "id": "jWPUH7bCcM47",
    "outputId": "af215878-2989-426e-b71c-f43d46c038d4"
   },
   "outputs": [
    {
     "name": "stdout",
     "output_type": "stream",
     "text": [
      "+--------+\n",
      "|count(1)|\n",
      "+--------+\n",
      "|     361|\n",
      "+--------+\n",
      "\n"
     ]
    }
   ],
   "source": [
    "spark.sql(\"SELECT count(*) \\\n",
    "           FROM oscar2 WHERE year(to_date(date_of_birth, 'dd-MMM-yyyy'))<=100\").show(10)          "
   ]
  },
  {
   "cell_type": "code",
   "execution_count": 0,
   "metadata": {
    "colab": {
     "base_uri": "https://localhost:8080/",
     "height": 191
    },
    "colab_type": "code",
    "id": "xU2RctWBcOTe",
    "outputId": "1da0404d-3856-45ff-b13f-c2fd123cbe64"
   },
   "outputs": [
    {
     "name": "stdout",
     "output_type": "stream",
     "text": [
      "+-------------+----+\n",
      "|date_of_birth|  YR|\n",
      "+-------------+----+\n",
      "|    18-Dec-04|1904|\n",
      "|    18-Dec-04|1904|\n",
      "|    14-Apr-04|1904|\n",
      "|    31-May-04|1904|\n",
      "|    29-Sep-04|1904|\n",
      "+-------------+----+\n",
      "\n"
     ]
    }
   ],
   "source": [
    "spark.sql(\"SELECT date_of_birth, CASE WHEN year(to_date(date_of_birth, 'dd-MMM-yyyy')) < 100 THEN year(to_date(date_of_birth, 'dd-MMM-yyyy'))+1900 \\\n",
    "           ELSE year(to_date(date_of_birth, 'dd-MMM-yyyy')) END as YR FROM oscar2 WHERE year(to_date(date_of_birth, 'dd-MMM-yyyy'))=4\").show(10)          "
   ]
  },
  {
   "cell_type": "code",
   "execution_count": 0,
   "metadata": {
    "colab": {},
    "colab_type": "code",
    "collapsed": true,
    "id": "ZSYp9ZFpcPIt"
   },
   "outputs": [],
   "source": [
    "movies2=spark.sql(\"SELECT *, CASE WHEN year(to_date(date_of_birth, 'dd-MMM-yyyy')) < 100 \\\n",
    "           THEN year(to_date(date_of_birth, 'dd-MMM-yyyy'))+1900 \\\n",
    "           ELSE year(to_date(date_of_birth, 'dd-MMM-yyyy')) END as YR FROM oscar2\")          "
   ]
  },
  {
   "cell_type": "code",
   "execution_count": 0,
   "metadata": {
    "colab": {
     "base_uri": "https://localhost:8080/",
     "height": 503
    },
    "colab_type": "code",
    "id": "a0s16InMcPaU",
    "outputId": "8bd50bb1-8fc3-4cb8-c1c2-5b1f8384e9d2"
   },
   "outputs": [
    {
     "data": {
      "text/plain": [
       "[('_unit_id', 'int'),\n",
       " ('_golden', 'boolean'),\n",
       " ('_unit_state', 'string'),\n",
       " ('_trusted_judgments', 'int'),\n",
       " ('_last_judgment_at', 'string'),\n",
       " ('birthplace', 'string'),\n",
       " ('birthplace:confidence', 'double'),\n",
       " ('date_of_birth', 'string'),\n",
       " ('date_of_birth:confidence', 'double'),\n",
       " ('race_ethnicity', 'string'),\n",
       " ('race_ethnicity:confidence', 'double'),\n",
       " ('religion', 'string'),\n",
       " ('religion:confidence', 'double'),\n",
       " ('sexual_orientation', 'string'),\n",
       " ('sexual_orientation:confidence', 'double'),\n",
       " ('year_of_award', 'int'),\n",
       " ('year_of_award:confidence', 'double'),\n",
       " ('award', 'string'),\n",
       " ('biourl', 'string'),\n",
       " ('birthplace_gold', 'string'),\n",
       " ('date_of_birth_gold', 'string'),\n",
       " ('movie', 'string'),\n",
       " ('person', 'string'),\n",
       " ('race_ethnicity_gold', 'string'),\n",
       " ('religion_gold', 'string'),\n",
       " ('sexual_orientation_gold', 'string'),\n",
       " ('year_of_award_gold', 'int'),\n",
       " ('YR', 'int')]"
      ]
     },
     "execution_count": 31,
     "metadata": {
      "tags": []
     },
     "output_type": "execute_result"
    }
   ],
   "source": [
    "movies2.dtypes"
   ]
  },
  {
   "cell_type": "code",
   "execution_count": 0,
   "metadata": {
    "colab": {},
    "colab_type": "code",
    "collapsed": true,
    "id": "FZcfBL0dcPor"
   },
   "outputs": [],
   "source": []
  },
  {
   "cell_type": "code",
   "execution_count": 0,
   "metadata": {
    "colab": {},
    "colab_type": "code",
    "collapsed": true,
    "id": "Xib2OsZ0cPxa"
   },
   "outputs": [],
   "source": []
  },
  {
   "cell_type": "code",
   "execution_count": 0,
   "metadata": {
    "colab": {},
    "colab_type": "code",
    "collapsed": true,
    "id": "m8N45ZfdcSId"
   },
   "outputs": [],
   "source": []
  },
  {
   "cell_type": "code",
   "execution_count": 0,
   "metadata": {
    "colab": {
     "base_uri": "https://localhost:8080/",
     "height": 166
    },
    "colab_type": "code",
    "id": "vxBK0VV3O24F",
    "outputId": "cb9f0c68-3982-4153-8371-a6e123360b15"
   },
   "outputs": [
    {
     "ename": "NameError",
     "evalue": "ignored",
     "output_type": "error",
     "traceback": [
      "\u001b[0;31m---------------------------------------------------------------------------\u001b[0m",
      "\u001b[0;31mNameError\u001b[0m                                 Traceback (most recent call last)",
      "\u001b[0;32m<ipython-input-21-433415db11a1>\u001b[0m in \u001b[0;36m<module>\u001b[0;34m()\u001b[0m\n\u001b[0;32m----> 1\u001b[0;31m \u001b[0mmovies\u001b[0m\u001b[0;34m[\u001b[0m\u001b[0mvlist\u001b[0m\u001b[0;34m[\u001b[0m\u001b[0;36m7\u001b[0m\u001b[0;34m]\u001b[0m\u001b[0;34m,\u001b[0m\u001b[0;34m\"BDT\"\u001b[0m\u001b[0;34m]\u001b[0m\u001b[0;34m.\u001b[0m\u001b[0mshow\u001b[0m\u001b[0;34m(\u001b[0m\u001b[0;36m10\u001b[0m\u001b[0;34m)\u001b[0m\u001b[0;34m\u001b[0m\u001b[0;34m\u001b[0m\u001b[0m\n\u001b[0m",
      "\u001b[0;31mNameError\u001b[0m: name 'vlist' is not defined"
     ]
    }
   ],
   "source": [
    "movies[vlist[7],\"BDT\"].show(10)"
   ]
  },
  {
   "cell_type": "code",
   "execution_count": 0,
   "metadata": {
    "colab": {},
    "colab_type": "code",
    "collapsed": true,
    "id": "EQXDpE8f8JTa"
   },
   "outputs": [],
   "source": [
    "movies=movies.withColumn(\"recency\",F.when(F.year(movies[\"BDT\"])>1884,1).otherwise(0))"
   ]
  },
  {
   "cell_type": "code",
   "execution_count": 0,
   "metadata": {
    "colab": {
     "base_uri": "https://localhost:8080/",
     "height": 139
    },
    "colab_type": "code",
    "id": "PZ1MWdkSl_WD",
    "outputId": "eba904f0-1388-458a-a61f-a6b33f86e52c"
   },
   "outputs": [
    {
     "name": "stdout",
     "output_type": "stream",
     "text": [
      "+-------+-----+\n",
      "|recency|count|\n",
      "+-------+-----+\n",
      "|      1|   67|\n",
      "|      0|  374|\n",
      "+-------+-----+\n",
      "\n"
     ]
    }
   ],
   "source": [
    "movies.groupBy(\"recency\").count().show()"
   ]
  },
  {
   "cell_type": "code",
   "execution_count": 0,
   "metadata": {
    "colab": {},
    "colab_type": "code",
    "collapsed": true,
    "id": "YHTotoidm4JU"
   },
   "outputs": [],
   "source": [
    "#change data type\n",
    "#from pyspark.sql.types import DoubleType\n",
    "#movies = movies.withColumn(\"vote_avg_num\", movies[\"vote_average\"].cast(DoubleType()))\n"
   ]
  },
  {
   "cell_type": "code",
   "execution_count": 0,
   "metadata": {
    "colab": {
     "base_uri": "https://localhost:8080/",
     "height": 35
    },
    "colab_type": "code",
    "id": "1_P4BF6ZgWxe",
    "outputId": "ff6fef9c-3c1f-4e2a-9e24-63e998c60f58"
   },
   "outputs": [
    {
     "data": {
      "text/plain": [
       "29"
      ]
     },
     "execution_count": 42,
     "metadata": {
      "tags": []
     },
     "output_type": "execute_result"
    }
   ],
   "source": [
    "len(movies.columns)"
   ]
  },
  {
   "cell_type": "code",
   "execution_count": 0,
   "metadata": {
    "colab": {
     "base_uri": "https://localhost:8080/",
     "height": 35
    },
    "colab_type": "code",
    "id": "kr5PBbjggXBk",
    "outputId": "ed4122c1-8468-49c6-850e-94af456bc071"
   },
   "outputs": [
    {
     "data": {
      "text/plain": [
       "['BDT', 'recency']"
      ]
     },
     "execution_count": 48,
     "metadata": {
      "tags": []
     },
     "output_type": "execute_result"
    }
   ],
   "source": [
    "vlist=movies.columns\n",
    "vlist[-2:]"
   ]
  },
  {
   "cell_type": "code",
   "execution_count": 0,
   "metadata": {
    "colab": {
     "base_uri": "https://localhost:8080/",
     "height": 208
    },
    "colab_type": "code",
    "id": "23gJST7cyfgl",
    "outputId": "c1274fcf-e659-4e90-be67-a9b106b25295"
   },
   "outputs": [
    {
     "name": "stdout",
     "output_type": "stream",
     "text": [
      "+---------+-----+\n",
      "|year(BDT)|count|\n",
      "+---------+-----+\n",
      "|     1936|    1|\n",
      "|     1903|    6|\n",
      "|     1902|    5|\n",
      "|     1901|    8|\n",
      "|     1900|    5|\n",
      "+---------+-----+\n",
      "only showing top 5 rows\n",
      "\n"
     ]
    }
   ],
   "source": [
    "movies.groupBy(F.year(\"BDT\")).count().orderBy(F.year(\"BDT\"), ascending=False).show(5)"
   ]
  },
  {
   "cell_type": "code",
   "execution_count": 0,
   "metadata": {
    "colab": {
     "base_uri": "https://localhost:8080/",
     "height": 520
    },
    "colab_type": "code",
    "id": "kGkzaey3ToBG",
    "outputId": "d678de70-e745-42b0-e0fe-1cb7b7fb27a1"
   },
   "outputs": [
    {
     "name": "stdout",
     "output_type": "stream",
     "text": [
      "_unit_id 0\n",
      "_golden 0\n",
      "_unit_state 0\n",
      "_trusted_judgments 0\n",
      "_last_judgment_at 25\n",
      "birthplace 0\n",
      "birthplace:confidence 0\n",
      "date_of_birth 0\n",
      "date_of_birth:confidence 0\n",
      "race_ethnicity 0\n",
      "race_ethnicity:confidence 0\n",
      "religion 0\n",
      "religion:confidence 0\n",
      "sexual_orientation 0\n",
      "sexual_orientation:confidence 0\n",
      "year_of_award 0\n",
      "year_of_award:confidence 0\n",
      "award 0\n",
      "biourl 0\n",
      "birthplace_gold 432\n",
      "date_of_birth_gold 433\n",
      "movie 0\n",
      "person 0\n",
      "race_ethnicity_gold 439\n",
      "religion_gold 431\n",
      "sexual_orientation_gold 438\n",
      "year_of_award_gold 430\n",
      "BDT 1\n",
      "recency 0\n"
     ]
    }
   ],
   "source": [
    "#movies.select([count(when(isnan(c), c)) for c in movies.columns]).show()\n",
    "for c in vlist:\n",
    "  K=movies.filter(movies[c].isNull()).count()\n",
    "  print(c, K)"
   ]
  },
  {
   "cell_type": "code",
   "execution_count": 0,
   "metadata": {
    "colab": {
     "base_uri": "https://localhost:8080/",
     "height": 228
    },
    "colab_type": "code",
    "id": "ICNZkxM-VMqY",
    "outputId": "56d5a2a7-5d1d-49bf-f088-606c9d89cb04"
   },
   "outputs": [
    {
     "name": "stdout",
     "output_type": "stream",
     "text": [
      "+---------+-------+-----------+------------------+-----------------+------------------+---------------------+-------------+------------------------+--------------+-------------------------+--------------+-------------------+------------------+-----------------------------+-------------+------------------------+-------------+--------------------+---------------+------------------+--------------------+---------------+-------------------+-------------+-----------------------+------------------+----------+-------+\n",
      "| _unit_id|_golden|_unit_state|_trusted_judgments|_last_judgment_at|        birthplace|birthplace:confidence|date_of_birth|date_of_birth:confidence|race_ethnicity|race_ethnicity:confidence|      religion|religion:confidence|sexual_orientation|sexual_orientation:confidence|year_of_award|year_of_award:confidence|        award|              biourl|birthplace_gold|date_of_birth_gold|               movie|         person|race_ethnicity_gold|religion_gold|sexual_orientation_gold|year_of_award_gold|       BDT|recency|\n",
      "+---------+-------+-----------+------------------+-----------------+------------------+---------------------+-------------+------------------------+--------------+-------------------------+--------------+-------------------+------------------+-----------------------------+-------------+------------------------+-------------+--------------------+---------------+------------------+--------------------+---------------+-------------------+-------------+-----------------------+------------------+----------+-------+\n",
      "|670454353|  false|  finalized|                 3|     2/10/15 3:45| Chisinau, Moldova|                  1.0|  30-Sep-1895|                     1.0|         White|                      1.0|            Na|                1.0|          Straight|                          1.0|         1927|                     1.0|Best Director|http://www.nndb.c...|           null|              null| Two Arabian Knights|Lewis Milestone|               null|         null|                   null|              null|1895-09-30|      1|\n",
      "|670454354|  false|  finalized|                 3|     2/10/15 2:03| Glasgow, Scotland|                  1.0|   2-Feb-1886|                     1.0|         White|                      1.0|            Na|                1.0|          Straight|                       0.6842|         1930|                     1.0|Best Director|http://www.nndb.c...|           null|              null|     The Divine Lady|    Frank Lloyd|               null|         null|                   null|              null|1886-02-02|      1|\n",
      "|670454355|  false|  finalized|                 3|     2/10/15 2:05| Chisinau, Moldova|                  1.0|  30-Sep-1895|                     1.0|         White|                      1.0|            Na|                1.0|          Straight|                          1.0|         1931|                  0.6667|Best Director|http://www.nndb.c...|           null|              null|All Quiet on the ...|Lewis Milestone|               null|         null|                   null|              null|1895-09-30|      1|\n",
      "|670454356|  false|  finalized|                 3|     2/10/15 2:04|       Chicago, Il|                  1.0|  23-Feb-1899|                     1.0|         White|                      1.0|            Na|                1.0|          Straight|                          1.0|         1932|                     1.0|Best Director|http://www.nndb.c...|           null|              null|              Skippy|  Norman Taurog|               null|         null|                   null|              null|1899-02-23|      1|\n",
      "|670454357|  false|  finalized|                 3|     2/10/15 1:48|Salt Lake City, Ut|                  1.0|  23-Apr-1894|                     1.0|         White|                      1.0|Roman Catholic|                1.0|          Straight|                          1.0|         1933|                     1.0|Best Director|http://www.nndb.c...|           null|              null|            Bad Girl|  Frank Borzage|               null|         null|                   null|              null|1894-04-23|      1|\n",
      "+---------+-------+-----------+------------------+-----------------+------------------+---------------------+-------------+------------------------+--------------+-------------------------+--------------+-------------------+------------------+-----------------------------+-------------+------------------------+-------------+--------------------+---------------+------------------+--------------------+---------------+-------------------+-------------+-----------------------+------------------+----------+-------+\n",
      "only showing top 5 rows\n",
      "\n"
     ]
    }
   ],
   "source": [
    "#movies.where(movies[\"race_ethnicity_gold\"].isNull()).select(\"*\").show(5)\n",
    "#OR\n",
    "#movies.select(\"*\").filter(movies[\"race_ethnicity_gold\"].isNull()).show(5)\n",
    "#OR \n",
    "movies.filter(movies[\"race_ethnicity_gold\"].isNull()).select(\"*\").show(5)"
   ]
  },
  {
   "cell_type": "code",
   "execution_count": 0,
   "metadata": {
    "colab": {
     "base_uri": "https://localhost:8080/",
     "height": 55
    },
    "colab_type": "code",
    "id": "ff-Td9m7X5LN",
    "outputId": "61df43fe-a361-46fb-8c2d-a7830e3c47d8"
   },
   "outputs": [
    {
     "data": {
      "text/plain": [
       "StructType(List(StructField(_unit_id,IntegerType,true),StructField(_golden,BooleanType,true),StructField(_unit_state,StringType,true),StructField(_trusted_judgments,IntegerType,true),StructField(_last_judgment_at,StringType,true),StructField(birthplace,StringType,true),StructField(birthplace:confidence,DoubleType,true),StructField(date_of_birth,StringType,true),StructField(date_of_birth:confidence,DoubleType,true),StructField(race_ethnicity,StringType,true),StructField(race_ethnicity:confidence,DoubleType,true),StructField(religion,StringType,true),StructField(religion:confidence,DoubleType,true),StructField(sexual_orientation,StringType,true),StructField(sexual_orientation:confidence,DoubleType,true),StructField(year_of_award,IntegerType,true),StructField(year_of_award:confidence,DoubleType,true),StructField(award,StringType,true),StructField(biourl,StringType,true),StructField(birthplace_gold,StringType,true),StructField(date_of_birth_gold,StringType,true),StructField(movie,StringType,true),StructField(person,StringType,true),StructField(race_ethnicity_gold,StringType,true),StructField(religion_gold,StringType,true),StructField(sexual_orientation_gold,StringType,true),StructField(year_of_award_gold,IntegerType,true),StructField(BDT,DateType,true),StructField(recency,IntegerType,false)))"
      ]
     },
     "execution_count": 58,
     "metadata": {
      "tags": []
     },
     "output_type": "execute_result"
    }
   ],
   "source": [
    "movies.schema\n",
    "#[\"title\"]\n",
    "#fields = [StructField(\"title\", StringType(), True)]\n",
    "#schema = StructType(fields)\n"
   ]
  },
  {
   "cell_type": "code",
   "execution_count": 0,
   "metadata": {
    "colab": {},
    "colab_type": "code",
    "collapsed": true,
    "id": "8XqEu4tI_8Y-"
   },
   "outputs": [],
   "source": [
    "#import os\n",
    "#from pyspark import SparkConf\n",
    "\n",
    "#SUBMIT_ARGS = \"--packages com.databricks:spark-csv_2.11:1.2.0 pyspark-shell\"\n",
    "#os.environ[\"PYSPARK_SUBMIT_ARGS\"] = SUBMIT_ARGS\n",
    "#conf = SparkConf()\n",
    "\n",
    "#from pyspark import SparkContext\n",
    "#sc = SparkContext(conf=conf)"
   ]
  },
  {
   "cell_type": "code",
   "execution_count": 0,
   "metadata": {
    "colab": {
     "base_uri": "https://localhost:8080/",
     "height": 139
    },
    "colab_type": "code",
    "id": "rCWDS96yqhD_",
    "outputId": "cc8e1f63-9e6f-4cc0-8529-85b068058e8b"
   },
   "outputs": [
    {
     "name": "stdout",
     "output_type": "stream",
     "text": [
      "+-----------+\n",
      "|_unit_state|\n",
      "+-----------+\n",
      "|     golden|\n",
      "|  finalized|\n",
      "+-----------+\n",
      "\n"
     ]
    }
   ],
   "source": [
    "movies.select(\"_unit_state\").distinct().show()"
   ]
  },
  {
   "cell_type": "code",
   "execution_count": 0,
   "metadata": {
    "colab": {
     "base_uri": "https://localhost:8080/",
     "height": 139
    },
    "colab_type": "code",
    "id": "G2BTHRfgtrYM",
    "outputId": "73c8f131-68f2-47f2-f83a-9d95ad682a9b"
   },
   "outputs": [
    {
     "name": "stdout",
     "output_type": "stream",
     "text": [
      "+-----------+------------------------+\n",
      "|_unit_state|avg(religion:confidence)|\n",
      "+-----------+------------------------+\n",
      "|     golden|      0.9954040000000001|\n",
      "|  finalized|      0.9890108173076926|\n",
      "+-----------+------------------------+\n",
      "\n"
     ]
    }
   ],
   "source": [
    "movies.groupBy(\"_unit_state\").mean(\"religion:confidence\").show()"
   ]
  },
  {
   "cell_type": "code",
   "execution_count": 0,
   "metadata": {
    "colab": {
     "base_uri": "https://localhost:8080/",
     "height": 572
    },
    "colab_type": "code",
    "id": "Pv43sgFM9YMC",
    "outputId": "ee5ccf0e-d694-4132-841b-74f0b241d4d4"
   },
   "outputs": [
    {
     "data": {
      "text/plain": [
       "[('_unit_id', 'int'),\n",
       " ('_golden', 'boolean'),\n",
       " ('_unit_state', 'string'),\n",
       " ('_trusted_judgments', 'int'),\n",
       " ('_last_judgment_at', 'string'),\n",
       " ('birthplace', 'string'),\n",
       " ('birthplace:confidence', 'double'),\n",
       " ('date_of_birth', 'string'),\n",
       " ('date_of_birth:confidence', 'double'),\n",
       " ('race_ethnicity', 'string'),\n",
       " ('race_ethnicity:confidence', 'double'),\n",
       " ('religion', 'string'),\n",
       " ('religion:confidence', 'double'),\n",
       " ('sexual_orientation', 'string'),\n",
       " ('sexual_orientation:confidence', 'double'),\n",
       " ('year_of_award', 'int'),\n",
       " ('year_of_award:confidence', 'double'),\n",
       " ('award', 'string'),\n",
       " ('biourl', 'string'),\n",
       " ('birthplace_gold', 'string'),\n",
       " ('date_of_birth_gold', 'string'),\n",
       " ('movie', 'string'),\n",
       " ('person', 'string'),\n",
       " ('race_ethnicity_gold', 'string'),\n",
       " ('religion_gold', 'string'),\n",
       " ('sexual_orientation_gold', 'string'),\n",
       " ('year_of_award_gold', 'int'),\n",
       " ('BDT', 'date'),\n",
       " ('recency', 'int'),\n",
       " ('Age', 'int'),\n",
       " ('BYR', 'int'),\n",
       " ('BYR_New', 'int')]"
      ]
     },
     "execution_count": 122,
     "metadata": {
      "tags": []
     },
     "output_type": "execute_result"
    }
   ],
   "source": [
    "#movies=movies.withColumn(\"BYR\",F.year('BDT'))\n",
    "#movies=movies.withColumn(\"BYR_New\", F.when(movies['BYR']<1000,1900+movies[\"BYR\"]).otherwse(movies[\"BYR\"]))\n",
    "movies.dtypes"
   ]
  },
  {
   "cell_type": "code",
   "execution_count": 0,
   "metadata": {
    "colab": {
     "base_uri": "https://localhost:8080/",
     "height": 295
    },
    "colab_type": "code",
    "id": "nPEYzmsmW5lS",
    "outputId": "fa82565d-893b-472d-ddf2-735c6a3d9f4b"
   },
   "outputs": [
    {
     "name": "stdout",
     "output_type": "stream",
     "text": [
      "+-------+----+---------+\n",
      "|BYR_New| BYR|year(BDT)|\n",
      "+-------+----+---------+\n",
      "|   null|1895|     1895|\n",
      "|   null|1886|     1886|\n",
      "|   null|1895|     1895|\n",
      "|   null|1899|     1899|\n",
      "|   null|1894|     1894|\n",
      "|   null|1886|     1886|\n",
      "|   null|1897|     1897|\n",
      "|   null|1894|     1894|\n",
      "|   null|1897|     1897|\n",
      "|   null|1898|     1898|\n",
      "+-------+----+---------+\n",
      "only showing top 10 rows\n",
      "\n"
     ]
    }
   ],
   "source": [
    "movies.where(movies[])select('BYR_New','BYR',F.year(movies['BDT'])).filter(show(10)"
   ]
  },
  {
   "cell_type": "code",
   "execution_count": 0,
   "metadata": {
    "colab": {},
    "colab_type": "code",
    "collapsed": true,
    "id": "Pv-4Fu8B9Yb0"
   },
   "outputs": [],
   "source": []
  },
  {
   "cell_type": "code",
   "execution_count": 0,
   "metadata": {
    "colab": {},
    "colab_type": "code",
    "collapsed": true,
    "id": "5ZWTJ3Sdxzes"
   },
   "outputs": [],
   "source": [
    "movies=movies.withColumn(\"Age\", movies[\"year_of_award\"]-F.year(movies[\"BDT\"]))"
   ]
  },
  {
   "cell_type": "code",
   "execution_count": 0,
   "metadata": {
    "colab": {
     "base_uri": "https://localhost:8080/",
     "height": 295
    },
    "colab_type": "code",
    "id": "lwASA-fJyN3_",
    "outputId": "d430f0ea-86ed-43a6-8b35-5e647b8a12f4"
   },
   "outputs": [
    {
     "name": "stdout",
     "output_type": "stream",
     "text": [
      "+---+-------------+----------+\n",
      "|Age|year_of_award|       BDT|\n",
      "+---+-------------+----------+\n",
      "| 32|         1927|1895-09-30|\n",
      "| 44|         1930|1886-02-02|\n",
      "| 36|         1931|1895-09-30|\n",
      "| 33|         1932|1899-02-23|\n",
      "| 39|         1933|1894-04-23|\n",
      "| 48|         1934|1886-02-02|\n",
      "| 38|         1935|1897-05-18|\n",
      "| 42|         1936|1894-02-01|\n",
      "| 40|         1937|1897-05-18|\n",
      "| 40|         1938|1898-10-03|\n",
      "+---+-------------+----------+\n",
      "only showing top 10 rows\n",
      "\n"
     ]
    }
   ],
   "source": [
    "movies.select(\"Age\",\"year_of_award\", \"BDT\").show(10)"
   ]
  },
  {
   "cell_type": "code",
   "execution_count": 0,
   "metadata": {
    "colab": {
     "base_uri": "https://localhost:8080/",
     "height": 537
    },
    "colab_type": "code",
    "id": "Er4ifZmOywiz",
    "outputId": "d79da7f5-d358-4db7-fdd8-98b91c2d2945"
   },
   "outputs": [
    {
     "name": "stdout",
     "output_type": "stream",
     "text": [
      "0 _unit_id\n",
      "1 _golden\n",
      "2 _unit_state\n",
      "3 _trusted_judgments\n",
      "4 _last_judgment_at\n",
      "5 birthplace\n",
      "6 birthplace:confidence\n",
      "7 date_of_birth\n",
      "8 date_of_birth:confidence\n",
      "9 race_ethnicity\n",
      "10 race_ethnicity:confidence\n",
      "11 religion\n",
      "12 religion:confidence\n",
      "13 sexual_orientation\n",
      "14 sexual_orientation:confidence\n",
      "15 year_of_award\n",
      "16 year_of_award:confidence\n",
      "17 award\n",
      "18 biourl\n",
      "19 birthplace_gold\n",
      "20 date_of_birth_gold\n",
      "21 movie\n",
      "22 person\n",
      "23 race_ethnicity_gold\n",
      "24 religion_gold\n",
      "25 sexual_orientation_gold\n",
      "26 year_of_award_gold\n",
      "27 BDT\n",
      "28 recency\n",
      "29 Age\n"
     ]
    }
   ],
   "source": [
    "K=-1\n",
    "for c in movies.columns:\n",
    "  K+=1\n",
    "  print(K, c)\n"
   ]
  },
  {
   "cell_type": "code",
   "execution_count": 0,
   "metadata": {
    "colab": {
     "base_uri": "https://localhost:8080/",
     "height": 468
    },
    "colab_type": "code",
    "id": "i5QOSzJ20K8m",
    "outputId": "696c659e-ed20-4160-a9df-e924da9fc4a2"
   },
   "outputs": [
    {
     "name": "stdout",
     "output_type": "stream",
     "text": [
      "+--------------------+------------------+\n",
      "|            religion|          avg(Age)|\n",
      "+--------------------+------------------+\n",
      "|            Agnostic|            1978.0|\n",
      "|   Christian Science|            1931.5|\n",
      "|              Quaker|            1952.5|\n",
      "|             Baptist|            1938.8|\n",
      "|           Christian|             989.0|\n",
      "|      Roman Catholic| 1382.032786885246|\n",
      "|            Lutheran|1946.6666666666667|\n",
      "|   Congregationalist|            1933.0|\n",
      "|Anglican/episcopa...|            1000.0|\n",
      "|            Buddhist|            1931.0|\n",
      "|               Deist|            1939.0|\n",
      "|Born-Again Christian|            1938.4|\n",
      "| Disciples of Christ|            1940.0|\n",
      "|          Protestant|            1565.2|\n",
      "|              Jewish|           1792.32|\n",
      "|                  Na|1561.8320895522388|\n",
      "|               Hindu|            1934.0|\n",
      "|              Sufism|            1943.0|\n",
      "|           Methodist|            1927.0|\n",
      "|        Presbyterian|            1934.5|\n",
      "+--------------------+------------------+\n",
      "only showing top 20 rows\n",
      "\n"
     ]
    }
   ],
   "source": [
    "movies.groupBy(\"religion\").mean(\"Age\").show()"
   ]
  },
  {
   "cell_type": "code",
   "execution_count": 0,
   "metadata": {
    "colab": {
     "base_uri": "https://localhost:8080/",
     "height": 211
    },
    "colab_type": "code",
    "id": "w3Yah3pE0oAX",
    "outputId": "98ce71eb-d921-499f-ae6d-ffbd38ccc9b2"
   },
   "outputs": [
    {
     "name": "stdout",
     "output_type": "stream",
     "text": [
      "+-------+-------------------+-----------+------------------+-----------------+--------------------+---------------------+-------------+------------------------+--------------+-------------------------+--------+-------------------+------------------+-----------------------------+------------------+------------------------+--------------------+--------------------+--------------------+------------------+----------------+------------+-------------------+--------------------+-----------------------+------------------+-------------------+-----------------+\n",
      "|summary|           _unit_id|_unit_state|_trusted_judgments|_last_judgment_at|          birthplace|birthplace:confidence|date_of_birth|date_of_birth:confidence|race_ethnicity|race_ethnicity:confidence|religion|religion:confidence|sexual_orientation|sexual_orientation:confidence|     year_of_award|year_of_award:confidence|               award|              biourl|     birthplace_gold|date_of_birth_gold|           movie|      person|race_ethnicity_gold|       religion_gold|sexual_orientation_gold|year_of_award_gold|            recency|              Age|\n",
      "+-------+-------------------+-----------+------------------+-----------------+--------------------+---------------------+-------------+------------------------+--------------+-------------------------+--------+-------------------+------------------+-----------------------------+------------------+------------------------+--------------------+--------------------+--------------------+------------------+----------------+------------+-------------------+--------------------+-----------------------+------------------+-------------------+-----------------+\n",
      "|  count|                441|        441|               441|              416|                 441|                  441|          441|                     441|           441|                      441|     441|                441|               441|                          441|               441|                     441|                 441|                 441|                   9|                 8|             441|         441|                  2|                  10|                      3|                11|                441|              440|\n",
      "|   mean|6.704824702517006E8|       null|  7.63718820861678|             null|                null|   0.9952594104308389|       1972.0|      0.9966065759637187|          null|       0.9991303854875284|    null| 0.9893732426303856|              null|            0.992390476190476|1973.1655328798186|      0.9900820861678005|                null|                null|                null|              null|            null|        null|               null|                null|                   null|1977.3636363636363|0.15192743764172337|1602.759090909091|\n",
      "| stddev|  113997.4480652991|       null|19.015540899806773|             null|                null| 0.038917480398411065|          NaN|    0.032059736534451155|          null|     0.016438264177498895|    null|0.06561006304923879|              null|         0.049457977111887624| 24.03089470300162|    0.059177392191166175|                null|                null|                null|              null|            null|        null|               null|                null|                   null|21.592928135260983| 0.3593582084709698|727.2428984887791|\n",
      "|    min|          670454353|  finalized|                 3|     2/10/15 1:43|       Arlington, Va|               0.6571|   1-Apr-1885|                  0.6562|         Asian|                   0.6571|Agnostic|             0.3333|          Bisexual|                       0.6571|              1927|                  0.3333|          Best Actor|http://www.nndb.c...|          Bascom, Fl|         11-Dec-67|12 Years a Slave|Adrien Brody|              Black|Born-Again Christian|               Bisexual|              1942|                  0|               28|\n",
      "|    max|          670972898|     golden|                95|     2/10/15 4:21|York, North Yorks...|                  1.0|     9-Sep-23|                     1.0|         White|                      1.0|  Sufism|                1.0|          Straight|                          1.0|              2014|                     1.0|Best Supporting A...|http://www.nndb.c...|Sucha, Galicia, A...|          9-Jul-56|     the V.I.P.s| Yul Brynner|              White|      Roman Catholic|               Straight|              2006|                  1|             1983|\n",
      "+-------+-------------------+-----------+------------------+-----------------+--------------------+---------------------+-------------+------------------------+--------------+-------------------------+--------+-------------------+------------------+-----------------------------+------------------+------------------------+--------------------+--------------------+--------------------+------------------+----------------+------------+-------------------+--------------------+-----------------------+------------------+-------------------+-----------------+\n",
      "\n"
     ]
    }
   ],
   "source": [
    "movies.describe().show()"
   ]
  },
  {
   "cell_type": "code",
   "execution_count": 0,
   "metadata": {
    "colab": {
     "base_uri": "https://localhost:8080/",
     "height": 295
    },
    "colab_type": "code",
    "id": "kevSEYan08aq",
    "outputId": "2bd44e9b-ffc1-4284-9431-a2cf7376859b"
   },
   "outputs": [
    {
     "name": "stdout",
     "output_type": "stream",
     "text": [
      "+---------+-------------+----------+----+-------------+\n",
      "| _unit_id|date_of_birth|       BDT| Age|date_of_birth|\n",
      "+---------+-------------+----------+----+-------------+\n",
      "|670454370|    11-Oct-18|0018-10-11|1944|    11-Oct-18|\n",
      "|670454371|    22-Jun-06|0006-06-22|1940|    22-Jun-06|\n",
      "|670454373|     7-Sep-09|0009-09-07|1939|     7-Sep-09|\n",
      "|670454374|     5-Aug-06|0006-08-05|1943|     5-Aug-06|\n",
      "|670454375|    11-Feb-09|0009-02-11|1941|    11-Feb-09|\n",
      "|670454376|    11-Feb-09|0009-02-11|1942|    11-Feb-09|\n",
      "|670454377|    18-Dec-04|0004-12-18|1948|    18-Dec-04|\n",
      "|670454379|    29-Apr-07|0007-04-29|1947|    29-Apr-07|\n",
      "|670454380|     7-Sep-09|0009-09-07|1946|     7-Sep-09|\n",
      "|670454381|    30-Jan-20|0020-01-30|1936|    30-Jan-20|\n",
      "+---------+-------------+----------+----+-------------+\n",
      "only showing top 10 rows\n",
      "\n"
     ]
    }
   ],
   "source": [
    "movies.select(\"_unit_id\",\"date_of_birth\",\"BDT\",\"Age\",\"date_of_birth\").filter(movies[\"Age\"]>100).show(10)"
   ]
  },
  {
   "cell_type": "code",
   "execution_count": 0,
   "metadata": {
    "colab": {
     "base_uri": "https://localhost:8080/",
     "height": 35
    },
    "colab_type": "code",
    "id": "Da1COUvD1sqN",
    "outputId": "3de78fa8-423b-4076-a9de-8860d47eb5ed"
   },
   "outputs": [
    {
     "data": {
      "text/plain": [
       "441"
      ]
     },
     "execution_count": 94,
     "metadata": {
      "tags": []
     },
     "output_type": "execute_result"
    }
   ],
   "source": [
    "movies.select(\"_unit_id\").distinct().count()"
   ]
  },
  {
   "cell_type": "code",
   "execution_count": 0,
   "metadata": {
    "colab": {
     "base_uri": "https://localhost:8080/",
     "height": 35
    },
    "colab_type": "code",
    "id": "oH9jo-f32EBK",
    "outputId": "7fe41c0a-2e7b-4172-f1bb-10077714e54b"
   },
   "outputs": [
    {
     "data": {
      "text/plain": [
       "441"
      ]
     },
     "execution_count": 95,
     "metadata": {
      "tags": []
     },
     "output_type": "execute_result"
    }
   ],
   "source": [
    "movies.count()"
   ]
  },
  {
   "cell_type": "code",
   "execution_count": 0,
   "metadata": {
    "colab": {
     "base_uri": "https://localhost:8080/",
     "height": 35
    },
    "colab_type": "code",
    "id": "ZQ9z1Zzm2G2k",
    "outputId": "6e835008-028c-4416-994a-f3399f3f9b16"
   },
   "outputs": [
    {
     "data": {
      "text/plain": [
       "0.18023255813953487"
      ]
     },
     "execution_count": 96,
     "metadata": {
      "tags": []
     },
     "output_type": "execute_result"
    }
   ],
   "source": [
    "31000/172000"
   ]
  },
  {
   "cell_type": "code",
   "execution_count": 0,
   "metadata": {
    "colab": {},
    "colab_type": "code",
    "collapsed": true,
    "id": "VvPxJPH18vB8"
   },
   "outputs": [],
   "source": []
  }
 ],
 "metadata": {
  "colab": {
   "collapsed_sections": [],
   "name": "My1stGoogleColabNB.ipynb",
   "provenance": []
  },
  "kernelspec": {
   "display_name": "Python 3",
   "language": "python",
   "name": "python3"
  },
  "language_info": {
   "codemirror_mode": {
    "name": "ipython",
    "version": 3
   },
   "file_extension": ".py",
   "mimetype": "text/x-python",
   "name": "python",
   "nbconvert_exporter": "python",
   "pygments_lexer": "ipython3",
   "version": "3.6.1"
  }
 },
 "nbformat": 4,
 "nbformat_minor": 1
}
